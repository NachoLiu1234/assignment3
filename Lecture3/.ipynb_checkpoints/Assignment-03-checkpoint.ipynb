{
 "cells": [
  {
   "cell_type": "markdown",
   "metadata": {},
   "source": [
    "## Assignment-03 First Step of Machine Learning: Model and Evaluation"
   ]
  },
  {
   "cell_type": "markdown",
   "metadata": {},
   "source": [
    "同学们，今天我们的学习了基本的机器学习概念，相比你已经对机器学习的这些方法有一个基本的认识了。值得说明的是，机器学习不仅仅是一系列方法，更重要的是一种思维体系，即：依据以往的、现有的数据，构建某种方法来解决未见过的问题。而且决策树，贝叶斯只是实现这个目标的一个方法，包括之后的神经网络。很有可能有一天，神经网络也会被淘汰，但是重要的是我们要理解机器学习的目标，就是尽可能的自动化解决未知的问题。"
   ]
  },
  {
   "cell_type": "markdown",
   "metadata": {},
   "source": [
    "![](https://timgsa.baidu.com/timg?image&quality=80&size=b9999_10000&sec=1571556399207&di=4a97dc15ad08dd49d3748d1edf6109b3&imgtype=0&src=http%3A%2F%2Fc.hiphotos.baidu.com%2Fzhidao%2Fwh%3D450%2C600%2Fsign%3Dae742c6aedcd7b89e93932873a146e91%2F5d6034a85edf8db1b16050c40223dd54574e74c7.jpg)"
   ]
  },
  {
   "cell_type": "markdown",
   "metadata": {},
   "source": [
    "## Part-1 Programming Review 编程回顾"
   ]
  },
  {
   "cell_type": "markdown",
   "metadata": {},
   "source": [
    "#### 1. Re-code the Linear-Regression Model using scikit-learning(10 points)"
   ]
  },
  {
   "cell_type": "markdown",
   "metadata": {},
   "source": [
    "<评阅点>： \n",
    "> + 是否完成线性回归模型 (4')\n",
    "+ 能够进行预测新数据(3')\n",
    "+ 能够进行可视化操作(3')"
   ]
  },
  {
   "cell_type": "code",
   "execution_count": 128,
   "metadata": {},
   "outputs": [],
   "source": [
    "# you code here\n",
    "import matplotlib\n",
    "%matplotlib inline\n",
    "import matplotlib.pyplot as plt\n",
    "import numpy as np\n",
    "import pandas as pd\n",
    "import random"
   ]
  },
  {
   "cell_type": "code",
   "execution_count": 129,
   "metadata": {},
   "outputs": [
    {
     "data": {
      "text/plain": [
       "<matplotlib.collections.PathCollection at 0x19cf9c4c8d0>"
      ]
     },
     "execution_count": 129,
     "metadata": {},
     "output_type": "execute_result"
    },
    {
     "data": {
      "image/png": "[encoded data removed]",
      "text/plain": [
       "<Figure size 432x288 with 1 Axes>"
      ]
     },
     "metadata": {
      "needs_background": "light"
     },
     "output_type": "display_data"
    }
   ],
   "source": [
    "x = np.linspace(1,30, 100)\n",
    "y = [el * 12 + 4+ random.random() * 100 for el in x]\n",
    "plt.scatter(x, y)"
   ]
  },
  {
   "cell_type": "code",
   "execution_count": 130,
   "metadata": {},
   "outputs": [],
   "source": [
    "from sklearn.linear_model import LinearRegression"
   ]
  },
  {
   "cell_type": "code",
   "execution_count": 131,
   "metadata": {},
   "outputs": [],
   "source": [
    "reg = LinearRegression().fit(x.reshape(-1, 1), y)"
   ]
  },
  {
   "cell_type": "code",
   "execution_count": 132,
   "metadata": {},
   "outputs": [
    {
     "data": {
      "text/plain": [
       "array([12.35000019])"
      ]
     },
     "execution_count": 132,
     "metadata": {},
     "output_type": "execute_result"
    }
   ],
   "source": [
    "reg.coef_"
   ]
  },
  {
   "cell_type": "code",
   "execution_count": 133,
   "metadata": {},
   "outputs": [
    {
     "data": {
      "text/plain": [
       "49.59878020072853"
      ]
     },
     "execution_count": 133,
     "metadata": {},
     "output_type": "execute_result"
    }
   ],
   "source": [
    "reg.intercept_"
   ]
  },
  {
   "cell_type": "code",
   "execution_count": 134,
   "metadata": {},
   "outputs": [],
   "source": [
    "y_hat = [el * reg.coef_ + reg.intercept_ for el in x]"
   ]
  },
  {
   "cell_type": "code",
   "execution_count": 135,
   "metadata": {},
   "outputs": [
    {
     "data": {
      "text/plain": [
       "<matplotlib.collections.PathCollection at 0x19cf9cbf2e8>"
      ]
     },
     "execution_count": 135,
     "metadata": {},
     "output_type": "execute_result"
    },
    {
     "data": {
      "image/png": "[encoded data removed]",
      "text/plain": [
       "<Figure size 432x288 with 1 Axes>"
      ]
     },
     "metadata": {
      "needs_background": "light"
     },
     "output_type": "display_data"
    }
   ],
   "source": [
    "plt.scatter(x, y_hat)\n",
    "plt.scatter(x, y)"
   ]
  },
  {
   "cell_type": "code",
   "execution_count": 136,
   "metadata": {},
   "outputs": [],
   "source": [
    "def predict(x):\n",
    "    return x * reg.coef_ + reg.intercept_"
   ]
  },
  {
   "cell_type": "code",
   "execution_count": 137,
   "metadata": {},
   "outputs": [
    {
     "name": "stdout",
     "output_type": "stream",
     "text": [
      "12 [197.79878242]\n"
     ]
    }
   ],
   "source": [
    "print(12, predict(12))"
   ]
  },
  {
   "cell_type": "markdown",
   "metadata": {},
   "source": [
    "#### 2. Complete the unfinished KNN Model using pure python to solve the previous Line-Regression problem. (8 points)"
   ]
  },
  {
   "cell_type": "markdown",
   "metadata": {},
   "source": [
    "<评阅点>:\n",
    "> + 是否完成了KNN模型 (4')\n",
    "+ 是否能够预测新的数据 (4')"
   ]
  },
  {
   "cell_type": "code",
   "execution_count": 138,
   "metadata": {},
   "outputs": [],
   "source": [
    "# you code here\n",
    "from scipy.spatial.distance import cosine\n",
    "def distance(x1, x2):\n",
    "    return cosine(x1, x2)\n",
    "def model(x, y):\n",
    "    return list(zip(x, y))\n",
    "def predict(x_2, k=5):\n",
    "    m = model(x, y)\n",
    "    sorted_m = sorted(m, key=lambda xi: distance(xi[0], x_2))\n",
    "    print(sorted_m[:k])\n",
    "    return sum([el[1] for el in sorted_m[:k]]) / k\n",
    "\n",
    "\n",
    "m = model(x, y)"
   ]
  },
  {
   "cell_type": "code",
   "execution_count": 139,
   "metadata": {
    "scrolled": true
   },
   "outputs": [
    {
     "name": "stdout",
     "output_type": "stream",
     "text": [
      "[(1.878787878787879, 30.421222513369734), (2.757575757575758, 115.71597262920216), (6.858585858585858, 109.99983156828752), (7.151515151515151, 115.83059347081625), (8.90909090909091, 164.1610730868851)]\n"
     ]
    },
    {
     "data": {
      "text/plain": [
       "107.22573865371214"
      ]
     },
     "execution_count": 139,
     "metadata": {},
     "output_type": "execute_result"
    }
   ],
   "source": [
    "predict(5.123456, k=5)"
   ]
  },
  {
   "cell_type": "code",
   "execution_count": null,
   "metadata": {},
   "outputs": [],
   "source": []
  },
  {
   "cell_type": "markdown",
   "metadata": {},
   "source": [
    "# 想问一下老师, 这是上课的代码的东西, 为什么这里的distance不用欧氏距离, 而是要用from scipy.spatial.distance import cosine的 $$ 1 - {u ·v / ||u||_2 ||v||_2} $$ , 这个公式的几何意义是什么啊"
   ]
  },
  {
   "cell_type": "code",
   "execution_count": null,
   "metadata": {},
   "outputs": [],
   "source": []
  },
  {
   "cell_type": "code",
   "execution_count": null,
   "metadata": {},
   "outputs": [],
   "source": []
  },
  {
   "cell_type": "code",
   "execution_count": null,
   "metadata": {},
   "outputs": [],
   "source": []
  },
  {
   "cell_type": "markdown",
   "metadata": {},
   "source": [
    "#### 3. Re-code the Decision Tree, which could sort the features by salience. (12 points)"
   ]
  },
  {
   "cell_type": "markdown",
   "metadata": {},
   "source": [
    "<评阅点>\n",
    "> + 是否实现了信息熵 (1' )\n",
    "+ 是否实现了最优先特征点的选择(5')\n",
    "+ 是否实现了持续的特征选则(6')"
   ]
  },
  {
   "cell_type": "code",
   "execution_count": 140,
   "metadata": {},
   "outputs": [],
   "source": [
    "# you code here\n",
    "mock_data = {\n",
    "    'gender':['F', 'F', 'F', 'F', 'M', 'M', 'M'],\n",
    "    'income': ['+10', '-10', '+10', '+10', '+10', '+10', '-10'],\n",
    "    'family_number': [1, 1, 2, 1, 1, 1, 2],\n",
    "    'bought': [1, 1, 1, 0, 0, 0, 1],\n",
    "}"
   ]
  },
  {
   "cell_type": "code",
   "execution_count": 141,
   "metadata": {},
   "outputs": [
    {
     "data": {
      "text/html": [
       "<div>\n",
       "<style scoped>\n",
       "    .dataframe tbody tr th:only-of-type {\n",
       "        vertical-align: middle;\n",
       "    }\n",
       "\n",
       "    .dataframe tbody tr th {\n",
       "        vertical-align: top;\n",
       "    }\n",
       "\n",
       "    .dataframe thead th {\n",
       "        text-align: right;\n",
       "    }\n",
       "</style>\n",
       "<table border=\"1\" class=\"dataframe\">\n",
       "  <thead>\n",
       "    <tr style=\"text-align: right;\">\n",
       "      <th></th>\n",
       "      <th>gender</th>\n",
       "      <th>income</th>\n",
       "      <th>family_number</th>\n",
       "      <th>bought</th>\n",
       "    </tr>\n",
       "  </thead>\n",
       "  <tbody>\n",
       "    <tr>\n",
       "      <th>0</th>\n",
       "      <td>F</td>\n",
       "      <td>+10</td>\n",
       "      <td>1</td>\n",
       "      <td>1</td>\n",
       "    </tr>\n",
       "    <tr>\n",
       "      <th>1</th>\n",
       "      <td>F</td>\n",
       "      <td>-10</td>\n",
       "      <td>1</td>\n",
       "      <td>1</td>\n",
       "    </tr>\n",
       "    <tr>\n",
       "      <th>2</th>\n",
       "      <td>F</td>\n",
       "      <td>+10</td>\n",
       "      <td>2</td>\n",
       "      <td>1</td>\n",
       "    </tr>\n",
       "    <tr>\n",
       "      <th>3</th>\n",
       "      <td>F</td>\n",
       "      <td>+10</td>\n",
       "      <td>1</td>\n",
       "      <td>0</td>\n",
       "    </tr>\n",
       "    <tr>\n",
       "      <th>4</th>\n",
       "      <td>M</td>\n",
       "      <td>+10</td>\n",
       "      <td>1</td>\n",
       "      <td>0</td>\n",
       "    </tr>\n",
       "    <tr>\n",
       "      <th>5</th>\n",
       "      <td>M</td>\n",
       "      <td>+10</td>\n",
       "      <td>1</td>\n",
       "      <td>0</td>\n",
       "    </tr>\n",
       "    <tr>\n",
       "      <th>6</th>\n",
       "      <td>M</td>\n",
       "      <td>-10</td>\n",
       "      <td>2</td>\n",
       "      <td>1</td>\n",
       "    </tr>\n",
       "  </tbody>\n",
       "</table>\n",
       "</div>"
      ],
      "text/plain": [
       "  gender income  family_number  bought\n",
       "0      F    +10              1       1\n",
       "1      F    -10              1       1\n",
       "2      F    +10              2       1\n",
       "3      F    +10              1       0\n",
       "4      M    +10              1       0\n",
       "5      M    +10              1       0\n",
       "6      M    -10              2       1"
      ]
     },
     "execution_count": 141,
     "metadata": {},
     "output_type": "execute_result"
    }
   ],
   "source": [
    "dataset = pd.DataFrame.from_dict(mock_data)\n",
    "dataset"
   ]
  },
  {
   "cell_type": "code",
   "execution_count": 142,
   "metadata": {},
   "outputs": [
    {
     "data": {
      "text/plain": [
       "-0.0"
      ]
     },
     "execution_count": 142,
     "metadata": {},
     "output_type": "execute_result"
    }
   ],
   "source": [
    "from collections import Counter\n",
    "def entropy(lis):\n",
    "    length = len(lis)\n",
    "    counter = Counter(lis)\n",
    "    lis  = [counter[el] / length for el in lis]\n",
    "    return -sum([el * np.log(el) for el in lis])\n",
    "entropy([1, 1, 1, 1])"
   ]
  },
  {
   "cell_type": "code",
   "execution_count": 143,
   "metadata": {},
   "outputs": [],
   "source": [
    "devide_set = set(dataset.columns)\n",
    "from collections import deque"
   ]
  },
  {
   "cell_type": "code",
   "execution_count": 144,
   "metadata": {},
   "outputs": [
    {
     "name": "stdout",
     "output_type": "stream",
     "text": [
      "[('family_number',), ('family_number', 'gender'), ('family_number', 'income'), ('family_number', 'income', 'bought'), ('family_number', 'income', 'bought', 'gender')]\n",
      "{'family_number': {'gender': {}, 'income': {'bought': {'gender': {}}}}}\n"
     ]
    }
   ],
   "source": [
    "def decision_tree(dataset):\n",
    "    def get_column(data, columns):\n",
    "        entropy_dic = {}\n",
    "        for column in columns:\n",
    "            status = list(set(data[column]))\n",
    "            sum_entropy = 0\n",
    "            for i in range(len(status)):\n",
    "                sum_entropy += entropy(data[data[column] == status[i]])\n",
    "            entropy_dic[column] = sum_entropy\n",
    "        entropy_dic = sorted([(k, v) for k, v in entropy_dic.items()], key=lambda x: x[1])\n",
    "        return entropy_dic[0][0]\n",
    "    \n",
    "    dataset = [([], dataset)]  # [([('family_number', 1), ('income', '+10'), ], dataset)]\n",
    "    finished_dataset = []\n",
    "    \n",
    "    while len(dataset):\n",
    "        dataset_tuple = dataset.pop(-1)  # ([('family_number', 1), ('income', '+10'), ], dataset)\n",
    "        data = dataset_tuple[1]  # dataset\n",
    "        column_path = dataset_tuple[0]  # [('family_number', '1'), ('income', '+10'), ]\n",
    "        \n",
    "        if devide_set - set([path[0] for path in column_path]) == set():\n",
    "            finished_dataset.append(dataset_tuple)\n",
    "            continue\n",
    "        column = get_column(data, devide_set - set([path[0] for path in column_path]))\n",
    "        values = set(data[column])\n",
    "        for value in values:\n",
    "            sub_data= data[data[column] == value]\n",
    "            new_column_path = column_path.copy()\n",
    "            new_column_path.append((column, value))\n",
    "            new_dataset_tuple = [new_column_path, sub_data]\n",
    "            if len(sub_data) <= 1:\n",
    "                finished_dataset.append(new_dataset_tuple)\n",
    "            else:\n",
    "                dataset.append(new_dataset_tuple)\n",
    "    \n",
    "    temp_set = set()  # [('family_number',), ('family_number', 'gender'), ('family_number', 'income'), ('family_number', 'income', 'bought'), ('family_number', 'income', 'bought', 'gender')]\n",
    "    for el in [el[0] for el in finished_dataset]:  # [('family_number', 2), ('gender', 'M')]\n",
    "        lis = [e[0] for e in el]  # ['family_number', 'income', 'bought', 'gender']\n",
    "        for i in range(len(lis)):\n",
    "            temp_set.add(tuple(lis[:i + 1]))\n",
    "            \n",
    "    return_dict = {}\n",
    "    temp_set= sorted(list(temp_set), key=lambda x: len(x))\n",
    "    for el in temp_set:\n",
    "        sub_return_dict  = return_dict\n",
    "        for sub_el in el:\n",
    "            if not sub_el in sub_return_dict:\n",
    "                sub_return_dict[sub_el] = {}\n",
    "            sub_return_dict = sub_return_dict[sub_el]\n",
    "    print(temp_set)\n",
    "    print(return_dict)\n",
    "    \n",
    "decision_tree(dataset)\n",
    "    \n",
    "    \n",
    "    "
   ]
  },
  {
   "cell_type": "code",
   "execution_count": null,
   "metadata": {},
   "outputs": [],
   "source": []
  },
  {
   "cell_type": "markdown",
   "metadata": {},
   "source": [
    "#### 4. Finish the K-Means using 2-D matplotlib (8 points)"
   ]
  },
  {
   "cell_type": "markdown",
   "metadata": {},
   "source": [
    "<评阅点>\n",
    "> + 是否完成了KMeans模型，基于scikit-learning (3')\n",
    "+ 是否完成了可视化任务（5'）"
   ]
  },
  {
   "cell_type": "code",
   "execution_count": 145,
   "metadata": {},
   "outputs": [],
   "source": [
    "from sklearn.cluster import KMeans"
   ]
  },
  {
   "cell_type": "code",
   "execution_count": 146,
   "metadata": {},
   "outputs": [],
   "source": [
    "X = [random.random() * 20 for _ in range(50)]\n",
    "X.extend([random.random() * 20 + 25 for _ in range(50)])\n",
    "random.shuffle(X)\n",
    "Y = [random.random() * 20 for _ in range(50)]\n",
    "Y.extend([random.random() * 20 + 25 for _ in range(50)])\n",
    "random.shuffle(Y)"
   ]
  },
  {
   "cell_type": "code",
   "execution_count": 147,
   "metadata": {},
   "outputs": [],
   "source": [
    "data = [(x, y) for x, y in zip(X, Y)]"
   ]
  },
  {
   "cell_type": "code",
   "execution_count": 148,
   "metadata": {},
   "outputs": [
    {
     "data": {
      "text/plain": [
       "<matplotlib.collections.PathCollection at 0x19cf9d098d0>"
      ]
     },
     "execution_count": 148,
     "metadata": {},
     "output_type": "execute_result"
    },
    {
     "data": {
      "image/png": "[encoded data removed]",
      "text/plain": [
       "<Figure size 432x288 with 1 Axes>"
      ]
     },
     "metadata": {
      "needs_background": "light"
     },
     "output_type": "display_data"
    }
   ],
   "source": [
    "plt.scatter(X, Y)"
   ]
  },
  {
   "cell_type": "code",
   "execution_count": 149,
   "metadata": {},
   "outputs": [],
   "source": [
    "cluster = KMeans(n_clusters=4, max_iter=1000)"
   ]
  },
  {
   "cell_type": "code",
   "execution_count": 150,
   "metadata": {},
   "outputs": [
    {
     "data": {
      "text/plain": [
       "KMeans(algorithm='auto', copy_x=True, init='k-means++', max_iter=1000,\n",
       "    n_clusters=4, n_init=10, n_jobs=1, precompute_distances='auto',\n",
       "    random_state=None, tol=0.0001, verbose=0)"
      ]
     },
     "execution_count": 150,
     "metadata": {},
     "output_type": "execute_result"
    }
   ],
   "source": [
    "cluster.fit(data)"
   ]
  },
  {
   "cell_type": "code",
   "execution_count": 151,
   "metadata": {},
   "outputs": [
    {
     "data": {
      "text/plain": [
       "array([[36.39883433, 35.04879992],\n",
       "       [11.02747127, 33.78581585],\n",
       "       [32.68585332,  9.2211975 ],\n",
       "       [11.41340157, 10.00262044]])"
      ]
     },
     "execution_count": 151,
     "metadata": {},
     "output_type": "execute_result"
    }
   ],
   "source": [
    "cluster.cluster_centers_"
   ]
  },
  {
   "cell_type": "code",
   "execution_count": 152,
   "metadata": {},
   "outputs": [
    {
     "data": {
      "text/plain": [
       "array([0, 3, 1, 2, 2, 0, 2, 3, 0, 0, 1, 2, 2, 0, 1, 2, 3, 0, 3, 3, 0, 1,\n",
       "       1, 3, 2, 0, 0, 2, 1, 2, 2, 2, 0, 1, 2, 2, 0, 1, 1, 0, 1, 0, 3, 0,\n",
       "       1, 0, 3, 0, 2, 3, 1, 0, 3, 3, 2, 1, 2, 2, 0, 2, 1, 1, 3, 3, 3, 3,\n",
       "       0, 2, 3, 1, 0, 0, 3, 3, 3, 1, 2, 0, 3, 3, 1, 1, 3, 3, 1, 1, 1, 3,\n",
       "       1, 1, 2, 3, 0, 2, 2, 1, 2, 0, 2, 0])"
      ]
     },
     "execution_count": 152,
     "metadata": {},
     "output_type": "execute_result"
    }
   ],
   "source": [
    "cluster.labels_"
   ]
  },
  {
   "cell_type": "code",
   "execution_count": 153,
   "metadata": {},
   "outputs": [],
   "source": [
    "color = ['red', 'yellow', 'blue', 'green']\n",
    "label = [0,1,2,3]\n",
    "color = {k: v for k, v in zip(label, color)}\n",
    "data_label = {}"
   ]
  },
  {
   "cell_type": "code",
   "execution_count": 154,
   "metadata": {},
   "outputs": [],
   "source": [
    "for new_data, lable in zip(data, cluster.labels_):\n",
    "    data_label.setdefault(lable, []).append(new_data)"
   ]
  },
  {
   "cell_type": "code",
   "execution_count": 155,
   "metadata": {},
   "outputs": [
    {
     "data": {
      "text/plain": [
       "<matplotlib.collections.PathCollection at 0x19cf9d54278>"
      ]
     },
     "execution_count": 155,
     "metadata": {},
     "output_type": "execute_result"
    },
    {
     "data": {
      "image/png": "[encoded data removed]",
      "text/plain": [
       "<Figure size 432x288 with 1 Axes>"
      ]
     },
     "metadata": {
      "needs_background": "light"
     },
     "output_type": "display_data"
    }
   ],
   "source": [
    "for label, dataset in data_label.items():\n",
    "    x = [el[0] for el in dataset]\n",
    "    y = [el[1] for el in dataset]\n",
    "    plt.scatter(x, y, c=color[label])\n",
    "centers_x = [el[0] for el in cluster.cluster_centers_]\n",
    "centers_y = [el[1] for el in cluster.cluster_centers_]\n",
    "plt.scatter(centers_x, centers_y, c=[v for v in color.values()], s=200)"
   ]
  },
  {
   "cell_type": "code",
   "execution_count": null,
   "metadata": {},
   "outputs": [],
   "source": []
  },
  {
   "cell_type": "markdown",
   "metadata": {},
   "source": [
    "## Part-2 Question and Answer 问答"
   ]
  },
  {
   "cell_type": "markdown",
   "metadata": {},
   "source": [
    "#### 1. What's the *model*? why  all the models are wrong, but some are useful? (5 points) "
   ]
  },
  {
   "cell_type": "markdown",
   "metadata": {},
   "source": [
    "Ans:模型是一个可以把输入数据转换成输出数据的东西. 因为不存在一个模型可以表示所有的数据"
   ]
  },
  {
   "cell_type": "markdown",
   "metadata": {},
   "source": [
    "<评阅点>\n",
    "> + 对模型的理解是否正确,对模型的抽象性是否正确(5')"
   ]
  },
  {
   "cell_type": "markdown",
   "metadata": {},
   "source": [
    "#### 2. What's the underfitting and overfitting? List the reasons that could make model overfitting or underfitting. (10 points)"
   ]
  },
  {
   "cell_type": "markdown",
   "metadata": {},
   "source": [
    "Ans:过拟合是对训练集的预测准确率过于高, 预测集过于低, 欠拟合在两个数据集都较低, 过拟合原因: 模型过于复杂, 数据量少, 数据集片面, 欠拟合原因: 模型过于简单, 模型训练次数过少"
   ]
  },
  {
   "cell_type": "markdown",
   "metadata": {},
   "source": [
    "<评阅点>\n",
    "> + 对过拟合和欠拟合的理解是否正确 (3')\n",
    "+ 对欠拟合产生的原因是否理解正确(2')\n",
    "+ 对过拟合产生的原因是否理解正确(5')"
   ]
  },
  {
   "cell_type": "markdown",
   "metadata": {},
   "source": [
    "#### 3. What's the precision, recall, AUC, F1, F2score. What are they mainly target on? (12')"
   ]
  },
  {
   "cell_type": "markdown",
   "metadata": {},
   "source": [
    "Ans:precision:tp/所有的预测为t的数据, recall: tp/所有实际为p的数据, AUC: 在presision和recall曲线下面的面积, F1: 2*precision *recall / (precision+ recall), F2score 老师上课没来得及讲"
   ]
  },
  {
   "cell_type": "markdown",
   "metadata": {},
   "source": [
    "# 老师, precision和recall我这么理解有没有问题啊, 我看这两个的公式表达的其实是这个意思"
   ]
  },
  {
   "cell_type": "markdown",
   "metadata": {},
   "source": [
    "<评阅点>\n",
    "> + 对precision, recall, AUC, F1, F2 理解是否正确(6‘)\n",
    "+ 对precision, recall, AUC, F1, F2的使用侧重点是否理解正确 (6’)"
   ]
  },
  {
   "cell_type": "markdown",
   "metadata": {},
   "source": [
    "#### 4. Based on our course and yourself mind, what's the machine learning?  (8')"
   ]
  },
  {
   "cell_type": "markdown",
   "metadata": {},
   "source": [
    "Ans:通过一个黑盒子, 让这个黑盒子自动学习输入的数据, 然后以后再输入没有标签的数据时, 可以自动判断标签"
   ]
  },
  {
   "cell_type": "markdown",
   "metadata": {},
   "source": [
    "<评阅点> 开放式问题，是否能说出来机器学习这种思维方式和传统的分析式编程的区别（8'）"
   ]
  },
  {
   "cell_type": "markdown",
   "metadata": {},
   "source": [
    "#### 5. \"正确定义了机器学习模型的评价标准(evaluation)， 问题基本上就已经解决一半\". 这句话是否正确？你是怎么看待的？ (8‘)"
   ]
  },
  {
   "cell_type": "markdown",
   "metadata": {},
   "source": [
    "评价标准很重要, 很多二分类的结果并不是1比1的, 不能用判断对的比例来评价"
   ]
  },
  {
   "cell_type": "markdown",
   "metadata": {},
   "source": [
    "<评阅点> 开放式问题，主要看能理解评价指标对机器学习模型的重要性."
   ]
  },
  {
   "cell_type": "markdown",
   "metadata": {},
   "source": [
    "## Part-03 Programming Practice 编程练习"
   ]
  },
  {
   "cell_type": "markdown",
   "metadata": {},
   "source": [
    "1. In our course and previous practice, we complete some importance components of Decision Tree. In this problem, you need to build a **completed** Decision Tree Model. You show finish a `predicate()` function, which accepts three parameters **<gender, income, family_number>**, and outputs the predicated 'bought': 1 or 0.  (20 points)"
   ]
  },
  {
   "cell_type": "code",
   "execution_count": 186,
   "metadata": {},
   "outputs": [],
   "source": [
    "# you code here\n",
    "from collections import deque\n",
    "\n",
    "mock_data = {\n",
    "    'gender':['F', 'F', 'F', 'F', 'M', 'M', 'M'],\n",
    "    'income': ['+10', '-10', '+10', '+10', '+10', '+10', '-10'],\n",
    "    'family_number': [1, 1, 2, 1, 1, 1, 2],\n",
    "    'bought': [1, 1, 1, 0, 0, 0, 1],\n",
    "}\n",
    "\n",
    "dataset = pd.DataFrame.from_dict(mock_data)\n",
    "from collections import Counter\n",
    "\n",
    "def entropy(lis):\n",
    "    length = len(lis)\n",
    "    counter = Counter(lis)\n",
    "    lis  = [counter[el] / length for el in lis]\n",
    "    return -sum([el * np.log(el) for el in lis])\n",
    "\n",
    "\n",
    "def decision_tree_model(dataset):\n",
    "    devide_set = set(dataset.columns) - {'bought'}\n",
    "\n",
    "    def get_column(data, columns):\n",
    "        entropy_dic = {}\n",
    "        for column in columns:\n",
    "            status = list(set(data[column]))\n",
    "            sum_entropy = 0\n",
    "            for i in range(len(status)):\n",
    "                sum_entropy += entropy(data[data[column] == status[i]])\n",
    "            entropy_dic[column] = sum_entropy\n",
    "        entropy_dic = sorted([(k, v) for k, v in entropy_dic.items()], key=lambda x: x[1])\n",
    "        return entropy_dic[0][0]\n",
    "    \n",
    "    dataset = [([], dataset)]  # [([('family_number', 1), ('income', '+10'), ], dataset)]\n",
    "    finished_dataset = []\n",
    "    \n",
    "    while len(dataset):\n",
    "        dataset_tuple = dataset.pop(-1)  # ([('family_number', 1), ('income', '+10'), ], dataset)\n",
    "        data = dataset_tuple[1]  # dataset\n",
    "        column_path = dataset_tuple[0]  # [('family_number', '1'), ('income', '+10'), ]\n",
    "        \n",
    "        if devide_set - set([path[0] for path in column_path]) == set():\n",
    "            finished_dataset.append(dataset_tuple)\n",
    "            continue\n",
    "        column = get_column(data, devide_set - set([path[0] for path in column_path]))\n",
    "        values = set(data[column])\n",
    "        for value in values:\n",
    "            sub_data= data[data[column] == value]\n",
    "            new_column_path = column_path.copy()\n",
    "            new_column_path.append((column, value))\n",
    "            new_dataset_tuple = [new_column_path, sub_data]\n",
    "            if len(sub_data) <= 1:\n",
    "                finished_dataset.append(new_dataset_tuple)\n",
    "            else:\n",
    "                dataset.append(new_dataset_tuple)\n",
    "    \n",
    "    model = {}\n",
    "    for data in finished_dataset:\n",
    "        result = np.average(data[1]['bought'])\n",
    "        data =data[0]\n",
    "        sub_model = model\n",
    "        for el in data:\n",
    "            key = el[0] + '_' + str(el[1])\n",
    "            if key not in sub_model:\n",
    "                sub_model[key] = {}\n",
    "            sub_model = sub_model[key]\n",
    "        sub_model['result'] = result\n",
    "    \n",
    "    return model\n",
    "model = decision_tree_model(dataset)\n",
    "\n",
    "\n",
    "def predict(gender, income, family_number):\n",
    "    key_1 = 'gender_' + gender\n",
    "    key_2 = 'income_' + income\n",
    "    key_3 = 'family_number_' + str(family_number)\n",
    "    \n",
    "    key_set = set()\n",
    "    key_set.update([key_1, key_2, key_3])\n",
    "    sub_model = model\n",
    "    while 1:\n",
    "        in_model = False\n",
    "        for key in key_set:\n",
    "            if key in sub_model:\n",
    "                in_model = True\n",
    "                sub_model = sub_model[key]\n",
    "        if not in_model:\n",
    "            break\n",
    "    return sub_model['result']\n"
   ]
  },
  {
   "cell_type": "code",
   "execution_count": 187,
   "metadata": {},
   "outputs": [
    {
     "data": {
      "text/plain": [
       "{'family_number': {1: {'income': {'-10': 1,\n",
       "    '+10': {'gender': {'F': 0.5, 'M': 0}}}},\n",
       "  2: {'gender': {'M': 1, 'F': 1}}}}"
      ]
     },
     "execution_count": 187,
     "metadata": {},
     "output_type": "execute_result"
    }
   ],
   "source": [
    "{\n",
    "    'family_number': {\n",
    "        1: {\n",
    "            'income': {\n",
    "                '-10': 1, \n",
    "                '+10': {\n",
    "                    'gender': {\n",
    "                        'F': 0.5, \n",
    "                        'M': 0\n",
    "                    }\n",
    "                }\n",
    "            }\n",
    "        }, \n",
    "        2: {\n",
    "            'gender': {\n",
    "                'M': 1, \n",
    "                'F': 1\n",
    "            }\n",
    "        }\n",
    "    }\n",
    "}"
   ]
  },
  {
   "cell_type": "code",
   "execution_count": 188,
   "metadata": {},
   "outputs": [
    {
     "data": {
      "text/plain": [
       "{'family_number_1': {'income_-10': 1,\n",
       "  'income_+10': {'gender_F': 0.5, 'gender_M': 0},\n",
       "  'family_number_2': {'gender_M': 1, 'gender_F': 1}}}"
      ]
     },
     "execution_count": 188,
     "metadata": {},
     "output_type": "execute_result"
    }
   ],
   "source": [
    "{\n",
    "    'family_number_1': {\n",
    "        'income_-10': 1, \n",
    "        'income_+10': {\n",
    "            'gender_F': 0.5, \n",
    "            'gender_M': 0\n",
    "    }, \n",
    "    'family_number_2': {\n",
    "        'gender_M': 1, \n",
    "        'gender_F': 1\n",
    "        }\n",
    "    }\n",
    "}"
   ]
  },
  {
   "cell_type": "code",
   "execution_count": 189,
   "metadata": {},
   "outputs": [
    {
     "data": {
      "text/plain": [
       "{'family_number_2': {'gender_M': {'result': 1.0}, 'gender_F': {'result': 1.0}},\n",
       " 'family_number_1': {'income_-10': {'result': 1.0},\n",
       "  'income_+10': {'gender_F': {'result': 0.5}, 'gender_M': {'result': 0.0}}}}"
      ]
     },
     "execution_count": 189,
     "metadata": {},
     "output_type": "execute_result"
    }
   ],
   "source": [
    "model"
   ]
  },
  {
   "cell_type": "code",
   "execution_count": 190,
   "metadata": {},
   "outputs": [
    {
     "data": {
      "text/plain": [
       "1.0"
      ]
     },
     "execution_count": 190,
     "metadata": {},
     "output_type": "execute_result"
    }
   ],
   "source": [
    "predict('M', '-10', 1)"
   ]
  },
  {
   "cell_type": "code",
   "execution_count": 191,
   "metadata": {},
   "outputs": [
    {
     "data": {
      "text/plain": [
       "0.5"
      ]
     },
     "execution_count": 191,
     "metadata": {},
     "output_type": "execute_result"
    }
   ],
   "source": [
    "predict('F', '+10', 1)"
   ]
  },
  {
   "cell_type": "code",
   "execution_count": 192,
   "metadata": {},
   "outputs": [
    {
     "data": {
      "text/plain": [
       "0.0"
      ]
     },
     "execution_count": 192,
     "metadata": {},
     "output_type": "execute_result"
    }
   ],
   "source": [
    "predict('M', '+10', 1)"
   ]
  },
  {
   "cell_type": "markdown",
   "metadata": {},
   "source": [
    "<评阅点>\n",
    "> + 是否将之前的决策树模型的部分进行合并组装， predicate函数能够顺利运行(8')\n",
    "+ 是够能够输入未曾见过的X变量，例如gender, income, family_number 分别是： <M, -10, 1>, 模型能够预测出结果 (12')"
   ]
  },
  {
   "cell_type": "markdown",
   "metadata": {},
   "source": [
    "2. 将上一节课(第二节课)的线性回归问题中的Loss函数改成\"绝对值\"，并且改变其偏导的求值方式，观察其结果的变化。(19 point)"
   ]
  },
  {
   "cell_type": "markdown",
   "metadata": {},
   "source": [
    "$$ loss = \\frac{1}{n} \\sum{|y_i - \\hat{y_i}|}$$"
   ]
  },
  {
   "cell_type": "markdown",
   "metadata": {},
   "source": [
    "$$ loss = \\frac{1}{n} \\sum{|y_i - kx_i - b_i|} $$"
   ]
  },
  {
   "cell_type": "code",
   "execution_count": 5,
   "metadata": {},
   "outputs": [],
   "source": [
    "# you code here\n",
    "\n",
    "\n",
    "\n"
   ]
  },
  {
   "cell_type": "code",
   "execution_count": null,
   "metadata": {},
   "outputs": [],
   "source": []
  },
  {
   "cell_type": "code",
   "execution_count": null,
   "metadata": {},
   "outputs": [],
   "source": []
  },
  {
   "cell_type": "code",
   "execution_count": null,
   "metadata": {},
   "outputs": [],
   "source": []
  },
  {
   "cell_type": "code",
   "execution_count": null,
   "metadata": {},
   "outputs": [],
   "source": []
  },
  {
   "cell_type": "code",
   "execution_count": null,
   "metadata": {},
   "outputs": [],
   "source": []
  },
  {
   "cell_type": "code",
   "execution_count": null,
   "metadata": {},
   "outputs": [],
   "source": []
  },
  {
   "cell_type": "code",
   "execution_count": null,
   "metadata": {},
   "outputs": [],
   "source": []
  },
  {
   "cell_type": "code",
   "execution_count": null,
   "metadata": {},
   "outputs": [],
   "source": []
  },
  {
   "cell_type": "code",
   "execution_count": null,
   "metadata": {},
   "outputs": [],
   "source": []
  },
  {
   "cell_type": "code",
   "execution_count": null,
   "metadata": {},
   "outputs": [],
   "source": []
  },
  {
   "cell_type": "code",
   "execution_count": null,
   "metadata": {},
   "outputs": [],
   "source": []
  },
  {
   "cell_type": "code",
   "execution_count": null,
   "metadata": {},
   "outputs": [],
   "source": []
  },
  {
   "cell_type": "code",
   "execution_count": null,
   "metadata": {},
   "outputs": [],
   "source": []
  },
  {
   "cell_type": "markdown",
   "metadata": {},
   "source": [
    "<评阅点>\n",
    "+ 是否将Loss改成了“绝对值”(3')\n",
    "+ 是否完成了偏导的重新定义(5')\n",
    "+ 新的模型Loss是否能够收敛 (11’)"
   ]
  },
  {
   "cell_type": "markdown",
   "metadata": {},
   "source": []
  }
 ],
 "metadata": {
  "kernelspec": {
   "display_name": "Python 3",
   "language": "python",
   "name": "python3"
  },
  "language_info": {
   "codemirror_mode": {
    "name": "ipython",
    "version": 3
   },
   "file_extension": ".py",
   "mimetype": "text/x-python",
   "name": "python",
   "nbconvert_exporter": "python",
   "pygments_lexer": "ipython3",
   "version": "3.7.0"
  }
 },
 "nbformat": 4,
 "nbformat_minor": 2
}
