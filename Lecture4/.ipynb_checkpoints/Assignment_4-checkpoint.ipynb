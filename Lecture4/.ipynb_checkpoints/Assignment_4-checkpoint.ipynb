{
 "cells": [
  {
   "cell_type": "markdown",
   "metadata": {},
   "source": [
    "# Assignment 4"
   ]
  },
  {
   "cell_type": "markdown",
   "metadata": {},
   "source": [
    "### 1. 复习上课内容以及复现课程代码"
   ]
  },
  {
   "cell_type": "markdown",
   "metadata": {},
   "source": [
    "在本部分，你需要复习上课内容和课程代码后，自己复现课程代码。"
   ]
  },
  {
   "cell_type": "code",
   "execution_count": 1,
   "metadata": {},
   "outputs": [],
   "source": [
    "import numpy as np\n",
    "from sklearn.datasets import load_boston\n",
    "\n",
    "data = load_boston()\n",
    "X_ = data['data']\n",
    "y_ = data['target']"
   ]
  },
  {
   "cell_type": "code",
   "execution_count": 2,
   "metadata": {},
   "outputs": [
    {
     "name": "stderr",
     "output_type": "stream",
     "text": [
      "Using TensorFlow backend.\n"
     ]
    }
   ],
   "source": [
    "from keras.layers import Dense\n",
    "from keras.models import Sequential"
   ]
  },
  {
   "cell_type": "code",
   "execution_count": 3,
   "metadata": {},
   "outputs": [],
   "source": [
    "model = Sequential()"
   ]
  },
  {
   "cell_type": "code",
   "execution_count": 4,
   "metadata": {},
   "outputs": [],
   "source": [
    "model.add(Dense(units=128, activation='relu', input_dim=13))\n",
    "model.add(Dense(units=32, activation='relu', input_dim=128))\n",
    "model.add(Dense(units=8, activation='sigmoid', input_dim=32))\n",
    "model.add(Dense(units=1))"
   ]
  },
  {
   "cell_type": "code",
   "execution_count": 5,
   "metadata": {},
   "outputs": [
    {
     "name": "stdout",
     "output_type": "stream",
     "text": [
      "Epoch 1/100\n",
      "506/506 [==============================] - 0s 391us/step - loss: 264.5640 - mse: 264.5641\n",
      "Epoch 2/100\n",
      "506/506 [==============================] - 0s 34us/step - loss: 96.7070 - mse: 96.7070\n",
      "Epoch 3/100\n",
      "506/506 [==============================] - 0s 31us/step - loss: 84.9340 - mse: 84.9340\n",
      "Epoch 4/100\n",
      "506/506 [==============================] - 0s 31us/step - loss: 84.5195 - mse: 84.5195\n",
      "Epoch 5/100\n",
      "506/506 [==============================] - 0s 30us/step - loss: 84.5331 - mse: 84.5331\n",
      "Epoch 6/100\n",
      "506/506 [==============================] - 0s 31us/step - loss: 84.5983 - mse: 84.5983\n",
      "Epoch 7/100\n",
      "506/506 [==============================] - 0s 31us/step - loss: 84.5383 - mse: 84.5383\n",
      "Epoch 8/100\n",
      "506/506 [==============================] - 0s 30us/step - loss: 84.6057 - mse: 84.6057\n",
      "Epoch 9/100\n",
      "506/506 [==============================] - 0s 30us/step - loss: 84.5543 - mse: 84.5543\n",
      "Epoch 10/100\n",
      "506/506 [==============================] - 0s 30us/step - loss: 84.7451 - mse: 84.7451\n",
      "Epoch 11/100\n",
      "506/506 [==============================] - 0s 32us/step - loss: 84.5122 - mse: 84.5122\n",
      "Epoch 12/100\n",
      "506/506 [==============================] - 0s 29us/step - loss: 84.5178 - mse: 84.5178\n",
      "Epoch 13/100\n",
      "506/506 [==============================] - 0s 29us/step - loss: 84.6275 - mse: 84.6275\n",
      "Epoch 14/100\n",
      "506/506 [==============================] - 0s 31us/step - loss: 84.6606 - mse: 84.6606\n",
      "Epoch 15/100\n",
      "506/506 [==============================] - 0s 31us/step - loss: 84.5267 - mse: 84.5267\n",
      "Epoch 16/100\n",
      "506/506 [==============================] - 0s 32us/step - loss: 84.6616 - mse: 84.6616\n",
      "Epoch 17/100\n",
      "506/506 [==============================] - 0s 36us/step - loss: 84.6960 - mse: 84.6960\n",
      "Epoch 18/100\n",
      "506/506 [==============================] - 0s 40us/step - loss: 84.5447 - mse: 84.5447\n",
      "Epoch 19/100\n",
      "506/506 [==============================] - 0s 43us/step - loss: 84.4910 - mse: 84.4910\n",
      "Epoch 20/100\n",
      "506/506 [==============================] - 0s 31us/step - loss: 84.7268 - mse: 84.7268\n",
      "Epoch 21/100\n",
      "506/506 [==============================] - 0s 30us/step - loss: 84.7347 - mse: 84.7347\n",
      "Epoch 22/100\n",
      "506/506 [==============================] - 0s 30us/step - loss: 84.5414 - mse: 84.5414\n",
      "Epoch 23/100\n",
      "506/506 [==============================] - 0s 29us/step - loss: 84.6297 - mse: 84.6297\n",
      "Epoch 24/100\n",
      "506/506 [==============================] - 0s 47us/step - loss: 84.7140 - mse: 84.7140\n",
      "Epoch 25/100\n",
      "506/506 [==============================] - 0s 27us/step - loss: 84.6610 - mse: 84.6610\n",
      "Epoch 26/100\n",
      "506/506 [==============================] - 0s 36us/step - loss: 84.5950 - mse: 84.5950\n",
      "Epoch 27/100\n",
      "506/506 [==============================] - 0s 30us/step - loss: 84.6315 - mse: 84.6315\n",
      "Epoch 28/100\n",
      "506/506 [==============================] - 0s 45us/step - loss: 84.7342 - mse: 84.7342\n",
      "Epoch 29/100\n",
      "506/506 [==============================] - 0s 30us/step - loss: 84.5774 - mse: 84.5774\n",
      "Epoch 30/100\n",
      "506/506 [==============================] - 0s 38us/step - loss: 84.5381 - mse: 84.5381\n",
      "Epoch 31/100\n",
      "506/506 [==============================] - 0s 32us/step - loss: 84.5534 - mse: 84.5534\n",
      "Epoch 32/100\n",
      "506/506 [==============================] - 0s 29us/step - loss: 84.6878 - mse: 84.6878\n",
      "Epoch 33/100\n",
      "506/506 [==============================] - 0s 30us/step - loss: 84.5903 - mse: 84.5903\n",
      "Epoch 34/100\n",
      "506/506 [==============================] - 0s 32us/step - loss: 84.5394 - mse: 84.5394\n",
      "Epoch 35/100\n",
      "506/506 [==============================] - 0s 28us/step - loss: 84.4960 - mse: 84.4959\n",
      "Epoch 36/100\n",
      "506/506 [==============================] - 0s 28us/step - loss: 84.6289 - mse: 84.6290\n",
      "Epoch 37/100\n",
      "506/506 [==============================] - 0s 30us/step - loss: 84.5094 - mse: 84.5094\n",
      "Epoch 38/100\n",
      "506/506 [==============================] - 0s 30us/step - loss: 84.5530 - mse: 84.5530\n",
      "Epoch 39/100\n",
      "506/506 [==============================] - 0s 34us/step - loss: 84.5229 - mse: 84.5229\n",
      "Epoch 40/100\n",
      "506/506 [==============================] - 0s 31us/step - loss: 84.7108 - mse: 84.7108\n",
      "Epoch 41/100\n",
      "506/506 [==============================] - 0s 31us/step - loss: 84.6418 - mse: 84.6418\n",
      "Epoch 42/100\n",
      "506/506 [==============================] - 0s 30us/step - loss: 84.5600 - mse: 84.5600\n",
      "Epoch 43/100\n",
      "506/506 [==============================] - 0s 29us/step - loss: 84.6571 - mse: 84.6571\n",
      "Epoch 44/100\n",
      "506/506 [==============================] - 0s 29us/step - loss: 84.5723 - mse: 84.5723\n",
      "Epoch 45/100\n",
      "506/506 [==============================] - 0s 30us/step - loss: 84.7424 - mse: 84.7424\n",
      "Epoch 46/100\n",
      "506/506 [==============================] - 0s 31us/step - loss: 84.6220 - mse: 84.6219\n",
      "Epoch 47/100\n",
      "506/506 [==============================] - 0s 30us/step - loss: 84.5228 - mse: 84.5228\n",
      "Epoch 48/100\n",
      "506/506 [==============================] - 0s 30us/step - loss: 84.5364 - mse: 84.5364\n",
      "Epoch 49/100\n",
      "506/506 [==============================] - 0s 30us/step - loss: 84.6965 - mse: 84.6965\n",
      "Epoch 50/100\n",
      "506/506 [==============================] - 0s 30us/step - loss: 84.4948 - mse: 84.4948\n",
      "Epoch 51/100\n",
      "506/506 [==============================] - 0s 29us/step - loss: 84.6387 - mse: 84.6387\n",
      "Epoch 52/100\n",
      "506/506 [==============================] - 0s 30us/step - loss: 84.5587 - mse: 84.5587\n",
      "Epoch 53/100\n",
      "506/506 [==============================] - 0s 28us/step - loss: 84.5779 - mse: 84.5779\n",
      "Epoch 54/100\n",
      "506/506 [==============================] - 0s 31us/step - loss: 84.6469 - mse: 84.6469\n",
      "Epoch 55/100\n",
      "506/506 [==============================] - 0s 29us/step - loss: 84.5078 - mse: 84.5078\n",
      "Epoch 56/100\n",
      "506/506 [==============================] - 0s 30us/step - loss: 84.5895 - mse: 84.5895\n",
      "Epoch 57/100\n",
      "506/506 [==============================] - 0s 45us/step - loss: 84.6881 - mse: 84.6881\n",
      "Epoch 58/100\n",
      "506/506 [==============================] - 0s 29us/step - loss: 84.6164 - mse: 84.6164\n",
      "Epoch 59/100\n",
      "506/506 [==============================] - 0s 45us/step - loss: 84.7844 - mse: 84.7844\n",
      "Epoch 60/100\n",
      "506/506 [==============================] - 0s 43us/step - loss: 84.5899 - mse: 84.5899\n",
      "Epoch 61/100\n",
      "506/506 [==============================] - 0s 30us/step - loss: 84.5632 - mse: 84.5632\n",
      "Epoch 62/100\n",
      "506/506 [==============================] - 0s 28us/step - loss: 84.5489 - mse: 84.5489\n",
      "Epoch 63/100\n",
      "506/506 [==============================] - 0s 29us/step - loss: 84.5895 - mse: 84.5895\n",
      "Epoch 64/100\n",
      "506/506 [==============================] - 0s 30us/step - loss: 84.5665 - mse: 84.5665\n",
      "Epoch 65/100\n",
      "506/506 [==============================] - 0s 29us/step - loss: 84.5686 - mse: 84.5686\n",
      "Epoch 66/100\n",
      "506/506 [==============================] - 0s 28us/step - loss: 84.8402 - mse: 84.8402\n",
      "Epoch 67/100\n",
      "506/506 [==============================] - 0s 32us/step - loss: 84.5862 - mse: 84.5862\n",
      "Epoch 68/100\n",
      "506/506 [==============================] - 0s 33us/step - loss: 84.5769 - mse: 84.5769\n",
      "Epoch 69/100\n",
      "506/506 [==============================] - 0s 36us/step - loss: 84.7292 - mse: 84.7292\n",
      "Epoch 70/100\n",
      "506/506 [==============================] - 0s 41us/step - loss: 84.6868 - mse: 84.6869\n",
      "Epoch 71/100\n",
      "506/506 [==============================] - 0s 38us/step - loss: 84.5227 - mse: 84.5227\n",
      "Epoch 72/100\n",
      "506/506 [==============================] - 0s 29us/step - loss: 84.5907 - mse: 84.5907\n",
      "Epoch 73/100\n",
      "506/506 [==============================] - 0s 28us/step - loss: 84.5066 - mse: 84.5066\n",
      "Epoch 74/100\n",
      "506/506 [==============================] - 0s 28us/step - loss: 84.5520 - mse: 84.5520\n",
      "Epoch 75/100\n",
      "506/506 [==============================] - 0s 29us/step - loss: 84.6368 - mse: 84.6368\n",
      "Epoch 76/100\n",
      "506/506 [==============================] - 0s 30us/step - loss: 84.5741 - mse: 84.5742\n",
      "Epoch 77/100\n",
      "506/506 [==============================] - 0s 28us/step - loss: 84.6514 - mse: 84.6514\n",
      "Epoch 78/100\n",
      "506/506 [==============================] - 0s 42us/step - loss: 84.4649 - mse: 84.4649\n",
      "Epoch 79/100\n",
      "506/506 [==============================] - 0s 40us/step - loss: 84.6292 - mse: 84.6292\n",
      "Epoch 80/100\n",
      "506/506 [==============================] - 0s 42us/step - loss: 84.5253 - mse: 84.5253\n",
      "Epoch 81/100\n",
      "506/506 [==============================] - 0s 37us/step - loss: 84.5133 - mse: 84.5133\n",
      "Epoch 82/100\n",
      "506/506 [==============================] - 0s 29us/step - loss: 84.5366 - mse: 84.5366\n"
     ]
    },
    {
     "name": "stdout",
     "output_type": "stream",
     "text": [
      "Epoch 83/100\n",
      "506/506 [==============================] - 0s 28us/step - loss: 84.6473 - mse: 84.6473\n",
      "Epoch 84/100\n",
      "506/506 [==============================] - 0s 44us/step - loss: 84.5324 - mse: 84.5324\n",
      "Epoch 85/100\n",
      "506/506 [==============================] - 0s 29us/step - loss: 84.5454 - mse: 84.5454\n",
      "Epoch 86/100\n",
      "506/506 [==============================] - 0s 33us/step - loss: 84.6199 - mse: 84.6199\n",
      "Epoch 87/100\n",
      "506/506 [==============================] - 0s 29us/step - loss: 84.5827 - mse: 84.5827\n",
      "Epoch 88/100\n",
      "506/506 [==============================] - 0s 31us/step - loss: 84.5140 - mse: 84.5140\n",
      "Epoch 89/100\n",
      "506/506 [==============================] - 0s 31us/step - loss: 84.6293 - mse: 84.6293\n",
      "Epoch 90/100\n",
      "506/506 [==============================] - 0s 31us/step - loss: 84.6346 - mse: 84.6346\n",
      "Epoch 91/100\n",
      "506/506 [==============================] - 0s 28us/step - loss: 84.5777 - mse: 84.5777\n",
      "Epoch 92/100\n",
      "506/506 [==============================] - 0s 27us/step - loss: 84.6899 - mse: 84.6899\n",
      "Epoch 93/100\n",
      "506/506 [==============================] - 0s 30us/step - loss: 84.5671 - mse: 84.5671\n",
      "Epoch 94/100\n",
      "506/506 [==============================] - 0s 37us/step - loss: 84.5001 - mse: 84.5001\n",
      "Epoch 95/100\n",
      "506/506 [==============================] - 0s 39us/step - loss: 84.6363 - mse: 84.6363\n",
      "Epoch 96/100\n",
      "506/506 [==============================] - 0s 34us/step - loss: 84.5489 - mse: 84.5490\n",
      "Epoch 97/100\n",
      "506/506 [==============================] - 0s 34us/step - loss: 84.5795 - mse: 84.5795\n",
      "Epoch 98/100\n",
      "506/506 [==============================] - 0s 34us/step - loss: 84.7263 - mse: 84.7263\n",
      "Epoch 99/100\n",
      "506/506 [==============================] - 0s 37us/step - loss: 84.4854 - mse: 84.4854\n",
      "Epoch 100/100\n",
      "506/506 [==============================] - 0s 35us/step - loss: 84.4731 - mse: 84.4731\n"
     ]
    },
    {
     "data": {
      "text/plain": [
       "<keras.callbacks.callbacks.History at 0x11df118fc18>"
      ]
     },
     "execution_count": 5,
     "metadata": {},
     "output_type": "execute_result"
    }
   ],
   "source": [
    "model.compile(loss='mse',\n",
    "              optimizer='sgd',\n",
    "              metrics=['mse'], )\n",
    "model.fit(X_, y_, batch_size=32, epochs=100)"
   ]
  },
  {
   "cell_type": "code",
   "execution_count": 6,
   "metadata": {},
   "outputs": [
    {
     "name": "stdout",
     "output_type": "stream",
     "text": [
      "Epoch 1/100\n",
      "506/506 [==============================] - 0s 145us/step - loss: 146.1598 - mse: 146.1599\n",
      "Epoch 2/100\n",
      "506/506 [==============================] - 0s 34us/step - loss: 80.3391 - mse: 80.3391\n",
      "Epoch 3/100\n",
      "506/506 [==============================] - 0s 34us/step - loss: 83.3565 - mse: 83.3565\n",
      "Epoch 4/100\n",
      "506/506 [==============================] - 0s 35us/step - loss: 81.2506 - mse: 81.2506\n",
      "Epoch 5/100\n",
      "506/506 [==============================] - 0s 36us/step - loss: 86.1075 - mse: 86.1075\n",
      "Epoch 6/100\n",
      "506/506 [==============================] - 0s 33us/step - loss: 84.9176 - mse: 84.9176\n",
      "Epoch 7/100\n",
      "506/506 [==============================] - 0s 32us/step - loss: 86.3123 - mse: 86.3123\n",
      "Epoch 8/100\n",
      "506/506 [==============================] - 0s 33us/step - loss: 88.1516 - mse: 88.1516\n",
      "Epoch 9/100\n",
      "506/506 [==============================] - 0s 32us/step - loss: 86.0985 - mse: 86.0985\n",
      "Epoch 10/100\n",
      "506/506 [==============================] - 0s 29us/step - loss: 85.0706 - mse: 85.0706\n",
      "Epoch 11/100\n",
      "506/506 [==============================] - 0s 33us/step - loss: 85.6885 - mse: 85.6885\n",
      "Epoch 12/100\n",
      "506/506 [==============================] - 0s 33us/step - loss: 86.2073 - mse: 86.2073\n",
      "Epoch 13/100\n",
      "506/506 [==============================] - 0s 58us/step - loss: 85.2658 - mse: 85.2658\n",
      "Epoch 14/100\n",
      "506/506 [==============================] - 0s 50us/step - loss: 85.1091 - mse: 85.1091\n",
      "Epoch 15/100\n",
      "506/506 [==============================] - 0s 34us/step - loss: 85.2270 - mse: 85.2270\n",
      "Epoch 16/100\n",
      "506/506 [==============================] - 0s 32us/step - loss: 85.8742 - mse: 85.8742\n",
      "Epoch 17/100\n",
      "506/506 [==============================] - 0s 34us/step - loss: 84.7944 - mse: 84.7944\n",
      "Epoch 18/100\n",
      "506/506 [==============================] - 0s 35us/step - loss: 84.6654 - mse: 84.6654\n",
      "Epoch 19/100\n",
      "506/506 [==============================] - 0s 32us/step - loss: 85.3529 - mse: 85.3529\n",
      "Epoch 20/100\n",
      "506/506 [==============================] - 0s 31us/step - loss: 85.1880 - mse: 85.1880\n",
      "Epoch 21/100\n",
      "506/506 [==============================] - 0s 30us/step - loss: 85.2608 - mse: 85.2608\n",
      "Epoch 22/100\n",
      "506/506 [==============================] - 0s 38us/step - loss: 85.6693 - mse: 85.6693\n",
      "Epoch 23/100\n",
      "506/506 [==============================] - 0s 31us/step - loss: 84.8976 - mse: 84.8976\n",
      "Epoch 24/100\n",
      "506/506 [==============================] - 0s 29us/step - loss: 84.4717 - mse: 84.4717\n",
      "Epoch 25/100\n",
      "506/506 [==============================] - 0s 29us/step - loss: 85.3833 - mse: 85.3833\n",
      "Epoch 26/100\n",
      "506/506 [==============================] - 0s 28us/step - loss: 86.1790 - mse: 86.1790\n",
      "Epoch 27/100\n",
      "506/506 [==============================] - 0s 29us/step - loss: 86.4037 - mse: 86.4037\n",
      "Epoch 28/100\n",
      "506/506 [==============================] - 0s 28us/step - loss: 84.8152 - mse: 84.8152\n",
      "Epoch 29/100\n",
      "506/506 [==============================] - 0s 31us/step - loss: 85.6275 - mse: 85.6275\n",
      "Epoch 30/100\n",
      "506/506 [==============================] - 0s 31us/step - loss: 85.4024 - mse: 85.4024\n",
      "Epoch 31/100\n",
      "506/506 [==============================] - 0s 30us/step - loss: 84.5758 - mse: 84.5758\n",
      "Epoch 32/100\n",
      "506/506 [==============================] - 0s 32us/step - loss: 84.9845 - mse: 84.9845\n",
      "Epoch 33/100\n",
      "506/506 [==============================] - 0s 28us/step - loss: 85.9479 - mse: 85.9479\n",
      "Epoch 34/100\n",
      "506/506 [==============================] - 0s 30us/step - loss: 84.8034 - mse: 84.8034\n",
      "Epoch 35/100\n",
      "506/506 [==============================] - 0s 34us/step - loss: 84.9026 - mse: 84.9026\n",
      "Epoch 36/100\n",
      "506/506 [==============================] - 0s 32us/step - loss: 85.2708 - mse: 85.2708\n",
      "Epoch 37/100\n",
      "506/506 [==============================] - 0s 31us/step - loss: 85.9034 - mse: 85.9034\n",
      "Epoch 38/100\n",
      "506/506 [==============================] - 0s 29us/step - loss: 85.1486 - mse: 85.1486\n",
      "Epoch 39/100\n",
      "506/506 [==============================] - 0s 32us/step - loss: 85.3788 - mse: 85.3788\n",
      "Epoch 40/100\n",
      "506/506 [==============================] - 0s 48us/step - loss: 85.6713 - mse: 85.6713\n",
      "Epoch 41/100\n",
      "506/506 [==============================] - 0s 30us/step - loss: 84.8819 - mse: 84.8819\n",
      "Epoch 42/100\n",
      "506/506 [==============================] - 0s 29us/step - loss: 86.7486 - mse: 86.7486\n",
      "Epoch 43/100\n",
      "506/506 [==============================] - 0s 31us/step - loss: 85.0720 - mse: 85.0720\n",
      "Epoch 44/100\n",
      "506/506 [==============================] - 0s 30us/step - loss: 85.0592 - mse: 85.0592\n",
      "Epoch 45/100\n",
      "506/506 [==============================] - 0s 30us/step - loss: 85.5421 - mse: 85.5421\n",
      "Epoch 46/100\n",
      "506/506 [==============================] - 0s 29us/step - loss: 84.5809 - mse: 84.5809\n",
      "Epoch 47/100\n",
      "506/506 [==============================] - 0s 30us/step - loss: 84.8308 - mse: 84.8308\n",
      "Epoch 48/100\n",
      "506/506 [==============================] - 0s 29us/step - loss: 84.7943 - mse: 84.7943\n",
      "Epoch 49/100\n",
      "506/506 [==============================] - 0s 29us/step - loss: 84.7652 - mse: 84.7653\n",
      "Epoch 50/100\n",
      "506/506 [==============================] - 0s 29us/step - loss: 85.2101 - mse: 85.2101\n",
      "Epoch 51/100\n",
      "506/506 [==============================] - 0s 30us/step - loss: 85.6383 - mse: 85.6383\n",
      "Epoch 52/100\n",
      "506/506 [==============================] - 0s 30us/step - loss: 85.0475 - mse: 85.0475\n",
      "Epoch 53/100\n",
      "506/506 [==============================] - 0s 33us/step - loss: 84.5659 - mse: 84.5659\n",
      "Epoch 54/100\n",
      "506/506 [==============================] - 0s 27us/step - loss: 85.9346 - mse: 85.9346\n",
      "Epoch 55/100\n",
      "506/506 [==============================] - 0s 32us/step - loss: 85.4710 - mse: 85.4710\n",
      "Epoch 56/100\n",
      "506/506 [==============================] - 0s 28us/step - loss: 85.1353 - mse: 85.1353\n",
      "Epoch 57/100\n",
      "506/506 [==============================] - 0s 29us/step - loss: 86.1938 - mse: 86.1938\n",
      "Epoch 58/100\n",
      "506/506 [==============================] - 0s 29us/step - loss: 85.3376 - mse: 85.3376\n",
      "Epoch 59/100\n",
      "506/506 [==============================] - 0s 26us/step - loss: 85.4746 - mse: 85.4746\n",
      "Epoch 60/100\n",
      "506/506 [==============================] - 0s 27us/step - loss: 85.4004 - mse: 85.4004\n",
      "Epoch 61/100\n",
      "506/506 [==============================] - 0s 29us/step - loss: 85.5853 - mse: 85.5853\n",
      "Epoch 62/100\n",
      "506/506 [==============================] - 0s 28us/step - loss: 84.6377 - mse: 84.6377\n",
      "Epoch 63/100\n",
      "506/506 [==============================] - 0s 27us/step - loss: 84.8316 - mse: 84.8316\n",
      "Epoch 64/100\n",
      "506/506 [==============================] - 0s 27us/step - loss: 86.0531 - mse: 86.0531\n",
      "Epoch 65/100\n",
      "506/506 [==============================] - 0s 29us/step - loss: 84.8492 - mse: 84.8492\n",
      "Epoch 66/100\n",
      "506/506 [==============================] - 0s 27us/step - loss: 84.5475 - mse: 84.5475\n",
      "Epoch 67/100\n",
      "506/506 [==============================] - 0s 27us/step - loss: 84.7276 - mse: 84.7276\n",
      "Epoch 68/100\n",
      "506/506 [==============================] - 0s 24us/step - loss: 85.2127 - mse: 85.2127\n",
      "Epoch 69/100\n",
      "506/506 [==============================] - 0s 29us/step - loss: 85.0472 - mse: 85.0471\n",
      "Epoch 70/100\n",
      "506/506 [==============================] - 0s 44us/step - loss: 85.4640 - mse: 85.4640\n",
      "Epoch 71/100\n",
      "506/506 [==============================] - 0s 34us/step - loss: 84.9943 - mse: 84.9943\n",
      "Epoch 72/100\n",
      "506/506 [==============================] - 0s 30us/step - loss: 85.1208 - mse: 85.1208\n",
      "Epoch 73/100\n",
      "506/506 [==============================] - 0s 27us/step - loss: 84.8858 - mse: 84.8858\n",
      "Epoch 74/100\n",
      "506/506 [==============================] - 0s 34us/step - loss: 85.1515 - mse: 85.1515\n",
      "Epoch 75/100\n",
      "506/506 [==============================] - 0s 38us/step - loss: 85.1906 - mse: 85.1906\n",
      "Epoch 76/100\n",
      "506/506 [==============================] - 0s 33us/step - loss: 85.4567 - mse: 85.4567\n",
      "Epoch 77/100\n",
      "506/506 [==============================] - 0s 41us/step - loss: 85.2161 - mse: 85.2161\n",
      "Epoch 78/100\n",
      "506/506 [==============================] - 0s 30us/step - loss: 85.3508 - mse: 85.3508\n",
      "Epoch 79/100\n",
      "506/506 [==============================] - 0s 26us/step - loss: 85.0967 - mse: 85.0967\n",
      "Epoch 80/100\n",
      "506/506 [==============================] - 0s 24us/step - loss: 84.8567 - mse: 84.8567\n",
      "Epoch 81/100\n",
      "506/506 [==============================] - 0s 35us/step - loss: 84.8841 - mse: 84.8841\n",
      "Epoch 82/100\n",
      "506/506 [==============================] - 0s 25us/step - loss: 85.1632 - mse: 85.1632\n"
     ]
    },
    {
     "name": "stdout",
     "output_type": "stream",
     "text": [
      "Epoch 83/100\n",
      "506/506 [==============================] - 0s 30us/step - loss: 84.1180 - mse: 84.1180\n",
      "Epoch 84/100\n",
      "506/506 [==============================] - 0s 27us/step - loss: 84.8482 - mse: 84.8482\n",
      "Epoch 85/100\n",
      "506/506 [==============================] - 0s 29us/step - loss: 84.5692 - mse: 84.5692\n",
      "Epoch 86/100\n",
      "506/506 [==============================] - 0s 27us/step - loss: 85.0159 - mse: 85.0159\n",
      "Epoch 87/100\n",
      "506/506 [==============================] - 0s 28us/step - loss: 84.9259 - mse: 84.9259\n",
      "Epoch 88/100\n",
      "506/506 [==============================] - 0s 28us/step - loss: 85.1506 - mse: 85.1506\n",
      "Epoch 89/100\n",
      "506/506 [==============================] - 0s 30us/step - loss: 85.7690 - mse: 85.7690\n",
      "Epoch 90/100\n",
      "506/506 [==============================] - 0s 26us/step - loss: 84.8603 - mse: 84.8603\n",
      "Epoch 91/100\n",
      "506/506 [==============================] - 0s 26us/step - loss: 85.3618 - mse: 85.3618\n",
      "Epoch 92/100\n",
      "506/506 [==============================] - 0s 27us/step - loss: 85.0516 - mse: 85.0516\n",
      "Epoch 93/100\n",
      "506/506 [==============================] - 0s 28us/step - loss: 85.2261 - mse: 85.2261\n",
      "Epoch 94/100\n",
      "506/506 [==============================] - 0s 27us/step - loss: 85.0176 - mse: 85.0176\n",
      "Epoch 95/100\n",
      "506/506 [==============================] - 0s 27us/step - loss: 85.8431 - mse: 85.8431\n",
      "Epoch 96/100\n",
      "506/506 [==============================] - 0s 28us/step - loss: 84.9825 - mse: 84.9825\n",
      "Epoch 97/100\n",
      "506/506 [==============================] - 0s 26us/step - loss: 85.3088 - mse: 85.3088\n",
      "Epoch 98/100\n",
      "506/506 [==============================] - 0s 29us/step - loss: 85.1227 - mse: 85.1227\n",
      "Epoch 99/100\n",
      "506/506 [==============================] - 0s 27us/step - loss: 84.8407 - mse: 84.8407\n",
      "Epoch 100/100\n",
      "506/506 [==============================] - 0s 43us/step - loss: 84.6129 - mse: 84.6129\n"
     ]
    },
    {
     "data": {
      "text/plain": [
       "<keras.callbacks.callbacks.History at 0x11df12b2860>"
      ]
     },
     "execution_count": 6,
     "metadata": {},
     "output_type": "execute_result"
    }
   ],
   "source": [
    "from keras.layers import Dense\n",
    "from keras.models import Sequential\n",
    "\n",
    "model = Sequential()\n",
    "\n",
    "model.add(Dense(units=64, activation='sigmoid', input_dim=13))\n",
    "model.add(Dense(units=30, activation='sigmoid', input_dim=64))\n",
    "model.add(Dense(units=1))\n",
    "\n",
    "model.compile(loss='mse',\n",
    "              optimizer='sgd',\n",
    "              metrics=['mse'])\n",
    "model.fit(X_, y_, batch_size=32, epochs=100)\n"
   ]
  },
  {
   "cell_type": "code",
   "execution_count": null,
   "metadata": {},
   "outputs": [],
   "source": []
  },
  {
   "cell_type": "code",
   "execution_count": null,
   "metadata": {},
   "outputs": [],
   "source": []
  },
  {
   "cell_type": "code",
   "execution_count": null,
   "metadata": {},
   "outputs": [],
   "source": []
  },
  {
   "cell_type": "markdown",
   "metadata": {},
   "source": [
    "### 2. 回答一下理论题目"
   ]
  },
  {
   "cell_type": "markdown",
   "metadata": {},
   "source": [
    "#### 1. What does a neuron compute?"
   ]
  },
  {
   "cell_type": "markdown",
   "metadata": {},
   "source": [
    "计算前向传播的loss值, 和反向传播的梯度"
   ]
  },
  {
   "cell_type": "markdown",
   "metadata": {},
   "source": [
    "####  2. Why we use non-linear activation funcitons in neural networks?"
   ]
  },
  {
   "cell_type": "markdown",
   "metadata": {},
   "source": [
    "因为如果多层神经元使用wx + b, 最后的结果也是wx + b, 最后的w是w[1]乘上w[2]"
   ]
  },
  {
   "cell_type": "markdown",
   "metadata": {},
   "source": [
    "#### 3. What is the 'Logistic Loss' ?"
   ]
  },
  {
   "cell_type": "markdown",
   "metadata": {},
   "source": [
    "逻辑回归的损失函数, 是-ylog(y_hat) -(1-y)log(1-y_hat)这个是二分类的, 多分类的是-sigma(y*log(y_hat))"
   ]
  },
  {
   "cell_type": "markdown",
   "metadata": {},
   "source": [
    "#### 4. Assume that you are building a binary classifier for detecting if an image containing cats, which activation functions would you recommen using for the output layer ?\n",
    "\n",
    "A. ReLU    \n",
    "B. Leaky ReLU    \n",
    "C. sigmoid    \n",
    "D. tanh  "
   ]
  },
  {
   "cell_type": "markdown",
   "metadata": {},
   "source": [
    "c, ab是放在中间的隐层神经元中的激活函数, d是-1到1的"
   ]
  },
  {
   "cell_type": "markdown",
   "metadata": {},
   "source": [
    "#### 5. Why we don't use zero initialization for all parameters ?"
   ]
  },
  {
   "cell_type": "markdown",
   "metadata": {},
   "source": [
    "如果一开始的初始值都是相同的, 之后根据梯度求到的偏导数也都是相同的, 最后迭代的梯度下降的方向也是一样的, 最后所有的神经元的w和b都会是一个值"
   ]
  },
  {
   "cell_type": "markdown",
   "metadata": {},
   "source": [
    "#### 6. Can you implement the softmax function using python ? "
   ]
  },
  {
   "cell_type": "code",
   "execution_count": 7,
   "metadata": {},
   "outputs": [
    {
     "data": {
      "text/plain": [
       "1.5792640357111"
      ]
     },
     "execution_count": 7,
     "metadata": {},
     "output_type": "execute_result"
    }
   ],
   "source": [
    "import numpy as np\n",
    "def loss_function(z_list, label_list):\n",
    "    def calculate_softmax(i):\n",
    "        return np.e ** (z_list[i]) / np.sum([np.e ** z for z in z_list])\n",
    "    loss = -np.sum([label_list[i]*np.log(calculate_softmax(i)) for i in range(len(label_list))])\n",
    "    return loss\n",
    "\n",
    "z_list = [0.1,0.1,0.1,0.4, 0.1,0.6,0.1]\n",
    "label_list = [0,0,0,0, 0,1,0]\n",
    "loss_function(z_list, label_list)"
   ]
  },
  {
   "cell_type": "markdown",
   "metadata": {},
   "source": [
    "### 3.实践题"
   ]
  },
  {
   "cell_type": "markdown",
   "metadata": {},
   "source": [
    "#### In this practical part, you will build a simple digits recognizer to check if the digit in the image is larger than 5. This assignmnet will guide you step by step to finish your first small project in this course ."
   ]
  },
  {
   "cell_type": "markdown",
   "metadata": {},
   "source": [
    "#### 1 - Packages  \n",
    "sklearn is a famous package for machine learning.   \n",
    "matplotlib is a common package for vasualization."
   ]
  },
  {
   "cell_type": "code",
   "execution_count": 20,
   "metadata": {},
   "outputs": [],
   "source": [
    "from sklearn import datasets\n",
    "import matplotlib.pyplot as plt\n",
    "from sklearn.model_selection import train_test_split"
   ]
  },
  {
   "cell_type": "markdown",
   "metadata": {},
   "source": [
    "#### 2 - Overvie of the dataset  \n",
    "    - a training set has m_train images labeled as 0 if the digit < 5 or 1 if the digit >= 5\n",
    "    - a test set contains m_test images labels as if the digit < 5 or 1 if the digit >= 5\n",
    "    - eah image if of shape (num_px, num_px ). Thus, each image is square(height=num_px and  width = num_px)"
   ]
  },
  {
   "cell_type": "code",
   "execution_count": 21,
   "metadata": {},
   "outputs": [],
   "source": [
    "# Loading the data \n",
    "digits = datasets.load_digits()"
   ]
  },
  {
   "cell_type": "code",
   "execution_count": 22,
   "metadata": {},
   "outputs": [
    {
     "data": {
      "image/png": "[encoded data removed]",
      "text/plain": [
       "<Figure size 432x288 with 10 Axes>"
      ]
     },
     "metadata": {},
     "output_type": "display_data"
    }
   ],
   "source": [
    "# Vilizating the data\n",
    "for i in range(1,11):\n",
    "    plt.subplot(2,5,i)\n",
    "    plt.imshow(digits.data[i-1].reshape([8,8]),cmap=plt.cm.gray_r)\n",
    "    plt.text(3,10,str(digits.target[i-1]))\n",
    "    plt.xticks([])\n",
    "    plt.yticks([])\n",
    "plt.show()"
   ]
  },
  {
   "cell_type": "code",
   "execution_count": 23,
   "metadata": {},
   "outputs": [],
   "source": [
    "# Split the data into training set and test set \n",
    "X_train, X_test, y_train, y_test = train_test_split(digits.data, digits.target, test_size=0.25)"
   ]
  },
  {
   "cell_type": "code",
   "execution_count": 24,
   "metadata": {},
   "outputs": [],
   "source": [
    "# reformulate the label. \n",
    "# If the digit is smaller than 5, the label is 0.\n",
    "# If the digit is larger than 5, the label is 1.\n",
    "\n",
    "y_train[y_train < 5 ] = 0\n",
    "y_train[y_train >= 5] = 1\n",
    "y_test[y_test < 5] = 0\n",
    "y_test[y_test >= 5] = 1"
   ]
  },
  {
   "cell_type": "code",
   "execution_count": 25,
   "metadata": {},
   "outputs": [
    {
     "name": "stdout",
     "output_type": "stream",
     "text": [
      "(1347, 64)\n",
      "(450, 64)\n",
      "(1347,)\n",
      "(450,)\n"
     ]
    }
   ],
   "source": [
    "print(X_train.shape)\n",
    "print(X_test.shape)\n",
    "print(y_train.shape)\n",
    "print(y_test.shape)"
   ]
  },
  {
   "cell_type": "markdown",
   "metadata": {},
   "source": [
    "#### 3- Architecture of the neural network"
   ]
  },
  {
   "cell_type": "markdown",
   "metadata": {},
   "source": [
    "![title](network.png)"
   ]
  },
  {
   "cell_type": "code",
   "execution_count": 26,
   "metadata": {},
   "outputs": [
    {
     "name": "stderr",
     "output_type": "stream",
     "text": [
      "'pwd' 不是内部或外部命令，也不是可运行的程序\n",
      "或批处理文件。\n"
     ]
    }
   ],
   "source": [
    "!pwd"
   ]
  },
  {
   "cell_type": "markdown",
   "metadata": {},
   "source": [
    "##### Mathematical expression of the algorithm:"
   ]
  },
  {
   "cell_type": "markdown",
   "metadata": {},
   "source": [
    "For one example $x^{(i)}$:   \n",
    " $$ z^{(i)} = w^T * x^{(i)} +b $$   \n",
    " $$ y^{(i)} = a^{(i)} = sigmoid(z^{(i)})$$   \n",
    " $$L(a^{(i)},y^{(i)}) = -y^{(i)} log(a^{(i)})-(1-y^{(i)})log(1-a^{(i)})$$"
   ]
  },
  {
   "cell_type": "markdown",
   "metadata": {},
   "source": [
    "The total cost over all training examples:\n",
    "$$ J = \\frac{1}{m}\\sum_{i=1}^{m}L(a^{(i)},y^{(i)}) $$"
   ]
  },
  {
   "cell_type": "markdown",
   "metadata": {},
   "source": [
    "#### 4 - Building the algorithm"
   ]
  },
  {
   "cell_type": "markdown",
   "metadata": {},
   "source": [
    "##### 4.1- Activation function    \n",
    "###### Exercise:\n",
    "Finish the sigmoid funciton "
   ]
  },
  {
   "cell_type": "code",
   "execution_count": 27,
   "metadata": {},
   "outputs": [],
   "source": [
    "def sigmoid(z):\n",
    "    '''\n",
    "    Compute the sigmoid of z\n",
    "    Arguments: z -- a scalar or numpy array of any size.\n",
    "    \n",
    "    Return:\n",
    "    s -- sigmoid(z)\n",
    "    '''\n",
    "    s = None\n",
    "    _z = np.exp(z)\n",
    "    s =  _z/ (_z + 1)\n",
    "    \n",
    "    return s"
   ]
  },
  {
   "cell_type": "code",
   "execution_count": 28,
   "metadata": {},
   "outputs": [
    {
     "name": "stdout",
     "output_type": "stream",
     "text": [
      "sigmoid([0,2]) = [0.5        0.88079708]\n"
     ]
    }
   ],
   "source": [
    "# Test your code \n",
    "# The result should be [0.5 0.88079708]\n",
    "print(\"sigmoid([0,2]) = \" + str(sigmoid(np.array([0,2]))))"
   ]
  },
  {
   "cell_type": "markdown",
   "metadata": {},
   "source": [
    "##### 4.1-Initializaing parameters\n",
    "###### Exercise:\n",
    "Finishe the initialize_parameters function below"
   ]
  },
  {
   "cell_type": "code",
   "execution_count": 29,
   "metadata": {},
   "outputs": [],
   "source": [
    "# Random innitialize the parameters\n",
    "\n",
    "def initialize_parameters(dim):\n",
    "    '''\n",
    "    Argument: dim -- size of the w vector\n",
    "    \n",
    "    Returns:\n",
    "    w -- initialized vector of shape (dim,1)\n",
    "    b -- initializaed scalar\n",
    "    '''\n",
    "    \n",
    "    w = np.random.randn(dim, 1)\n",
    "    b = 0\n",
    "    \n",
    "    assert(w.shape == (dim,1))\n",
    "    assert(isinstance(b,float) or isinstance(b,int))\n",
    "    \n",
    "    return w,b"
   ]
  },
  {
   "cell_type": "markdown",
   "metadata": {},
   "source": [
    "#### 4.3-Forward and backward propagation"
   ]
  },
  {
   "cell_type": "markdown",
   "metadata": {},
   "source": [
    "###### Some mathematical expressions\n",
    "Forward Propagation:   \n",
    ". X    \n",
    ". A = $\\sigma(w^T*X+b) = (a^{(1)},a^{(2)},...,a^{(m)}$   \n",
    ". J = $-\\frac{1}{m} \\sum_{i=1}^{m}y^{(i)}log(a^{(i)}+(1-y^{(i)})log(1-a^{(i)})$       "
   ]
  },
  {
   "cell_type": "markdown",
   "metadata": {},
   "source": [
    "Some derivative: \n",
    "$$\\frac{\\partial{J}}{\\partial{w}} = \\frac{1}{m}X*(A-Y)^T$$   \n",
    "$$\\frac{\\partial{J}}{\\partial{b}} = \\frac{1}{m}\\sum_{i=1}^m(a^{(i)}-y^{(i)}) $$"
   ]
  },
  {
   "cell_type": "markdown",
   "metadata": {},
   "source": [
    "###### Exercise:\n",
    "Finish the function below:"
   ]
  },
  {
   "cell_type": "code",
   "execution_count": 30,
   "metadata": {},
   "outputs": [],
   "source": [
    "def propagate(w,b,X,Y):\n",
    "    '''\n",
    "    Implement the cost function and its gradient for the propagation\n",
    "    \n",
    "    Arguments:\n",
    "    w - weights\n",
    "    b - bias\n",
    "    X - data\n",
    "    Y - ground truth\n",
    "    '''\n",
    "    def calculate_z(w, b, X):\n",
    "#         print(w.shape, X.shape)\n",
    "        return np.dot(w.T, X.T) + b\n",
    "    \n",
    "    m = X.shape[1]\n",
    "    A = np.array([sigmoid(z) for z in calculate_z(w, b, X)])\n",
    "#     print([a for a in A.reshape(-1) if a <= 0 or a >= 1])\n",
    "    \n",
    "#     print(Y.shape, A.shape, (1-Y).shape, calculate_z(w, b, X).shape)\n",
    "    cost = -1 / m * np.sum(\n",
    "        Y * np.log(A) + (1- Y) * np.log((1 - A))\n",
    "    )\n",
    "#     print(cost, type(\n",
    "#         Y * np.log(A) + (1- Y) * np.log((1 - A))\n",
    "#     ))\n",
    "    \n",
    "#     print(Y.shape, X.shape, A.shape)\n",
    "    dw = 1 / m * np.dot(X.T, (A-Y).T)\n",
    "    db = 1 / m * np.sum(A.reshape(-1) - Y)\n",
    "#     print(dw.shape , w.shape)\n",
    "    assert(dw.shape == w.shape)\n",
    "    assert(db.dtype == float)\n",
    "    cost = np.squeeze(cost)\n",
    "    assert(cost.shape == ())\n",
    "    \n",
    "    grads = {'dw':dw,\n",
    "             'db':db}\n",
    "    return grads, cost"
   ]
  },
  {
   "cell_type": "code",
   "execution_count": 31,
   "metadata": {},
   "outputs": [
    {
     "ename": "TypeError",
     "evalue": "__call__() takes 2 positional arguments but 8 were given",
     "output_type": "error",
     "traceback": [
      "\u001b[1;31m---------------------------------------------------------------------------\u001b[0m",
      "\u001b[1;31mTypeError\u001b[0m                                 Traceback (most recent call last)",
      "\u001b[1;32m<ipython-input-31-abe7a3e39181>\u001b[0m in \u001b[0;36m<module>\u001b[1;34m()\u001b[0m\n\u001b[1;32m----> 1\u001b[1;33m \u001b[0mmodel\u001b[0m\u001b[1;33m(\u001b[0m\u001b[0mX_train\u001b[0m\u001b[1;33m,\u001b[0m \u001b[0my_train\u001b[0m\u001b[1;33m,\u001b[0m \u001b[0mX_test\u001b[0m\u001b[1;33m,\u001b[0m \u001b[0my_test\u001b[0m\u001b[1;33m,\u001b[0m \u001b[1;36m1000\u001b[0m\u001b[1;33m,\u001b[0m \u001b[1;36m1e-3\u001b[0m\u001b[1;33m,\u001b[0m\u001b[1;32mTrue\u001b[0m\u001b[1;33m)\u001b[0m\u001b[1;33m\u001b[0m\u001b[0m\n\u001b[0m",
      "\u001b[1;32mC:\\Anaconda3\\lib\\site-packages\\keras\\backend\\tensorflow_backend.py\u001b[0m in \u001b[0;36msymbolic_fn_wrapper\u001b[1;34m(*args, **kwargs)\u001b[0m\n\u001b[0;32m     73\u001b[0m         \u001b[1;32mif\u001b[0m \u001b[0m_SYMBOLIC_SCOPE\u001b[0m\u001b[1;33m.\u001b[0m\u001b[0mvalue\u001b[0m\u001b[1;33m:\u001b[0m\u001b[1;33m\u001b[0m\u001b[0m\n\u001b[0;32m     74\u001b[0m             \u001b[1;32mwith\u001b[0m \u001b[0mget_graph\u001b[0m\u001b[1;33m(\u001b[0m\u001b[1;33m)\u001b[0m\u001b[1;33m.\u001b[0m\u001b[0mas_default\u001b[0m\u001b[1;33m(\u001b[0m\u001b[1;33m)\u001b[0m\u001b[1;33m:\u001b[0m\u001b[1;33m\u001b[0m\u001b[0m\n\u001b[1;32m---> 75\u001b[1;33m                 \u001b[1;32mreturn\u001b[0m \u001b[0mfunc\u001b[0m\u001b[1;33m(\u001b[0m\u001b[1;33m*\u001b[0m\u001b[0margs\u001b[0m\u001b[1;33m,\u001b[0m \u001b[1;33m**\u001b[0m\u001b[0mkwargs\u001b[0m\u001b[1;33m)\u001b[0m\u001b[1;33m\u001b[0m\u001b[0m\n\u001b[0m\u001b[0;32m     76\u001b[0m         \u001b[1;32melse\u001b[0m\u001b[1;33m:\u001b[0m\u001b[1;33m\u001b[0m\u001b[0m\n\u001b[0;32m     77\u001b[0m             \u001b[1;32mreturn\u001b[0m \u001b[0mfunc\u001b[0m\u001b[1;33m(\u001b[0m\u001b[1;33m*\u001b[0m\u001b[0margs\u001b[0m\u001b[1;33m,\u001b[0m \u001b[1;33m**\u001b[0m\u001b[0mkwargs\u001b[0m\u001b[1;33m)\u001b[0m\u001b[1;33m\u001b[0m\u001b[0m\n",
      "\u001b[1;31mTypeError\u001b[0m: __call__() takes 2 positional arguments but 8 were given"
     ]
    }
   ],
   "source": [
    "model(X_train, y_train, X_test, y_test, 1000, 1e-3,True)"
   ]
  },
  {
   "cell_type": "markdown",
   "metadata": {},
   "source": [
    "##### 4.4 -Optimization"
   ]
  },
  {
   "cell_type": "markdown",
   "metadata": {},
   "source": [
    "###### Exercise:\n",
    "Minimizing the cost function using gradient descent.   \n",
    "$$\\theta = \\theta - \\alpha*d\\theta$$ where $\\alpha$ is the learning rate."
   ]
  },
  {
   "cell_type": "code",
   "execution_count": 32,
   "metadata": {},
   "outputs": [],
   "source": [
    "def optimize(w, b, X, Y, num_iterations, learning_rate, print_cost=False):\n",
    "    '''\n",
    "    This function optimize w and b by running a gradient descen algorithm\n",
    "    \n",
    "    Arguments:\n",
    "    w - weights\n",
    "    b - bias\n",
    "    X - data\n",
    "    Y - ground truth\n",
    "    num_iterations -- number of iterations of the optimization loop\n",
    "    learning_rate -- learning rate of the gradient descent update rule\n",
    "    print_cost -- True to print the loss every 100 steps\n",
    "    \n",
    "    Returns:\n",
    "    params - dictionary containing the weights w and bias b\n",
    "    grads -- dictionary containing the gradients of the weights and bias with respect to the cost function\n",
    "    costs -- list of all the costs computed during the optimization, this will be used to plot the learning curve.\n",
    "    \n",
    "    '''\n",
    "    \n",
    "    costs = []\n",
    "    \n",
    "    for i in range(num_iterations):\n",
    "        \n",
    "        grads, cost = propagate(w,b,X,Y)\n",
    "        \n",
    "        dw = grads['dw']\n",
    "        db = grads['db']\n",
    "        \n",
    "        w = w - learning_rate * grads['dw']\n",
    "        b = b - learning_rate * grads['db']\n",
    "        \n",
    "        if i % 100 == 0:\n",
    "            costs.append(cost)\n",
    "        if print_cost and i % 100 == 0:\n",
    "            print (\"Cost after iteration %i: %f\" %(i, cost))\n",
    "    \n",
    "    params = {\"w\":w,\n",
    "              \"b\":b}\n",
    "    \n",
    "    grads = {\"dw\":dw,\n",
    "             \"db\":db}\n",
    "    \n",
    "    return params, grads, costs"
   ]
  },
  {
   "cell_type": "markdown",
   "metadata": {},
   "source": [
    "###### Exercise\n",
    "The previous function will output the learned w and b. We are able to use w and b to predict the labels for a dataset X. Implement the predict() function.    \n",
    "Two steps to finish this task:   \n",
    "1. Calculate $\\hat{Y} = A = \\sigma(w^T*X+b)$   \n",
    "2. Convert the entries of a into 0 (if activation <= 0.5) or 1 (if activation > 0.5), stores the predictions in a vector Y_prediction. If you wish, you can use an if/else statement in a for loop (though there is also a way to vectorize this)."
   ]
  },
  {
   "cell_type": "code",
   "execution_count": 33,
   "metadata": {},
   "outputs": [],
   "source": [
    "def predict(w, b, X):\n",
    "    '''\n",
    "    Predict whether the label is 0 or 1 using learned logistic regression parameters (w, b)\n",
    "    \n",
    "    Arguments:\n",
    "    w -- weights\n",
    "    b -- bias \n",
    "    X -- data \n",
    "    \n",
    "    Returns:\n",
    "    Y_prediction -- a numpy array (vector) containing all predictions (0/1) for the examples in X\n",
    "    '''\n",
    "#     print(w.shape, X.shape, b)\n",
    "    m = X.shape[0]\n",
    "    Y_prediction = np.zeros((1,m))\n",
    "#     w = w.reshape(X.shape[0],1)\n",
    "    \n",
    "    A = sigmoid(np.dot(w.T, X.T) + b)\n",
    "    Y_prediction = A\n",
    "    print(A.shape, m)\n",
    "    \n",
    "#     for i in range(A.shape[i]):\n",
    "#         None \n",
    "    \n",
    "    assert(Y_prediction.shape == (1,m))\n",
    "    \n",
    "    return Y_prediction"
   ]
  },
  {
   "cell_type": "markdown",
   "metadata": {},
   "source": [
    "##### 5- Merge all functions into a model"
   ]
  },
  {
   "cell_type": "markdown",
   "metadata": {},
   "source": [
    "Congratulations !! You have finished all the necessary components for constructing a model. Now, Let's take the challenge to merge all the implemented function into one model."
   ]
  },
  {
   "cell_type": "code",
   "execution_count": 34,
   "metadata": {},
   "outputs": [],
   "source": [
    "def model(X_train, Y_trein, X_test, Y_test, num_iterations, learning_rate,print_cost):\n",
    "    \"\"\"\n",
    "    Build the logistic regression model by calling all the functions you have implemented.\n",
    "    Arguments:\n",
    "    X_train - training set\n",
    "    Y_train - training label\n",
    "    X_test - test set\n",
    "    Y_test - test label\n",
    "    num_iteration - hyperparameter representing the number of iterations to optimize the parameters\n",
    "    learning_rate -- hyperparameter representing the learning rate used in the update rule of optimize()\n",
    "    print_cost -- Set to true to print the cost every 100 iterations\n",
    "    \n",
    "    Returns:\n",
    "    d - dictionary should contain following information w,b,training_accuracy, test_accuracy,cost\n",
    "    eg: d = {\"w\":w,\n",
    "             \"b\":b,\n",
    "             \"training_accuracy\": traing_accuracy,\n",
    "             \"test_accuracy\":test_accuracy,\n",
    "             \"cost\":cost}\n",
    "    \"\"\"\n",
    "    dim = X_train.shape[1]\n",
    "    w,b = initialize_parameters(dim)\n",
    "    \n",
    "    params, grads, costs = optimize(w, b, X_train, Y_trein, num_iterations, learning_rate, print_cost=False)\n",
    "    w,b = params['w'], params['b']\n",
    "    \n",
    "    cost = costs[-1]\n",
    "    \n",
    "    y_hat = predict(w, b, X_train).reshape(-1)\n",
    "    x = lambda x: 1 if x > 0.5 else 0\n",
    "    y_hat = np.array([x(i) for i in y_hat])\n",
    "    accuracy = y_hat - Y_trein\n",
    "    true = len(accuracy[accuracy == 0])\n",
    "    traing_accuracy = true / Y_trein.shape[0]\n",
    "    \n",
    "    y_hat = predict(w, b, X_test).reshape(-1)\n",
    "    x = lambda x: 1 if x > 0.5 else 0\n",
    "    y_hat = np.array([x(i) for i in y_hat])\n",
    "    accuracy = y_hat - Y_test\n",
    "    true = len(accuracy[accuracy == 0])\n",
    "    test_accuracy = true / Y_test.shape[0]\n",
    "        \n",
    "    \n",
    "    d = {\"w\":w,\n",
    "         \"b\":b,\n",
    "         \"training_accuracy\": traing_accuracy,\n",
    "         \"test_accuracy\":test_accuracy,\n",
    "         \"cost\":cost,\n",
    "        'costs': costs}\n",
    "    return d"
   ]
  },
  {
   "cell_type": "markdown",
   "metadata": {},
   "source": [
    "老师, 这个有的时候算出来是1.0怎么办, 因为_z实在是太大了, 然后后面的cost在sigmoid为1时是nan\n",
    "\n",
    "def sigmoid(z):\n",
    "    '''\n",
    "    Compute the sigmoid of z\n",
    "    Arguments: z -- a scalar or numpy array of any size.\n",
    "    \n",
    "    Return:\n",
    "    s -- sigmoid(z)\n",
    "    '''\n",
    "    s = None\n",
    "    _z = np.exp(z)\n",
    "    s =  _z/ (_z + 1)\n",
    "    \n",
    "    return s"
   ]
  },
  {
   "cell_type": "code",
   "execution_count": 35,
   "metadata": {},
   "outputs": [
    {
     "name": "stderr",
     "output_type": "stream",
     "text": [
      "C:\\Anaconda3\\lib\\site-packages\\ipykernel_launcher.py:21: RuntimeWarning: divide by zero encountered in log\n",
      "C:\\Anaconda3\\lib\\site-packages\\ipykernel_launcher.py:21: RuntimeWarning: invalid value encountered in multiply\n"
     ]
    },
    {
     "name": "stdout",
     "output_type": "stream",
     "text": [
      "(1, 1347) 1347\n",
      "(1, 450) 450\n"
     ]
    },
    {
     "data": {
      "text/plain": [
       "{'w': array([[-2.81990456],\n",
       "        [ 0.13630687],\n",
       "        [ 0.11038245],\n",
       "        [-0.02114954],\n",
       "        [ 0.19311979],\n",
       "        [ 0.18835339],\n",
       "        [ 0.37228379],\n",
       "        [-0.24086814],\n",
       "        [ 0.01952311],\n",
       "        [-0.39635034],\n",
       "        [ 0.26310817],\n",
       "        [ 0.20839173],\n",
       "        [-0.12335377],\n",
       "        [-0.05236397],\n",
       "        [-0.01809834],\n",
       "        [ 0.17475075],\n",
       "        [-1.29459724],\n",
       "        [ 0.26183626],\n",
       "        [ 0.31894184],\n",
       "        [-0.08335362],\n",
       "        [-0.52857669],\n",
       "        [-0.19193715],\n",
       "        [-0.24717934],\n",
       "        [ 0.20476186],\n",
       "        [-0.00381547],\n",
       "        [-0.55188259],\n",
       "        [ 0.13975993],\n",
       "        [ 0.39481409],\n",
       "        [ 0.1386001 ],\n",
       "        [ 0.34310648],\n",
       "        [-0.38218598],\n",
       "        [-0.79653259],\n",
       "        [-0.37661569],\n",
       "        [-0.43945039],\n",
       "        [-0.0258784 ],\n",
       "        [ 0.43154467],\n",
       "        [-0.25783536],\n",
       "        [-0.01365978],\n",
       "        [ 0.08324853],\n",
       "        [ 1.88151469],\n",
       "        [-0.86401698],\n",
       "        [-0.09488027],\n",
       "        [ 0.13103103],\n",
       "        [-0.15167909],\n",
       "        [ 0.36130139],\n",
       "        [ 0.10570807],\n",
       "        [ 0.23040088],\n",
       "        [-0.80245547],\n",
       "        [ 0.14858115],\n",
       "        [-0.00754823],\n",
       "        [ 0.04627331],\n",
       "        [-0.11023852],\n",
       "        [-0.75677311],\n",
       "        [-0.06273454],\n",
       "        [ 0.13623392],\n",
       "        [ 0.5012394 ],\n",
       "        [ 0.25229923],\n",
       "        [-0.9246505 ],\n",
       "        [ 0.10911672],\n",
       "        [-0.18569509],\n",
       "        [-0.34157259],\n",
       "        [-0.16907171],\n",
       "        [-0.17441378],\n",
       "        [-0.98667107]]),\n",
       " 'b': -0.02866914795396689,\n",
       " 'training_accuracy': 0.9123979213066072,\n",
       " 'test_accuracy': 0.8977777777777778,\n",
       " 'cost': 7.26602303009527,\n",
       " 'costs': [nan,\n",
       "  nan,\n",
       "  nan,\n",
       "  nan,\n",
       "  13.761980620857209,\n",
       "  11.753178692510291,\n",
       "  10.321484033064348,\n",
       "  9.231787701977286,\n",
       "  10.856012815323716,\n",
       "  8.212980339216074,\n",
       "  7.763077984037519,\n",
       "  7.681245117657129,\n",
       "  19.695084215647213,\n",
       "  36.51221550188224,\n",
       "  14.15855159969081,\n",
       "  7.803284087255078,\n",
       "  7.414416135910235,\n",
       "  7.201070735619762,\n",
       "  7.033510505948978,\n",
       "  6.898587953398666,\n",
       "  6.788294518185395,\n",
       "  6.696866814459778,\n",
       "  6.620159388123297,\n",
       "  6.555292357144255,\n",
       "  6.499876674354091,\n",
       "  6.453262087619228,\n",
       "  6.417810702146807,\n",
       "  6.417055002848289,\n",
       "  6.5932788170489225,\n",
       "  7.727246914617072,\n",
       "  14.54711365683368,\n",
       "  49.3436673123601,\n",
       "  57.93550371068419,\n",
       "  44.84082324164271,\n",
       "  33.520833492589674,\n",
       "  24.221621999025654,\n",
       "  17.23982952417841,\n",
       "  12.318369318565182,\n",
       "  9.44856856938469,\n",
       "  8.189460191787756,\n",
       "  7.743876262373442,\n",
       "  7.568234590510624,\n",
       "  7.47415001171337,\n",
       "  7.41753923548338,\n",
       "  7.3755768656337235,\n",
       "  7.343044722974391,\n",
       "  7.318522675696632,\n",
       "  7.297816645387072,\n",
       "  7.28001501070853,\n",
       "  7.26602303009527]}"
      ]
     },
     "execution_count": 35,
     "metadata": {},
     "output_type": "execute_result"
    }
   ],
   "source": [
    "model(X_train, y_train, X_test, y_test, 5000, 1e-3,True)"
   ]
  },
  {
   "cell_type": "markdown",
   "metadata": {},
   "source": [
    "### 4.选做题"
   ]
  },
  {
   "cell_type": "markdown",
   "metadata": {},
   "source": [
    "Congratulations on building your first logistic regression model. It is your time to analyze it further."
   ]
  },
  {
   "cell_type": "markdown",
   "metadata": {},
   "source": [
    "##### 4.1 Observe the effect of learning rate on the leraning process.   \n",
    "Hits: plot the learning curve with different learning rate"
   ]
  },
  {
   "cell_type": "code",
   "execution_count": 38,
   "metadata": {},
   "outputs": [
    {
     "name": "stderr",
     "output_type": "stream",
     "text": [
      "C:\\Anaconda3\\lib\\site-packages\\ipykernel_launcher.py:21: RuntimeWarning: divide by zero encountered in log\n",
      "C:\\Anaconda3\\lib\\site-packages\\ipykernel_launcher.py:21: RuntimeWarning: invalid value encountered in multiply\n"
     ]
    },
    {
     "name": "stdout",
     "output_type": "stream",
     "text": [
      "(1, 1347) 1347\n",
      "(1, 450) 450\n",
      "(1, 1347) 1347\n",
      "(1, 450) 450\n",
      "(1, 1347) 1347\n",
      "(1, 450) 450\n",
      "(1, 1347) 1347\n",
      "(1, 450) 450\n"
     ]
    },
    {
     "data": {
      "image/png": "[encoded data removed]",
      "text/plain": [
       "<Figure size 1440x720 with 1 Axes>"
      ]
     },
     "metadata": {
      "needs_background": "light"
     },
     "output_type": "display_data"
    }
   ],
   "source": [
    "plt.rcParams[\"figure.figsize\"] = (20,10)\n",
    "for i, lr in enumerate([1e-1, 1e-2, 1e-3, 1e-5]):\n",
    "    costs = model(X_train, y_train, X_test, y_test, 10000, 1e-3,True)['costs']\n",
    "    color = {\n",
    "        0: 'red',\n",
    "        1: 'yellow',\n",
    "        2: 'blue',\n",
    "        3: 'black'\n",
    "    }\n",
    "    plt.plot(costs, color=color[i])"
   ]
  },
  {
   "cell_type": "markdown",
   "metadata": {},
   "source": [
    "##### 4.2 Observe the effect of iteration_num on the test accuracy."
   ]
  },
  {
   "cell_type": "code",
   "execution_count": 47,
   "metadata": {
    "scrolled": false
   },
   "outputs": [
    {
     "name": "stderr",
     "output_type": "stream",
     "text": [
      "C:\\Anaconda3\\lib\\site-packages\\ipykernel_launcher.py:21: RuntimeWarning: divide by zero encountered in log\n",
      "C:\\Anaconda3\\lib\\site-packages\\ipykernel_launcher.py:21: RuntimeWarning: invalid value encountered in multiply\n"
     ]
    },
    {
     "name": "stdout",
     "output_type": "stream",
     "text": [
      "(1, 1347) 1347\n",
      "(1, 450) 450\n",
      "(1, 1347) 1347\n",
      "(1, 450) 450\n",
      "(1, 1347) 1347\n",
      "(1, 450) 450\n",
      "(1, 1347) 1347\n",
      "(1, 450) 450\n",
      "(1, 1347) 1347\n",
      "(1, 450) 450\n",
      "(1, 1347) 1347\n",
      "(1, 450) 450\n",
      "(1, 1347) 1347\n",
      "(1, 450) 450\n",
      "(1, 1347) 1347\n",
      "(1, 450) 450\n",
      "(1, 1347) 1347\n",
      "(1, 450) 450\n",
      "(1, 1347) 1347\n",
      "(1, 450) 450\n",
      "(1, 1347) 1347\n",
      "(1, 450) 450\n",
      "(1, 1347) 1347\n",
      "(1, 450) 450\n",
      "(1, 1347) 1347\n",
      "(1, 450) 450\n",
      "(1, 1347) 1347\n",
      "(1, 450) 450\n",
      "(1, 1347) 1347\n",
      "(1, 450) 450\n",
      "(1, 1347) 1347\n",
      "(1, 450) 450\n",
      "(1, 1347) 1347\n",
      "(1, 450) 450\n",
      "(1, 1347) 1347\n",
      "(1, 450) 450\n",
      "(1, 1347) 1347\n",
      "(1, 450) 450\n",
      "(1, 1347) 1347\n",
      "(1, 450) 450\n",
      "(1, 1347) 1347\n",
      "(1, 450) 450\n",
      "(1, 1347) 1347\n",
      "(1, 450) 450\n",
      "(1, 1347) 1347\n",
      "(1, 450) 450\n",
      "(1, 1347) 1347\n",
      "(1, 450) 450\n",
      "(1, 1347) 1347\n",
      "(1, 450) 450\n",
      "(1, 1347) 1347\n",
      "(1, 450) 450\n",
      "(1, 1347) 1347\n",
      "(1, 450) 450\n",
      "(1, 1347) 1347\n",
      "(1, 450) 450\n",
      "(1, 1347) 1347\n",
      "(1, 450) 450\n",
      "(1, 1347) 1347\n",
      "(1, 450) 450\n",
      "(1, 1347) 1347\n",
      "(1, 450) 450\n",
      "(1, 1347) 1347\n",
      "(1, 450) 450\n",
      "(1, 1347) 1347\n",
      "(1, 450) 450\n",
      "(1, 1347) 1347\n",
      "(1, 450) 450\n",
      "(1, 1347) 1347\n",
      "(1, 450) 450\n",
      "(1, 1347) 1347\n",
      "(1, 450) 450\n",
      "(1, 1347) 1347\n",
      "(1, 450) 450\n",
      "(1, 1347) 1347\n",
      "(1, 450) 450\n",
      "(1, 1347) 1347\n",
      "(1, 450) 450\n",
      "(1, 1347) 1347\n",
      "(1, 450) 450\n",
      "(1, 1347) 1347\n",
      "(1, 450) 450\n",
      "(1, 1347) 1347\n",
      "(1, 450) 450\n",
      "(1, 1347) 1347\n",
      "(1, 450) 450\n",
      "(1, 1347) 1347\n",
      "(1, 450) 450\n",
      "(1, 1347) 1347\n",
      "(1, 450) 450\n",
      "(1, 1347) 1347\n",
      "(1, 450) 450\n",
      "(1, 1347) 1347\n",
      "(1, 450) 450\n",
      "(1, 1347) 1347\n",
      "(1, 450) 450\n",
      "(1, 1347) 1347\n",
      "(1, 450) 450\n",
      "(1, 1347) 1347\n",
      "(1, 450) 450\n",
      "(1, 1347) 1347\n",
      "(1, 450) 450\n",
      "(1, 1347) 1347\n",
      "(1, 450) 450\n",
      "(1, 1347) 1347\n",
      "(1, 450) 450\n",
      "(1, 1347) 1347\n",
      "(1, 450) 450\n",
      "(1, 1347) 1347\n",
      "(1, 450) 450\n",
      "(1, 1347) 1347\n",
      "(1, 450) 450\n",
      "(1, 1347) 1347\n",
      "(1, 450) 450\n",
      "(1, 1347) 1347\n",
      "(1, 450) 450\n",
      "(1, 1347) 1347\n",
      "(1, 450) 450\n",
      "(1, 1347) 1347\n",
      "(1, 450) 450\n",
      "(1, 1347) 1347\n",
      "(1, 450) 450\n",
      "(1, 1347) 1347\n",
      "(1, 450) 450\n",
      "(1, 1347) 1347\n",
      "(1, 450) 450\n",
      "(1, 1347) 1347\n",
      "(1, 450) 450\n",
      "(1, 1347) 1347\n",
      "(1, 450) 450\n",
      "(1, 1347) 1347\n",
      "(1, 450) 450\n",
      "(1, 1347) 1347\n",
      "(1, 450) 450\n",
      "(1, 1347) 1347\n",
      "(1, 450) 450\n",
      "(1, 1347) 1347\n",
      "(1, 450) 450\n",
      "(1, 1347) 1347\n",
      "(1, 450) 450\n",
      "(1, 1347) 1347\n",
      "(1, 450) 450\n",
      "(1, 1347) 1347\n",
      "(1, 450) 450\n",
      "(1, 1347) 1347\n",
      "(1, 450) 450\n",
      "(1, 1347) 1347\n",
      "(1, 450) 450\n",
      "(1, 1347) 1347\n",
      "(1, 450) 450\n",
      "(1, 1347) 1347\n",
      "(1, 450) 450\n",
      "(1, 1347) 1347\n",
      "(1, 450) 450\n",
      "(1, 1347) 1347\n",
      "(1, 450) 450\n",
      "(1, 1347) 1347\n",
      "(1, 450) 450\n",
      "(1, 1347) 1347\n",
      "(1, 450) 450\n",
      "(1, 1347) 1347\n",
      "(1, 450) 450\n",
      "(1, 1347) 1347\n",
      "(1, 450) 450\n",
      "(1, 1347) 1347\n",
      "(1, 450) 450\n",
      "(1, 1347) 1347\n",
      "(1, 450) 450\n",
      "(1, 1347) 1347\n",
      "(1, 450) 450\n",
      "(1, 1347) 1347\n",
      "(1, 450) 450\n",
      "(1, 1347) 1347\n",
      "(1, 450) 450\n",
      "(1, 1347) 1347\n",
      "(1, 450) 450\n",
      "(1, 1347) 1347\n",
      "(1, 450) 450\n",
      "(1, 1347) 1347\n",
      "(1, 450) 450\n",
      "(1, 1347) 1347\n",
      "(1, 450) 450\n",
      "(1, 1347) 1347\n",
      "(1, 450) 450\n",
      "(1, 1347) 1347\n",
      "(1, 450) 450\n",
      "(1, 1347) 1347\n",
      "(1, 450) 450\n",
      "(1, 1347) 1347\n",
      "(1, 450) 450\n",
      "(1, 1347) 1347\n",
      "(1, 450) 450\n",
      "(1, 1347) 1347\n",
      "(1, 450) 450\n",
      "(1, 1347) 1347\n",
      "(1, 450) 450\n",
      "(1, 1347) 1347\n",
      "(1, 450) 450\n",
      "(1, 1347) 1347\n",
      "(1, 450) 450\n"
     ]
    },
    {
     "data": {
      "text/plain": [
       "<matplotlib.collections.PathCollection at 0x11df218b4a8>"
      ]
     },
     "execution_count": 47,
     "metadata": {},
     "output_type": "execute_result"
    },
    {
     "data": {
      "image/png": "[encoded data removed]",
      "text/plain": [
       "<Figure size 1440x720 with 1 Axes>"
      ]
     },
     "metadata": {
      "needs_background": "light"
     },
     "output_type": "display_data"
    }
   ],
   "source": [
    "test = []\n",
    "iteration = [i for i in range(1, 1000, 10)]\n",
    "for i, iter in enumerate(iteration):\n",
    "    test_accuracy = model(X_train, y_train, X_test, y_test, iter, 1e-3,False)['test_accuracy']\n",
    "    test.append(test_accuracy)\n",
    "plt.scatter(iteration, test)"
   ]
  },
  {
   "cell_type": "markdown",
   "metadata": {},
   "source": [
    "# Congratulations ! You have completed assigment 4. "
   ]
  },
  {
   "cell_type": "markdown",
   "metadata": {},
   "source": [
    "# Challenge ! ! !\n",
    "\n",
    "The original data have images labeled 0,1,2,3,4,5,6,7,8,9. In our logistic model, we only detect if the digit in the image is larger or smaller than 5. Now, Let's go for a more challenging problem. Try to use softmax function to build a model to recognize which digits (0,1,2,3,4,5,6,7,8,9) is in the image."
   ]
  },
  {
   "cell_type": "code",
   "execution_count": null,
   "metadata": {},
   "outputs": [],
   "source": []
  },
  {
   "cell_type": "code",
   "execution_count": null,
   "metadata": {},
   "outputs": [],
   "source": []
  },
  {
   "cell_type": "code",
   "execution_count": null,
   "metadata": {},
   "outputs": [],
   "source": []
  },
  {
   "cell_type": "code",
   "execution_count": null,
   "metadata": {},
   "outputs": [],
   "source": []
  },
  {
   "cell_type": "code",
   "execution_count": null,
   "metadata": {},
   "outputs": [],
   "source": []
  },
  {
   "cell_type": "code",
   "execution_count": null,
   "metadata": {},
   "outputs": [],
   "source": []
  },
  {
   "cell_type": "code",
   "execution_count": null,
   "metadata": {},
   "outputs": [],
   "source": []
  },
  {
   "cell_type": "code",
   "execution_count": null,
   "metadata": {},
   "outputs": [],
   "source": []
  },
  {
   "cell_type": "code",
   "execution_count": null,
   "metadata": {},
   "outputs": [],
   "source": []
  },
  {
   "cell_type": "code",
   "execution_count": null,
   "metadata": {},
   "outputs": [],
   "source": []
  },
  {
   "cell_type": "code",
   "execution_count": null,
   "metadata": {},
   "outputs": [],
   "source": []
  },
  {
   "cell_type": "code",
   "execution_count": null,
   "metadata": {},
   "outputs": [],
   "source": []
  },
  {
   "cell_type": "code",
   "execution_count": null,
   "metadata": {},
   "outputs": [],
   "source": []
  },
  {
   "cell_type": "code",
   "execution_count": null,
   "metadata": {},
   "outputs": [],
   "source": []
  },
  {
   "cell_type": "code",
   "execution_count": null,
   "metadata": {},
   "outputs": [],
   "source": []
  },
  {
   "cell_type": "code",
   "execution_count": null,
   "metadata": {},
   "outputs": [],
   "source": []
  },
  {
   "cell_type": "code",
   "execution_count": null,
   "metadata": {},
   "outputs": [],
   "source": []
  },
  {
   "cell_type": "code",
   "execution_count": null,
   "metadata": {},
   "outputs": [],
   "source": []
  },
  {
   "cell_type": "code",
   "execution_count": null,
   "metadata": {},
   "outputs": [],
   "source": []
  },
  {
   "cell_type": "code",
   "execution_count": null,
   "metadata": {},
   "outputs": [],
   "source": []
  },
  {
   "cell_type": "code",
   "execution_count": null,
   "metadata": {},
   "outputs": [],
   "source": []
  },
  {
   "cell_type": "code",
   "execution_count": null,
   "metadata": {},
   "outputs": [],
   "source": []
  },
  {
   "cell_type": "code",
   "execution_count": null,
   "metadata": {},
   "outputs": [],
   "source": []
  },
  {
   "cell_type": "code",
   "execution_count": null,
   "metadata": {},
   "outputs": [],
   "source": []
  },
  {
   "cell_type": "code",
   "execution_count": null,
   "metadata": {},
   "outputs": [],
   "source": []
  },
  {
   "cell_type": "code",
   "execution_count": null,
   "metadata": {},
   "outputs": [],
   "source": []
  },
  {
   "cell_type": "code",
   "execution_count": null,
   "metadata": {},
   "outputs": [],
   "source": []
  },
  {
   "cell_type": "code",
   "execution_count": null,
   "metadata": {},
   "outputs": [],
   "source": []
  },
  {
   "cell_type": "code",
   "execution_count": null,
   "metadata": {},
   "outputs": [],
   "source": []
  },
  {
   "cell_type": "code",
   "execution_count": null,
   "metadata": {},
   "outputs": [],
   "source": []
  },
  {
   "cell_type": "code",
   "execution_count": null,
   "metadata": {},
   "outputs": [],
   "source": []
  },
  {
   "cell_type": "code",
   "execution_count": null,
   "metadata": {},
   "outputs": [],
   "source": []
  },
  {
   "cell_type": "code",
   "execution_count": null,
   "metadata": {},
   "outputs": [],
   "source": []
  },
  {
   "cell_type": "code",
   "execution_count": null,
   "metadata": {},
   "outputs": [],
   "source": []
  },
  {
   "cell_type": "code",
   "execution_count": null,
   "metadata": {},
   "outputs": [],
   "source": []
  },
  {
   "cell_type": "code",
   "execution_count": null,
   "metadata": {},
   "outputs": [],
   "source": []
  },
  {
   "cell_type": "code",
   "execution_count": null,
   "metadata": {},
   "outputs": [],
   "source": []
  },
  {
   "cell_type": "code",
   "execution_count": null,
   "metadata": {},
   "outputs": [],
   "source": []
  },
  {
   "cell_type": "code",
   "execution_count": null,
   "metadata": {},
   "outputs": [],
   "source": []
  },
  {
   "cell_type": "code",
   "execution_count": null,
   "metadata": {},
   "outputs": [],
   "source": []
  },
  {
   "cell_type": "code",
   "execution_count": null,
   "metadata": {},
   "outputs": [],
   "source": []
  },
  {
   "cell_type": "code",
   "execution_count": null,
   "metadata": {},
   "outputs": [],
   "source": []
  },
  {
   "cell_type": "code",
   "execution_count": null,
   "metadata": {},
   "outputs": [],
   "source": []
  },
  {
   "cell_type": "code",
   "execution_count": null,
   "metadata": {},
   "outputs": [],
   "source": []
  },
  {
   "cell_type": "code",
   "execution_count": null,
   "metadata": {},
   "outputs": [],
   "source": []
  },
  {
   "cell_type": "code",
   "execution_count": null,
   "metadata": {},
   "outputs": [],
   "source": []
  },
  {
   "cell_type": "code",
   "execution_count": null,
   "metadata": {},
   "outputs": [],
   "source": []
  },
  {
   "cell_type": "code",
   "execution_count": null,
   "metadata": {},
   "outputs": [],
   "source": []
  },
  {
   "cell_type": "code",
   "execution_count": null,
   "metadata": {},
   "outputs": [],
   "source": []
  },
  {
   "cell_type": "code",
   "execution_count": null,
   "metadata": {},
   "outputs": [],
   "source": []
  },
  {
   "cell_type": "code",
   "execution_count": null,
   "metadata": {},
   "outputs": [],
   "source": []
  },
  {
   "cell_type": "code",
   "execution_count": null,
   "metadata": {},
   "outputs": [],
   "source": []
  },
  {
   "cell_type": "code",
   "execution_count": null,
   "metadata": {},
   "outputs": [],
   "source": []
  },
  {
   "cell_type": "code",
   "execution_count": null,
   "metadata": {},
   "outputs": [],
   "source": []
  },
  {
   "cell_type": "code",
   "execution_count": null,
   "metadata": {},
   "outputs": [],
   "source": []
  },
  {
   "cell_type": "code",
   "execution_count": null,
   "metadata": {},
   "outputs": [],
   "source": []
  },
  {
   "cell_type": "code",
   "execution_count": null,
   "metadata": {},
   "outputs": [],
   "source": []
  },
  {
   "cell_type": "code",
   "execution_count": null,
   "metadata": {},
   "outputs": [],
   "source": []
  },
  {
   "cell_type": "code",
   "execution_count": null,
   "metadata": {},
   "outputs": [],
   "source": []
  },
  {
   "cell_type": "code",
   "execution_count": null,
   "metadata": {},
   "outputs": [],
   "source": []
  },
  {
   "cell_type": "code",
   "execution_count": null,
   "metadata": {},
   "outputs": [],
   "source": []
  },
  {
   "cell_type": "code",
   "execution_count": null,
   "metadata": {},
   "outputs": [],
   "source": []
  },
  {
   "cell_type": "code",
   "execution_count": null,
   "metadata": {},
   "outputs": [],
   "source": []
  },
  {
   "cell_type": "code",
   "execution_count": null,
   "metadata": {},
   "outputs": [],
   "source": []
  },
  {
   "cell_type": "code",
   "execution_count": null,
   "metadata": {},
   "outputs": [],
   "source": []
  },
  {
   "cell_type": "code",
   "execution_count": null,
   "metadata": {},
   "outputs": [],
   "source": []
  },
  {
   "cell_type": "code",
   "execution_count": null,
   "metadata": {},
   "outputs": [],
   "source": []
  },
  {
   "cell_type": "code",
   "execution_count": null,
   "metadata": {},
   "outputs": [],
   "source": []
  },
  {
   "cell_type": "code",
   "execution_count": null,
   "metadata": {},
   "outputs": [],
   "source": []
  },
  {
   "cell_type": "code",
   "execution_count": null,
   "metadata": {},
   "outputs": [],
   "source": []
  },
  {
   "cell_type": "code",
   "execution_count": null,
   "metadata": {},
   "outputs": [],
   "source": []
  },
  {
   "cell_type": "code",
   "execution_count": null,
   "metadata": {},
   "outputs": [],
   "source": []
  },
  {
   "cell_type": "code",
   "execution_count": null,
   "metadata": {},
   "outputs": [],
   "source": []
  },
  {
   "cell_type": "code",
   "execution_count": null,
   "metadata": {},
   "outputs": [],
   "source": []
  },
  {
   "cell_type": "code",
   "execution_count": null,
   "metadata": {},
   "outputs": [],
   "source": []
  },
  {
   "cell_type": "code",
   "execution_count": null,
   "metadata": {},
   "outputs": [],
   "source": []
  },
  {
   "cell_type": "code",
   "execution_count": null,
   "metadata": {},
   "outputs": [],
   "source": []
  },
  {
   "cell_type": "code",
   "execution_count": null,
   "metadata": {},
   "outputs": [],
   "source": []
  },
  {
   "cell_type": "code",
   "execution_count": null,
   "metadata": {},
   "outputs": [],
   "source": []
  },
  {
   "cell_type": "code",
   "execution_count": null,
   "metadata": {},
   "outputs": [],
   "source": []
  },
  {
   "cell_type": "code",
   "execution_count": null,
   "metadata": {},
   "outputs": [],
   "source": []
  }
 ],
 "metadata": {
  "kernelspec": {
   "display_name": "Python 3",
   "language": "python",
   "name": "python3"
  },
  "language_info": {
   "codemirror_mode": {
    "name": "ipython",
    "version": 3
   },
   "file_extension": ".py",
   "mimetype": "text/x-python",
   "name": "python",
   "nbconvert_exporter": "python",
   "pygments_lexer": "ipython3",
   "version": "3.7.0"
  }
 },
 "nbformat": 4,
 "nbformat_minor": 2
}
