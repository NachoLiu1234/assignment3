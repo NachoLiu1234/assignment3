{
 "cells": [
  {
   "cell_type": "code",
   "execution_count": 1,
   "metadata": {},
   "outputs": [],
   "source": [
    "coordination_source = \"\"\"\n",
    "{name:'兰州', geoCoord:[103.73, 36.03]},\n",
    "{name:'嘉峪关', geoCoord:[98.17, 39.47]},\n",
    "{name:'西宁', geoCoord:[101.74, 36.56]},\n",
    "{name:'成都', geoCoord:[104.06, 30.67]},\n",
    "{name:'石家庄', geoCoord:[114.48, 38.03]},\n",
    "{name:'拉萨', geoCoord:[102.73, 25.04]},\n",
    "{name:'贵阳', geoCoord:[106.71, 26.57]},\n",
    "{name:'武汉', geoCoord:[114.31, 30.52]},\n",
    "{name:'郑州', geoCoord:[113.65, 34.76]},\n",
    "{name:'济南', geoCoord:[117, 36.65]},\n",
    "{name:'南京', geoCoord:[118.78, 32.04]},\n",
    "{name:'合肥', geoCoord:[117.27, 31.86]},\n",
    "{name:'杭州', geoCoord:[120.19, 30.26]},\n",
    "{name:'南昌', geoCoord:[115.89, 28.68]},\n",
    "{name:'福州', geoCoord:[119.3, 26.08]},\n",
    "{name:'广州', geoCoord:[113.23, 23.16]},\n",
    "{name:'长沙', geoCoord:[113, 28.21]},\n",
    "//{name:'海口', geoCoord:[110.35, 20.02]},\n",
    "{name:'沈阳', geoCoord:[123.38, 41.8]},\n",
    "{name:'长春', geoCoord:[125.35, 43.88]},\n",
    "{name:'哈尔滨', geoCoord:[126.63, 45.75]},\n",
    "{name:'太原', geoCoord:[112.53, 37.87]},\n",
    "{name:'西安', geoCoord:[108.95, 34.27]},\n",
    "//{name:'台湾', geoCoord:[121.30, 25.03]},\n",
    "{name:'北京', geoCoord:[116.46, 39.92]},\n",
    "{name:'上海', geoCoord:[121.48, 31.22]},\n",
    "{name:'重庆', geoCoord:[106.54, 29.59]},\n",
    "{name:'天津', geoCoord:[117.2, 39.13]},\n",
    "{name:'呼和浩特', geoCoord:[111.65, 40.82]},\n",
    "{name:'南宁', geoCoord:[108.33, 22.84]},\n",
    "//{name:'西藏', geoCoord:[91.11, 29.97]},\n",
    "{name:'银川', geoCoord:[106.27, 38.47]},\n",
    "{name:'乌鲁木齐', geoCoord:[87.68, 43.77]},\n",
    "{name:'香港', geoCoord:[114.17, 22.28]},\n",
    "{name:'澳门', geoCoord:[113.54, 22.19]}\n",
    "\"\"\""
   ]
  },
  {
   "cell_type": "code",
   "execution_count": 2,
   "metadata": {},
   "outputs": [],
   "source": [
    "name = 'name'\n",
    "geoCoord = 'geoCoord'\n",
    "coordination_source  = coordination_source.split('\\n')\n",
    "coordination_source = [el for el in coordination_source if not el.startswith('//')]\n",
    "coordination_source = '\\n'.join(coordination_source)\n",
    "city_info = eval('[' + coordination_source.strip() + ']')"
   ]
  },
  {
   "cell_type": "code",
   "execution_count": 3,
   "metadata": {},
   "outputs": [],
   "source": [
    "city_info = {dic['name']: dic['geoCoord'] for dic in city_info}"
   ]
  },
  {
   "cell_type": "code",
   "execution_count": 99,
   "metadata": {},
   "outputs": [],
   "source": [
    "import math\n",
    "\n",
    "def geo_distance(origin, destination):\n",
    "    \"\"\"\n",
    "    Calculate the Haversine distance.\n",
    "\n",
    "    Parameters\n",
    "    ----------\n",
    "    origin : tuple of float\n",
    "        (lat, long)\n",
    "    destination : tuple of float\n",
    "        (lat, long)\n",
    "\n",
    "    Returns\n",
    "    -------\n",
    "    distance_in_km : float\n",
    "\n",
    "    Examples\n",
    "    --------\n",
    "    >>> origin = (48.1372, 11.5756)  # Munich\n",
    "    >>> destination = (52.5186, 13.4083)  # Berlin\n",
    "    >>> round(distance(origin, destination), 1)\n",
    "    504.2\n",
    "    \"\"\"\n",
    "    lat1, lon1 = origin\n",
    "    lat2, lon2 = destination\n",
    "    radius = 6371  # km\n",
    "\n",
    "    dlat = math.radians(lat2 - lat1)\n",
    "    dlon = math.radians(lon2 - lon1)\n",
    "    a = (math.sin(dlat / 2) * math.sin(dlat / 2) +\n",
    "         math.cos(math.radians(lat1)) * math.cos(math.radians(lat2)) *\n",
    "         math.sin(dlon / 2) * math.sin(dlon / 2))\n",
    "    c = 2 * math.atan2(math.sqrt(a), math.sqrt(1 - a))\n",
    "    d = radius * c\n",
    "\n",
    "    return d"
   ]
  },
  {
   "cell_type": "code",
   "execution_count": 100,
   "metadata": {},
   "outputs": [],
   "source": [
    "def get_distance(city_from, city_to):\n",
    "    return geo_distance(city_info[city_from], city_info[city_to])"
   ]
  },
  {
   "cell_type": "code",
   "execution_count": 101,
   "metadata": {},
   "outputs": [
    {
     "data": {
      "text/plain": [
       "727.52769688981"
      ]
     },
     "execution_count": 101,
     "metadata": {},
     "output_type": "execute_result"
    }
   ],
   "source": [
    "get_distance('北京', '上海')"
   ]
  },
  {
   "cell_type": "code",
   "execution_count": 102,
   "metadata": {},
   "outputs": [],
   "source": [
    "import networkx as nx\n",
    "from matplotlib import pyplot as plt\n",
    "%matplotlib inline"
   ]
  },
  {
   "cell_type": "code",
   "execution_count": 103,
   "metadata": {},
   "outputs": [],
   "source": [
    "city_graph = nx.Graph()\n",
    "city_graph.add_nodes_from(list(city_info.keys()))"
   ]
  },
  {
   "cell_type": "code",
   "execution_count": 104,
   "metadata": {},
   "outputs": [
    {
     "data": {
      "image/png": "[encoded data removed]",
      "text/plain": [
       "<Figure size 432x288 with 1 Axes>"
      ]
     },
     "metadata": {},
     "output_type": "display_data"
    }
   ],
   "source": [
    "nx.draw(city_graph, city_info, with_labels=True, node_size=10)"
   ]
  },
  {
   "cell_type": "code",
   "execution_count": 105,
   "metadata": {},
   "outputs": [],
   "source": [
    "def get_threshold_city(city_info):\n",
    "    threshold = 700\n",
    "    cities = city_info.keys()\n",
    "    return_dict = {}\n",
    "    for c1 in cities:\n",
    "        return_dict[c1] = [c for c in cities if c != c1 and get_distance(c, c1) < threshold]\n",
    "    return return_dict"
   ]
  },
  {
   "cell_type": "code",
   "execution_count": 106,
   "metadata": {},
   "outputs": [],
   "source": [
    "threshold_city = get_threshold_city(city_info)"
   ]
  },
  {
   "cell_type": "code",
   "execution_count": 107,
   "metadata": {},
   "outputs": [],
   "source": [
    "graph = nx.Graph(threshold_city)\n",
    "graph.add_nodes_from(city_info)"
   ]
  },
  {
   "cell_type": "code",
   "execution_count": 108,
   "metadata": {},
   "outputs": [
    {
     "name": "stderr",
     "output_type": "stream",
     "text": [
      "C:\\Anaconda3\\lib\\site-packages\\networkx\\drawing\\nx_pylab.py:611: MatplotlibDeprecationWarning: isinstance(..., numbers.Number)\n",
      "  if cb.is_numlike(alpha):\n"
     ]
    },
    {
     "data": {
      "image/png": "[encoded data removed]",
      "text/plain": [
       "<Figure size 432x288 with 1 Axes>"
      ]
     },
     "metadata": {},
     "output_type": "display_data"
    }
   ],
   "source": [
    "nx.draw(graph, city_info, with_labels=0, node_size=20)"
   ]
  },
  {
   "cell_type": "code",
   "execution_count": 109,
   "metadata": {},
   "outputs": [],
   "source": [
    "def search(graph, start, distination, search_method):\n",
    "    pathes = [[start]]\n",
    "    while pathes:\n",
    "        path = pathes.pop(0)\n",
    "        for city in threshold_city[path[-1]]:\n",
    "            if city in path:\n",
    "                continue\n",
    "            pathes.append(path + [city])\n",
    "        pathes = search_method(pathes)\n",
    "        if pathes and pathes[0][-1] == distination:\n",
    "            return pathes[0]"
   ]
  },
  {
   "cell_type": "code",
   "execution_count": 110,
   "metadata": {},
   "outputs": [
    {
     "data": {
      "text/plain": [
       "['北京', '济南', '上海']"
      ]
     },
     "execution_count": 110,
     "metadata": {},
     "output_type": "execute_result"
    }
   ],
   "source": [
    "search(graph, '北京', '上海', lambda x: x)"
   ]
  },
  {
   "cell_type": "code",
   "execution_count": 111,
   "metadata": {},
   "outputs": [],
   "source": [
    "def calculate_distance(path):\n",
    "    distance = 0\n",
    "    for i in range(len(path) - 1):\n",
    "        distance += get_distance(path[i], path[i + 1])\n",
    "    return distance"
   ]
  },
  {
   "cell_type": "code",
   "execution_count": 112,
   "metadata": {},
   "outputs": [],
   "source": [
    "def search_method_1(pathes):\n",
    "    return sorted(pathes, key=lambda x: calculate_distance(x))"
   ]
  },
  {
   "cell_type": "code",
   "execution_count": 113,
   "metadata": {},
   "outputs": [
    {
     "data": {
      "text/plain": [
       "752.66259009181"
      ]
     },
     "execution_count": 113,
     "metadata": {},
     "output_type": "execute_result"
    }
   ],
   "source": [
    "calculate_distance(['北京', '济南', '上海'])"
   ]
  },
  {
   "cell_type": "code",
   "execution_count": 114,
   "metadata": {},
   "outputs": [
    {
     "data": {
      "text/plain": [
       "['北京', '天津', '上海']"
      ]
     },
     "execution_count": 114,
     "metadata": {},
     "output_type": "execute_result"
    }
   ],
   "source": [
    "search(graph, '北京', '上海', search_method_1)"
   ]
  },
  {
   "cell_type": "code",
   "execution_count": 115,
   "metadata": {},
   "outputs": [
    {
     "data": {
      "text/plain": [
       "732.5085345714293"
      ]
     },
     "execution_count": 115,
     "metadata": {},
     "output_type": "execute_result"
    }
   ],
   "source": [
    "calculate_distance(['北京', '天津', '上海'])"
   ]
  },
  {
   "cell_type": "code",
   "execution_count": null,
   "metadata": {},
   "outputs": [],
   "source": []
  },
  {
   "cell_type": "code",
   "execution_count": 116,
   "metadata": {},
   "outputs": [],
   "source": [
    "from sklearn.datasets import load_boston\n",
    "import random"
   ]
  },
  {
   "cell_type": "code",
   "execution_count": 117,
   "metadata": {},
   "outputs": [],
   "source": [
    "dataset = load_boston()"
   ]
  },
  {
   "cell_type": "code",
   "execution_count": 118,
   "metadata": {},
   "outputs": [],
   "source": [
    "x, y = dataset['data'], dataset['target']\n",
    "X, Y = x, y"
   ]
  },
  {
   "cell_type": "code",
   "execution_count": 119,
   "metadata": {},
   "outputs": [
    {
     "data": {
      "text/plain": [
       "(506, 13)"
      ]
     },
     "execution_count": 119,
     "metadata": {},
     "output_type": "execute_result"
    }
   ],
   "source": [
    "x.shape"
   ]
  },
  {
   "cell_type": "code",
   "execution_count": 120,
   "metadata": {},
   "outputs": [
    {
     "data": {
      "text/plain": [
       "(506,)"
      ]
     },
     "execution_count": 120,
     "metadata": {},
     "output_type": "execute_result"
    }
   ],
   "source": [
    "y.shape"
   ]
  },
  {
   "cell_type": "code",
   "execution_count": 121,
   "metadata": {},
   "outputs": [
    {
     "data": {
      "text/plain": [
       "array(['CRIM', 'ZN', 'INDUS', 'CHAS', 'NOX', 'RM', 'AGE', 'DIS', 'RAD',\n",
       "       'TAX', 'PTRATIO', 'B', 'LSTAT'], dtype='<U7')"
      ]
     },
     "execution_count": 121,
     "metadata": {},
     "output_type": "execute_result"
    }
   ],
   "source": [
    "dataset.feature_names"
   ]
  },
  {
   "cell_type": "code",
   "execution_count": 122,
   "metadata": {},
   "outputs": [
    {
     "data": {
      "text/plain": [
       "<matplotlib.collections.PathCollection at 0x26ce59126a0>"
      ]
     },
     "execution_count": 122,
     "metadata": {},
     "output_type": "execute_result"
    },
    {
     "data": {
      "image/png": "[encoded data removed]",
      "text/plain": [
       "<Figure size 432x288 with 1 Axes>"
      ]
     },
     "metadata": {
      "needs_background": "light"
     },
     "output_type": "display_data"
    }
   ],
   "source": [
    "plt.scatter(x[:,5], y)"
   ]
  },
  {
   "cell_type": "code",
   "execution_count": 123,
   "metadata": {},
   "outputs": [],
   "source": [
    "def price(rm, k, b):\n",
    "    return rm * k + b"
   ]
  },
  {
   "cell_type": "code",
   "execution_count": 255,
   "metadata": {},
   "outputs": [],
   "source": [
    "def loss(y, y_hat):\n",
    "    assert len(y) == len(y_hat)\n",
    "    return sum((y - y_hat) ** 2) / len(y)"
   ]
  },
  {
   "cell_type": "code",
   "execution_count": 125,
   "metadata": {},
   "outputs": [],
   "source": [
    "def partial_derivative_k(y, y_hat, x):\n",
    "    assert len(y) == len(y_hat) == len(x)\n",
    "    return -2 / len(y) * sum([(y_i - y_hat_i) * x_i for y_i, y_hat_i, x_i in zip(list(y), list(y_hat), list(x))])"
   ]
  },
  {
   "cell_type": "code",
   "execution_count": 126,
   "metadata": {},
   "outputs": [],
   "source": [
    "def partial_derivative_b(y, y_hat):\n",
    "    assert len(y)== len(y_hat)\n",
    "    return -2 / len(y) * sum([a - b for a, b in zip(list(y), list(y_hat))])"
   ]
  },
  {
   "cell_type": "code",
   "execution_count": 127,
   "metadata": {},
   "outputs": [],
   "source": [
    "# define partial derivative \n",
    "def k(x, y, y_hat):\n",
    "    n = len(y)\n",
    "    gradient = 0\n",
    "    for x_i, y_i, y_hat_i in zip(list(x),list(y),list(y_hat)):\n",
    "        gradient += (y_i-y_hat_i) * x_i\n",
    "    return -2/n * gradient\n",
    "\n",
    "def b(y, y_hat):\n",
    "    n = len(y)\n",
    "    gradient = 0\n",
    "    \n",
    "    for y_i, y_hat_i in zip(list(y),list(y_hat)):\n",
    "        gradient += (y_i-y_hat_i)\n",
    "    return -2 / n * gradient"
   ]
  },
  {
   "cell_type": "code",
   "execution_count": 128,
   "metadata": {},
   "outputs": [],
   "source": [
    "y = [1,2,3,4,5]\n",
    "y_hat = [1.1,2.3,3.5,4.7,5.9]\n",
    "x = [1,0,3,0,5]\n"
   ]
  },
  {
   "cell_type": "code",
   "execution_count": 129,
   "metadata": {},
   "outputs": [
    {
     "data": {
      "text/plain": [
       "2.440000000000001"
      ]
     },
     "execution_count": 129,
     "metadata": {},
     "output_type": "execute_result"
    }
   ],
   "source": [
    "partial_derivative_k(y, y_hat, x)\n"
   ]
  },
  {
   "cell_type": "code",
   "execution_count": 130,
   "metadata": {},
   "outputs": [
    {
     "data": {
      "text/plain": [
       "2.440000000000001"
      ]
     },
     "execution_count": 130,
     "metadata": {},
     "output_type": "execute_result"
    }
   ],
   "source": [
    "k(x, y, y_hat)"
   ]
  },
  {
   "cell_type": "code",
   "execution_count": 131,
   "metadata": {},
   "outputs": [
    {
     "data": {
      "text/plain": [
       "1.0000000000000002"
      ]
     },
     "execution_count": 131,
     "metadata": {},
     "output_type": "execute_result"
    }
   ],
   "source": [
    "partial_derivative_b(y, y_hat)"
   ]
  },
  {
   "cell_type": "code",
   "execution_count": 132,
   "metadata": {},
   "outputs": [
    {
     "data": {
      "text/plain": [
       "1.0000000000000002"
      ]
     },
     "execution_count": 132,
     "metadata": {},
     "output_type": "execute_result"
    }
   ],
   "source": [
    "b(y, y_hat)"
   ]
  },
  {
   "cell_type": "code",
   "execution_count": 142,
   "metadata": {},
   "outputs": [],
   "source": [
    "x, y = X[:, 5], Y"
   ]
  },
  {
   "cell_type": "code",
   "execution_count": 143,
   "metadata": {},
   "outputs": [],
   "source": [
    "import random\n",
    "import numpy as np"
   ]
  },
  {
   "cell_type": "code",
   "execution_count": 184,
   "metadata": {},
   "outputs": [
    {
     "name": "stdout",
     "output_type": "stream",
     "text": [
      "Iteration 0, the loss is 4606.980655384346, parameters k is 4.034833451571245 and b is -70.28373826215966\n",
      "Iteration 1, the loss is 4532.721268155293, parameters k is 4.1201239213265906 and b is -70.27024644385381\n",
      "Iteration 2, the loss is 4459.674071840604, parameters k is 4.204715291196835 and b is -70.25686452779544\n",
      "Iteration 3, the loss is 4387.819278932994, parameters k is 4.288613290627514 and b is -70.24359161328668\n",
      "Iteration 4, the loss is 4317.137424931606, parameters k is 4.371823602108719 and b is -70.23042680701127\n",
      "Iteration 5, the loss is 4247.6093630692985, parameters k is 4.454351861559922 and b is -70.2173692229741\n",
      "Iteration 6, the loss is 4179.216259126084, parameters k is 4.53620365871164 and b is -70.20441798244119\n",
      "Iteration 7, the loss is 4111.93958632716, parameters k is 4.617384537483977 and b is -70.19157221388019\n",
      "Iteration 8, the loss is 4045.7611203242573, parameters k is 4.697899996362058 and b is -70.17883105290137\n",
      "Iteration 9, the loss is 3980.6629342588853, parameters k is 4.7777554887683955 and b is -70.16619364219906\n",
      "Iteration 10, the loss is 3916.6273939062025, parameters k is 4.856956423432193 and b is -70.15365913149361\n",
      "Iteration 11, the loss is 3853.637152898153, parameters k is 4.935508164755628 and b is -70.14122667747381\n",
      "Iteration 12, the loss is 3791.675148024498, parameters k is 5.013416033177136 and b is -70.12889544373975\n",
      "Iteration 13, the loss is 3730.724594610695, parameters k is 5.090685305531709 and b is -70.11666460074622\n",
      "Iteration 14, the loss is 3670.76898197109, parameters k is 5.16732121540825 and b is -70.10453332574652\n",
      "Iteration 15, the loss is 3611.792068936426, parameters k is 5.2433289535039895 and b is -70.09250080273671\n",
      "Iteration 16, the loss is 3553.7778794543183, parameters k is 5.318713667976008 and b is -70.08056622240042\n",
      "Iteration 17, the loss is 3496.7106982615255, parameters k is 5.393480464789868 and b is -70.06872878205397\n",
      "Iteration 18, the loss is 3440.5750666269173, parameters k is 5.467634408065396 and b is -70.05698768559203\n",
      "Iteration 19, the loss is 3385.355778163907, parameters k is 5.5411805204196245 and b is -70.04534214343377\n",
      "Iteration 20, the loss is 3331.0378747112322, parameters k is 5.614123783306929 and b is -70.0337913724693\n",
      "Iteration 21, the loss is 3277.606642280985, parameters k is 5.686469137356373 and b is -70.02233459600666\n",
      "Iteration 22, the loss is 3225.0476070727827, parameters k is 5.7582214827062925 and b is -70.01097104371928\n",
      "Iteration 23, the loss is 3173.346531553022, parameters k is 5.829385679336133 and b is -69.99969995159375\n",
      "Iteration 24, the loss is 3122.4894105981098, parameters k is 5.899966547395574 and b is -69.98852056187812\n",
      "Iteration 25, the loss is 3072.4624677006354, parameters k is 5.969968867530949 and b is -69.97743212303052\n",
      "Iteration 26, the loss is 3023.252151237548, parameters k is 6.039397381208994 and b is -69.96643388966835\n",
      "Iteration 27, the loss is 2974.8451307991413, parameters k is 6.108256791037944 and b is -69.95552512251776\n",
      "Iteration 28, the loss is 2927.2282935780627, parameters k is 6.176551761085997 and b is -69.94470508836358\n",
      "Iteration 29, the loss is 2880.3887408172127, parameters k is 6.244286917197162 and b is -69.93397305999967\n",
      "Iteration 30, the loss is 2834.313784315641, parameters k is 6.31146684730453 and b is -69.9233283161797\n",
      "Iteration 31, the loss is 2788.9909429914705, parameters k is 6.37809610174097 and b is -69.91277014156829\n",
      "Iteration 32, the loss is 2744.4079395009526, parameters k is 6.444179193547276 and b is -69.90229782669252\n",
      "Iteration 33, the loss is 2700.55269691268, parameters k is 6.509720598777799 and b is -69.89191066789397\n",
      "Iteration 34, the loss is 2657.4133354361234, parameters k is 6.574724756803562 and b is -69.881607967281\n",
      "Iteration 35, the loss is 2614.9781692035303, parameters k is 6.6391960706129005 and b is -69.87138903268152\n",
      "Iteration 36, the loss is 2573.235703104394, parameters k is 6.7031389071096354 and b is -69.86125317759611\n",
      "Iteration 37, the loss is 2532.174629671578, parameters k is 6.7665575974088 and b is -69.85119972115153\n",
      "Iteration 38, the loss is 2491.783826018257, parameters k is 6.829456437129948 and b is -69.84122798805461\n",
      "Iteration 39, the loss is 2452.052350824889, parameters k is 6.891839686688051 and b is -69.83133730854652\n",
      "Iteration 40, the loss is 2412.9694413753555, parameters k is 6.953711571582023 and b is -69.8215270183574\n",
      "Iteration 41, the loss is 2374.5245106414645, parameters k is 7.015076282680867 and b is -69.8117964586614\n",
      "Iteration 42, the loss is 2336.7071444150774, parameters k is 7.075937976507487 and b is -69.80214497603205\n",
      "Iteration 43, the loss is 2299.5070984870526, parameters k is 7.136300775520169 and b is -69.79257192239801\n",
      "Iteration 44, the loss is 2262.9142958721923, parameters k is 7.1961687683917575 and b is -69.78307665499918\n",
      "Iteration 45, the loss is 2226.918824079538, parameters k is 7.2555460102865394 and b is -69.77365853634316\n",
      "Iteration 46, the loss is 2191.5109324271984, parameters k is 7.314436523134865 and b is -69.76431693416212\n",
      "Iteration 47, the loss is 2156.681029401032, parameters k is 7.372844295905514 and b is -69.75505122136995\n",
      "Iteration 48, the loss is 2122.4196800564164, parameters k is 7.430773284875832 and b is -69.74586077601978\n",
      "Iteration 49, the loss is 2088.717603462453, parameters k is 7.48822741389965 and b is -69.73674498126191\n",
      "Iteration 50, the loss is 2055.5656701878875, parameters k is 7.545210574673012 and b is -69.72770322530198\n",
      "Iteration 51, the loss is 2022.9548998280557, parameters k is 7.601726626997722 and b is -69.71873490135958\n",
      "Iteration 52, the loss is 1990.8764585722276, parameters k is 7.657779399042732 and b is -69.70983940762714\n",
      "Iteration 53, the loss is 1959.3216568106197, parameters k is 7.713372687603386 and b is -69.7010161472292\n",
      "Iteration 54, the loss is 1928.2819467805252, parameters k is 7.768510258358546 and b is -69.69226452818192\n",
      "Iteration 55, the loss is 1897.7489202508036, parameters k is 7.823195846125601 and b is -69.6835839633531\n",
      "Iteration 56, the loss is 1867.7143062442287, parameters k is 7.877433155113391 and b is -69.67497387042232\n",
      "Iteration 57, the loss is 1838.1699687969754, parameters k is 7.931225859173065 and b is -69.66643367184155\n",
      "Iteration 58, the loss is 1809.1079047546987, parameters k is 7.984577602046865 and b is -69.65796279479603\n",
      "Iteration 59, the loss is 1780.5202416045795, parameters k is 8.037491997614891 and b is -69.64956067116552\n",
      "Iteration 60, the loss is 1752.3992353427723, parameters k is 8.089972630139835 and b is -69.64122673748572\n",
      "Iteration 61, the loss is 1724.737268376651, parameters k is 8.142023054509703 and b is -69.63296043491023\n",
      "Iteration 62, the loss is 1697.5268474613003, parameters k is 8.19364679647856 and b is -69.62476120917262\n",
      "Iteration 63, the loss is 1670.7606016697, parameters k is 8.244847352905294 and b is -69.61662851054895\n",
      "Iteration 64, the loss is 1644.4312803960327, parameters k is 8.295628191990424 and b is -69.60856179382053\n",
      "Iteration 65, the loss is 1618.5317513915982, parameters k is 8.34599275351097 and b is -69.60056051823696\n",
      "Iteration 66, the loss is 1593.0549988327762, parameters k is 8.395944449053395 and b is -69.59262414747955\n",
      "Iteration 67, the loss is 1567.9941214205223, parameters k is 8.445486662244646 and b is -69.584752149625\n",
      "Iteration 68, the loss is 1543.3423305109104, parameters k is 8.494622748981284 and b is -69.57694399710935\n",
      "Iteration 69, the loss is 1519.092948276178, parameters k is 8.543356037656755 and b is -69.56919916669227\n",
      "Iteration 70, the loss is 1495.239405895777, parameters k is 8.591689829386793 and b is -69.56151713942164\n",
      "Iteration 71, the loss is 1471.7752417769839, parameters k is 8.639627398232964 and b is -69.55389740059837\n",
      "Iteration 72, the loss is 1448.6940998045263, parameters k is 8.687171991424394 and b is -69.5463394397416\n",
      "Iteration 73, the loss is 1425.9897276187999, parameters k is 8.734326829577675 and b is -69.53884275055405\n",
      "Iteration 74, the loss is 1403.6559749221844, parameters k is 8.781095106914961 and b is -69.53140683088783\n",
      "Iteration 75, the loss is 1381.6867918130094, parameters k is 8.827479991480287 and b is -69.52403118271033\n",
      "Iteration 76, the loss is 1360.0762271467213, parameters k is 8.873484625354106 and b is -69.51671531207059\n",
      "Iteration 77, the loss is 1338.8184269237859, parameters k is 8.91911212486608 and b is -69.50945872906578\n",
      "Iteration 78, the loss is 1317.9076327039238, parameters k is 8.964365580806115 and b is -69.50226094780807\n",
      "Iteration 79, the loss is 1297.3381800462246, parameters k is 9.009248058633668 and b is -69.49512148639167\n",
      "Iteration 80, the loss is 1277.1044969747156, parameters k is 9.053762598685346 and b is -69.48803986686026\n",
      "Iteration 81, the loss is 1257.2011024690057, parameters k is 9.0979122163808 and b is -69.4810156151746\n",
      "Iteration 82, the loss is 1237.622604979526, parameters k is 9.141699902426929 and b is -69.47404826118037\n",
      "Iteration 83, the loss is 1218.3637009670474, parameters k is 9.185128623020411 and b is -69.46713733857644\n",
      "Iteration 84, the loss is 1199.4191734660099, parameters k is 9.22820132004858 and b is -69.4602823848832\n",
      "Iteration 85, the loss is 1180.7838906713255, parameters k is 9.270920911288647 and b is -69.45348294141128\n",
      "Iteration 86, the loss is 1162.4528045482298, parameters k is 9.313290290605297 and b is -69.44673855323047\n",
      "Iteration 87, the loss is 1144.4209494648433, parameters k is 9.355312328146661 and b is -69.44004876913895\n",
      "Iteration 88, the loss is 1126.6834408470422, parameters k is 9.396989870538688 and b is -69.43341314163268\n",
      "Iteration 89, the loss is 1109.235473855294, parameters k is 9.438325741077914 and b is -69.42683122687514\n",
      "Iteration 90, the loss is 1092.072322083088, parameters k is 9.479322739922663 and b is -69.42030258466723\n",
      "Iteration 91, the loss is 1075.1893362766154, parameters k is 9.519983644282672 and b is -69.4138267784175\n",
      "Iteration 92, the loss is 1058.5819430753447, parameters k is 9.560311208607164 and b is -69.40740337511258\n",
      "Iteration 93, the loss is 1042.2456437731644, parameters k is 9.600308164771388 and b is -69.40103194528781\n",
      "Iteration 94, the loss is 1026.1760130997343, parameters k is 9.639977222261614 and b is -69.39471206299824\n",
      "Iteration 95, the loss is 1010.3686980217461, parameters k is 9.679321068358625 and b is -69.38844330578968\n",
      "Iteration 96, the loss is 994.8194165637359, parameters k is 9.718342368319705 and b is -69.38222525467019\n",
      "Iteration 97, the loss is 979.5239566481583, parameters k is 9.757043765559127 and b is -69.37605749408164\n",
      "Iteration 98, the loss is 964.4781749543946, parameters k is 9.795427881827163 and b is -69.36993961187159\n",
      "Iteration 99, the loss is 949.6779957963703, parameters k is 9.83349731738764 and b is -69.36387119926538\n",
      "Iteration 100, the loss is 935.1194100185105, parameters k is 9.871254651194024 and b is -69.35785185083846\n",
      "Iteration 101, the loss is 920.7984739097163, parameters k is 9.908702441064072 and b is -69.3518811644889\n",
      "Iteration 102, the loss is 906.7113081350608, parameters k is 9.945843223853046 and b is -69.34595874141021\n",
      "Iteration 103, the loss is 892.8540966849295, parameters k is 9.982679515625513 and b is -69.34008418606427\n",
      "Iteration 104, the loss is 879.2230858413126, parameters k is 10.01921381182573 and b is -69.3342571061546\n",
      "Iteration 105, the loss is 865.8145831609733, parameters k is 10.055448587446644 and b is -69.32847711259974\n",
      "Iteration 106, the loss is 852.6249564752128, parameters k is 10.091386297197493 and b is -69.32274381950698\n",
      "Iteration 107, the loss is 839.6506329059629, parameters k is 10.127029375670045 and b is -69.31705684414614\n",
      "Iteration 108, the loss is 826.8880978979422, parameters k is 10.162380237503466 and b is -69.31141580692369\n",
      "Iteration 109, the loss is 814.333894266609, parameters k is 10.197441277547846 and b is -69.30582033135707\n",
      "Iteration 110, the loss is 801.984621261651, parameters k is 10.23221487102637 and b is -69.30027004404916\n",
      "Iteration 111, the loss is 789.8369336457725, parameters k is 10.266703373696185 and b is -69.29476457466296\n",
      "Iteration 112, the loss is 777.8875407885112, parameters k is 10.300909122007916 and b is -69.28930355589662\n",
      "Iteration 113, the loss is 766.1332057748507, parameters k is 10.334834433263905 and b is -69.28388662345846\n",
      "Iteration 114, the loss is 754.5707445283768, parameters k is 10.368481605775134 and b is -69.27851341604232\n",
      "Iteration 115, the loss is 743.1970249487655, parameters k is 10.401852919016866 and b is -69.27318357530314\n",
      "Iteration 116, the loss is 732.0089660633247, parameters k is 10.434950633783018 and b is -69.26789674583266\n",
      "Iteration 117, the loss is 721.0035371924087, parameters k is 10.467776992339259 and b is -69.26265257513535\n",
      "Iteration 118, the loss is 710.1777571284413, parameters k is 10.50033421857486 and b is -69.25745071360454\n",
      "Iteration 119, the loss is 699.5286933283478, parameters k is 10.532624518153295 and b is -69.25229081449875\n",
      "Iteration 120, the loss is 689.0534611191674, parameters k is 10.564650078661613 and b is -69.2471725339182\n",
      "Iteration 121, the loss is 678.7492229166386, parameters k is 10.596413069758576 and b is -69.24209553078154\n",
      "Iteration 122, the loss is 668.6131874565185, parameters k is 10.627915643321598 and b is -69.23705946680272\n",
      "Iteration 123, the loss is 658.6426090384901, parameters k is 10.659159933592468 and b is -69.23206400646812\n",
      "Iteration 124, the loss is 648.8347867823669, parameters k is 10.690148057321878 and b is -69.2271088170138\n",
      "Iteration 125, the loss is 639.1870638964723, parameters k is 10.720882113912774 and b is -69.22219356840296\n",
      "Iteration 126, the loss is 629.6968269579406, parameters k is 10.751364185562531 and b is -69.21731793330362\n",
      "Iteration 127, the loss is 620.3615052047876, parameters k is 10.78159633740396 and b is -69.21248158706643\n",
      "Iteration 128, the loss is 611.178569839512, parameters k is 10.81158061764515 and b is -69.20768420770271\n",
      "Iteration 129, the loss is 602.1455333440854, parameters k is 10.841319057708192 and b is -69.2029254758626\n",
      "Iteration 130, the loss is 593.2599488061124, parameters k is 10.870813672366733 and b is -69.19820507481347\n",
      "Iteration 131, the loss is 584.5194092559952, parameters k is 10.900066459882424 and b is -69.19352269041846\n",
      "Iteration 132, the loss is 575.9215470149213, parameters k is 10.92907940214024 and b is -69.1888780111152\n",
      "Iteration 133, the loss is 567.4640330534814, parameters k is 10.957854464782702 and b is -69.1842707278947\n",
      "Iteration 134, the loss is 559.1445763607749, parameters k is 10.986393597342978 and b is -69.17970053428049\n",
      "Iteration 135, the loss is 550.9609233238009, parameters k is 11.014698733376921 and b is -69.17516712630777\n",
      "Iteration 136, the loss is 542.9108571169826, parameters k is 11.042771790594003 and b is -69.1706702025029\n",
      "Iteration 137, the loss is 534.9921971016641, parameters k is 11.070614670987181 and b is -69.16620946386296\n",
      "Iteration 138, the loss is 527.2027982353951, parameters k is 11.098229260961707 and b is -69.16178461383544\n",
      "Iteration 139, the loss is 519.540550490877, parameters k is 11.125617431462874 and b is -69.15739535829827\n",
      "Iteration 140, the loss is 512.0033782843781, parameters k is 11.152781038102717 and b is -69.15304140553985\n",
      "Iteration 141, the loss is 504.58923991348576, parameters k is 11.179721921285674 and b is -69.14872246623925\n",
      "Iteration 142, the loss is 497.29612700403817, parameters k is 11.206441906333227 and b is -69.1444382534467\n",
      "Iteration 143, the loss is 490.12206396607894, parameters k is 11.232942803607504 and b is -69.14018848256406\n",
      "Iteration 144, the loss is 483.06510745870014, parameters k is 11.259226408633882 and b is -69.13597287132566\n",
      "Iteration 145, the loss is 476.1233458636139, parameters k is 11.285294502222586 and b is -69.13179113977911\n",
      "Iteration 146, the loss is 469.2948987673193, parameters k is 11.311148850589275 and b is -69.12764301026634\n",
      "Iteration 147, the loss is 462.5779164517244, parameters k is 11.336791205474663 and b is -69.12352820740483\n",
      "Iteration 148, the loss is 455.97057939308496, parameters k is 11.362223304263141 and b is -69.11944645806896\n",
      "Iteration 149, the loss is 449.47109776911236, parameters k is 11.387446870100435 and b is -69.11539749137148\n",
      "Iteration 150, the loss is 443.0777109741392, parameters k is 11.412463612010301 and b is -69.11138103864518\n",
      "Iteration 151, the loss is 436.78868714219465, parameters k is 11.437275225010255 and b is -69.10739683342472\n",
      "Iteration 152, the loss is 430.6023226778631, parameters k is 11.461883390226367 and b is -69.10344461142854\n",
      "Iteration 153, the loss is 424.51694179480086, parameters k is 11.486289775007105 and b is -69.09952411054104\n",
      "Iteration 154, the loss is 418.5308960617929, parameters k is 11.510496033036247 and b is -69.09563507079473\n",
      "Iteration 155, the loss is 412.64256395620885, parameters k is 11.534503804444876 and b is -69.09177723435269\n",
      "Iteration 156, the loss is 406.85035042475624, parameters k is 11.55831471592244 and b is -69.0879503454911\n",
      "Iteration 157, the loss is 401.15268645140293, parameters k is 11.581930380826924 and b is -69.08415415058188\n",
      "Iteration 158, the loss is 395.5480286323483, parameters k is 11.605352399294096 and b is -69.0803883980756\n",
      "Iteration 159, the loss is 390.03485875793785, parameters k is 11.628582358345882 and b is -69.07665283848435\n",
      "Iteration 160, the loss is 384.6116834013988, parameters k is 11.651621831997828 and b is -69.07294722436491\n",
      "Iteration 161, the loss is 379.2770335142912, parameters k is 11.674472381365698 and b is -69.06927131030197\n",
      "Iteration 162, the loss is 374.0294640285614, parameters k is 11.697135554771195 and b is -69.06562485289152\n",
      "Iteration 163, the loss is 368.8675534650934, parameters k is 11.719612887846816 and b is -69.06200761072432\n",
      "Iteration 164, the loss is 363.78990354864567, parameters k is 11.74190590363984 and b is -69.05841934436964\n",
      "Iteration 165, the loss is 358.7951388290808, parameters k is 11.764016112715472 and b is -69.05485981635896\n",
      "Iteration 166, the loss is 353.88190630876994, parameters k is 11.785945013259143 and b is -69.05132879116992\n",
      "Iteration 167, the loss is 349.0488750760897, parameters k is 11.80769409117796 and b is -69.04782603521042\n",
      "Iteration 168, the loss is 344.2947359448881, parameters k is 11.829264820201344 and b is -69.0443513168027\n",
      "Iteration 169, the loss is 339.6182010998478, parameters k is 11.850658661980818 and b is -69.04090440616774\n",
      "Iteration 170, the loss is 335.0180037476343, parameters k is 11.871877066189004 and b is -69.03748507540965\n",
      "Iteration 171, the loss is 330.49289777373673, parameters k is 11.892921470617788 and b is -69.03409309850026\n",
      "Iteration 172, the loss is 326.0416574049101, parameters k is 11.913793301275687 and b is -69.03072825126381\n",
      "Iteration 173, the loss is 321.66307687713163, parameters k is 11.934493972484427 and b is -69.02739031136173\n",
      "Iteration 174, the loss is 317.3559701089777, parameters k is 11.955024886974712 and b is -69.02407905827766\n",
      "Iteration 175, the loss is 313.1191703803239, parameters k is 11.975387435981226 and b is -69.02079427330246\n",
      "Iteration 176, the loss is 308.9515300163, parameters k is 11.995582999336841 and b is -69.01753573951937\n",
      "Iteration 177, the loss is 304.8519200763998, parameters k is 12.015612945566067 and b is -69.01430324178943\n",
      "Iteration 178, the loss is 300.8192300486645, parameters k is 12.035478631977723 and b is -69.01109656673681\n",
      "Iteration 179, the loss is 296.85236754885955, parameters k is 12.055181404756858 and b is -69.00791550273439\n",
      "Iteration 180, the loss is 292.9502580245644, parameters k is 12.074722599055919 and b is -69.00475983988945\n",
      "Iteration 181, the loss is 289.1118444640878, parameters k is 12.09410353908516 and b is -69.00162937002939\n",
      "Iteration 182, the loss is 285.33608711013756, parameters k is 12.113325538202321 and b is -68.99852388668775\n",
      "Iteration 183, the loss is 281.62196317816637, parameters k is 12.132389899001577 and b is -68.99544318509011\n",
      "Iteration 184, the loss is 277.96846657930973, parameters k is 12.151297913401738 and b is -68.99238706214028\n",
      "Iteration 185, the loss is 274.3746076478512, parameters k is 12.17005086273375 and b is -68.98935531640653\n",
      "Iteration 186, the loss is 270.8394128731353, parameters k is 12.188650017827458 and b is -68.98634774810797\n",
      "Iteration 187, the loss is 267.3619246358557, parameters k is 12.207096639097674 and b is -68.98336415910101\n",
      "Iteration 188, the loss is 263.941200948649, parameters k is 12.225391976629531 and b is -68.98040435286593\n",
      "Iteration 189, the loss is 260.57631520092156, parameters k is 12.243537270263138 and b is -68.97746813449358\n",
      "Iteration 190, the loss is 257.2663559078453, parameters k is 12.261533749677543 and b is -68.97455531067216\n",
      "Iteration 191, the loss is 254.01042646344615, parameters k is 12.279382634474011 and b is -68.97166568967418\n",
      "Iteration 192, the loss is 250.80764489772605, parameters k is 12.29708513425861 and b is -68.96879908134343\n",
      "Iteration 193, the loss is 247.6571436377502, parameters k is 12.314642448724133 and b is -68.96595529708213\n",
      "Iteration 194, the loss is 244.5580692726299, parameters k is 12.332055767731333 and b is -68.96313414983813\n",
      "Iteration 195, the loss is 241.50958232234746, parameters k is 12.349326271389513 and b is -68.96033545409226\n",
      "Iteration 196, the loss is 238.5108570103521, parameters k is 12.366455130136433 and b is -68.95755902584578\n",
      "Iteration 197, the loss is 235.56108103986463, parameters k is 12.383443504817581 and b is -68.95480468260789\n",
      "Iteration 198, the loss is 232.6594553738418, parameters k is 12.400292546764776 and b is -68.95207224338338\n",
      "Iteration 199, the loss is 229.8051940185229, parameters k is 12.417003397874149 and b is -68.9493615286604\n",
      "Iteration 200, the loss is 226.99752381051962, parameters k is 12.433577190683462 and b is -68.94667236039828\n",
      "Iteration 201, the loss is 224.23568420736976, parameters k is 12.45001504844881 and b is -68.94400456201545\n",
      "Iteration 202, the loss is 221.51892708152275, parameters k is 12.46631808522069 and b is -68.94135795837754\n",
      "Iteration 203, the loss is 218.84651651767655, parameters k is 12.482487405919441 and b is -68.93873237578545\n",
      "Iteration 204, the loss is 216.21772861343132, parameters k is 12.49852410641007 and b is -68.93612764196365\n",
      "Iteration 205, the loss is 213.63185128319256, parameters k is 12.514429273576466 and b is -68.9335435860485\n",
      "Iteration 206, the loss is 211.08818406527615, parameters k is 12.530203985395007 and b is -68.93098003857664\n",
      "Iteration 207, the loss is 208.58603793216193, parameters k is 12.545849311007556 and b is -68.92843683147353\n",
      "Iteration 208, the loss is 206.12473510384768, parameters k is 12.561366310793867 and b is -68.92591379804212\n",
      "Iteration 209, the loss is 203.70360886424405, parameters k is 12.576756036443394 and b is -68.92341077295147\n",
      "Iteration 210, the loss is 201.32200338057325, parameters k is 12.592019531026512 and b is -68.92092759222565\n",
      "Iteration 211, the loss is 198.97927352571008, parameters k is 12.607157829065155 and b is -68.91846409323256\n",
      "Iteration 212, the loss is 196.6747847034263, parameters k is 12.622171956602873 and b is -68.91602011467295\n",
      "Iteration 213, the loss is 194.40791267648765, parameters k is 12.637062931274317 and b is -68.9135954965695\n",
      "Iteration 214, the loss is 192.17804339755403, parameters k is 12.651831762374153 and b is -68.91119008025596\n",
      "Iteration 215, the loss is 189.98457284284518, parameters k is 12.666479450925413 and b is -68.90880370836645\n",
      "Iteration 216, the loss is 187.8269068485162, parameters k is 12.681006989747287 and b is -68.90643622482474\n",
      "Iteration 217, the loss is 185.7044609497067, parameters k is 12.69541536352235 and b is -68.90408747483376\n",
      "Iteration 218, the loss is 183.6166602222183, parameters k is 12.709705548863257 and b is -68.90175730486503\n",
      "Iteration 219, the loss is 181.56293912677327, parameters k is 12.723878514378866 and b is -68.89944556264834\n",
      "Iteration 220, the loss is 179.54274135582003, parameters k is 12.73793522073984 and b is -68.89715209716138\n",
      "Iteration 221, the loss is 177.55551968283243, parameters k is 12.751876620743712 and b is -68.89487675861955\n",
      "Iteration 222, the loss is 175.60073581407875, parameters k is 12.76570365937939 and b is -68.8926193984658\n",
      "Iteration 223, the loss is 173.67786024279988, parameters k is 12.779417273891172 and b is -68.89037986936057\n",
      "Iteration 224, the loss is 171.78637210577756, parameters k is 12.7930183938422 and b is -68.88815802517185\n",
      "Iteration 225, the loss is 169.92575904223511, parameters k is 12.806507941177424 and b is -68.88595372096519\n",
      "Iteration 226, the loss is 168.09551705504776, parameters k is 12.819886830286029 and b is -68.88376681299398\n",
      "Iteration 227, the loss is 166.2951503742169, parameters k is 12.833155968063359 and b is -68.88159715868967\n",
      "Iteration 228, the loss is 164.5241713225715, parameters k is 12.846316253972335 and b is -68.87944461665214\n",
      "Iteration 229, the loss is 162.7821001836634, parameters k is 12.859368580104363 and b is -68.8773090466401\n",
      "Iteration 230, the loss is 161.06846507181794, parameters k is 12.872313831239753 and b is -68.87519030956157\n",
      "Iteration 231, the loss is 159.38280180430576, parameters k is 12.885152884907628 and b is -68.87308826746455\n",
      "Iteration 232, the loss is 157.72465377560385, parameters k is 12.897886611445362 and b is -68.87100278352759\n",
      "Iteration 233, the loss is 156.09357183370565, parameters k is 12.910515874057507 and b is -68.86893372205056\n",
      "Iteration 234, the loss is 154.4891141584513, parameters k is 12.923041528874265 and b is -68.86688094844544\n",
      "Iteration 235, the loss is 152.91084614184416, parameters k is 12.935464425009448 and b is -68.86484432922724\n",
      "Iteration 236, the loss is 151.35834027032368, parameters k is 12.947785404617994 and b is -68.86282373200493\n",
      "Iteration 237, the loss is 149.83117600895469, parameters k is 12.960005302952995 and b is -68.86081902547248\n",
      "Iteration 238, the loss is 148.32893968751162, parameters k is 12.972124948422257 and b is -68.85883007940001\n",
      "Iteration 239, the loss is 146.8512243884203, parameters k is 12.984145162644404 and b is -68.85685676462488\n",
      "Iteration 240, the loss is 145.39762983652875, parameters k is 12.996066760504519 and b is -68.85489895304303\n",
      "Iteration 241, the loss is 143.96776229067913, parameters k is 13.007890550209321 and b is -68.85295651760028\n",
      "Iteration 242, the loss is 142.56123443704726, parameters k is 13.019617333341909 and b is -68.85102933228369\n",
      "Iteration 243, the loss is 141.17766528422547, parameters k is 13.031247904916038 and b is -68.84911727211306\n",
      "Iteration 244, the loss is 139.81668006001502, parameters k is 13.042783053429957 and b is -68.84722021313249\n",
      "Iteration 245, the loss is 138.47791010990844, parameters k is 13.054223560919812 and b is -68.84533803240191\n",
      "Iteration 246, the loss is 137.1609927972229, parameters k is 13.065570203012602 and b is -68.84347060798883\n",
      "Iteration 247, the loss is 135.8655714048683, parameters k is 13.076823748978702 and b is -68.84161781896006\n",
      "Iteration 248, the loss is 134.59129503871648, parameters k is 13.08798496178397 and b is -68.83977954537347\n",
      "Iteration 249, the loss is 133.33781853254965, parameters k is 13.099054598141402 and b is -68.83795566826997\n",
      "Iteration 250, the loss is 132.10480235455813, parameters k is 13.110033408562382 and b is -68.83614606966535\n",
      "Iteration 251, the loss is 130.89191251536678, parameters k is 13.120922137407511 and b is -68.83435063254235\n",
      "Iteration 252, the loss is 129.69882047756045, parameters k is 13.131721522937013 and b is -68.83256924084273\n",
      "Iteration 253, the loss is 128.52520306668893, parameters k is 13.142432297360727 and b is -68.83080177945938\n",
      "Iteration 254, the loss is 127.37074238372186, parameters k is 13.153055186887697 and b is -68.82904813422856\n",
      "Iteration 255, the loss is 126.2351257189351, parameters k is 13.163590911775348 and b is -68.82730819192214\n",
      "Iteration 256, the loss is 125.11804546720141, parameters k is 13.174040186378265 and b is -68.82558184023998\n",
      "Iteration 257, the loss is 124.01919904466384, parameters k is 13.18440371919657 and b is -68.82386896780224\n",
      "Iteration 258, the loss is 122.93828880677037, parameters k is 13.1946822129239 and b is -68.82216946414194\n",
      "Iteration 259, the loss is 121.87502196764603, parameters k is 13.20487636449499 and b is -68.8204832196974\n",
      "Iteration 260, the loss is 120.82911052078059, parameters k is 13.214986865132877 and b is -68.81881012580484\n",
      "Iteration 261, the loss is 119.80027116101076, parameters k is 13.22501440039571 and b is -68.81715007469107\n",
      "Iteration 262, the loss is 118.78822520777784, parameters k is 13.23495965022317 and b is -68.8155029594661\n",
      "Iteration 263, the loss is 117.79269852963628, parameters k is 13.24482328898252 and b is -68.813868674116\n",
      "Iteration 264, the loss is 116.81342146999508, parameters k is 13.254605985514273 and b is -68.81224711349562\n",
      "Iteration 265, the loss is 115.85012877407095, parameters k is 13.264308403177486 and b is -68.81063817332156\n",
      "Iteration 266, the loss is 114.9025595170351, parameters k is 13.273931199894685 and b is -68.8090417501651\n",
      "Iteration 267, the loss is 113.97045703333116, parameters k is 13.283475028196417 and b is -68.80745774144508\n",
      "Iteration 268, the loss is 113.05356884714915, parameters k is 13.292940535265439 and b is -68.80588604542112\n"
     ]
    },
    {
     "name": "stdout",
     "output_type": "stream",
     "text": [
      "Iteration 269, the loss is 112.15164660403119, parameters k is 13.302328362980552 and b is -68.8043265611866\n",
      "Iteration 270, the loss is 111.26444600359771, parameters k is 13.311639147960058 and b is -68.8027791886619\n",
      "Iteration 271, the loss is 110.39172673336815, parameters k is 13.320873521604886 and b is -68.8012438285876\n",
      "Iteration 272, the loss is 109.5332524036641, parameters k is 13.33003211014134 and b is -68.79972038251775\n",
      "Iteration 273, the loss is 108.6887904835743, parameters k is 13.339115534663513 and b is -68.7982087528132\n",
      "Iteration 274, the loss is 107.85811223796499, parameters k is 13.348124411175345 and b is -68.79670884263501\n",
      "Iteration 275, the loss is 107.04099266551876, parameters k is 13.357059350632339 and b is -68.79522055593789\n",
      "Iteration 276, the loss is 106.23721043778447, parameters k is 13.365920958982938 and b is -68.79374379746365\n",
      "Iteration 277, the loss is 105.4465478392222, parameters k is 13.37470983720956 and b is -68.79227847273482\n",
      "Iteration 278, the loss is 104.6687907082276, parameters k is 13.383426581369292 and b is -68.7908244880482\n",
      "Iteration 279, the loss is 103.90372837911758, parameters k is 13.392071782634263 and b is -68.78938175046855\n",
      "Iteration 280, the loss is 103.15115362506349, parameters k is 13.400646027331671 and b is -68.78795016782225\n",
      "Iteration 281, the loss is 102.41086260195738, parameters k is 13.409149896983497 and b is -68.78652964869107\n",
      "Iteration 282, the loss is 101.68265479319213, parameters k is 13.417583968345875 and b is -68.78512010240605\n",
      "Iteration 283, the loss is 100.96633295534524, parameters k is 13.425948813448162 and b is -68.78372143904129\n",
      "Iteration 284, the loss is 100.26170306474634, parameters k is 13.434244999631671 and b is -68.78233356940783\n",
      "Iteration 285, the loss is 99.56857426492046, parameters k is 13.442473089588091 and b is -68.78095640504768\n",
      "Iteration 286, the loss is 98.88675881488713, parameters k is 13.450633641397593 and b is -68.77958985822782\n",
      "Iteration 287, the loss is 98.21607203830378, parameters k is 13.458727208566623 and b is -68.77823384193424\n",
      "Iteration 288, the loss is 97.55633227343829, parameters k is 13.46675434006539 and b is -68.77688826986602\n",
      "Iteration 289, the loss is 96.90736082396083, parameters k is 13.474715580365041 and b is -68.77555305642954\n",
      "Iteration 290, the loss is 96.26898191053647, parameters k is 13.482611469474525 and b is -68.77422811673267\n",
      "Iteration 291, the loss is 95.64102262320891, parameters k is 13.490442542977174 and b is -68.77291336657898\n",
      "Iteration 292, the loss is 95.02331287456217, parameters k is 13.498209332066967 and b is -68.77160872246208\n",
      "Iteration 293, the loss is 94.41568535364465, parameters k is 13.505912363584503 and b is -68.77031410155996\n",
      "Iteration 294, the loss is 93.8179754806483, parameters k is 13.513552160052681 and b is -68.76902942172937\n",
      "Iteration 295, the loss is 93.23002136232547, parameters k is 13.521129239712085 and b is -68.76775460150027\n",
      "Iteration 296, the loss is 92.65166374813394, parameters k is 13.528644116556077 and b is -68.7664895600703\n",
      "Iteration 297, the loss is 92.08274598709849, parameters k is 13.536097300365606 and b is -68.7652342172993\n",
      "Iteration 298, the loss is 91.52311398537591, parameters k is 13.543489296743736 and b is -68.76398849370389\n",
      "Iteration 299, the loss is 90.97261616451341, parameters k is 13.550820607149877 and b is -68.76275231045214\n",
      "Iteration 300, the loss is 90.4311034203872, parameters k is 13.55809172893375 and b is -68.76152558935813\n",
      "Iteration 301, the loss is 89.89842908281271, parameters k is 13.565303155369067 and b is -68.76030825287674\n",
      "Iteration 302, the loss is 89.37444887581445, parameters k is 13.572455375686932 and b is -68.75910022409836\n",
      "Iteration 303, the loss is 88.85902087854102, parameters k is 13.579548875108978 and b is -68.75790142674369\n",
      "Iteration 304, the loss is 88.35200548682337, parameters k is 13.586584134880223 and b is -68.75671178515856\n",
      "Iteration 305, the loss is 87.85326537535623, parameters k is 13.59356163230166 and b is -68.75553122430885\n",
      "Iteration 306, the loss is 87.36266546049902, parameters k is 13.600481840762578 and b is -68.75435966977535\n",
      "Iteration 307, the loss is 86.8800728636836, parameters k is 13.607345229772628 and b is -68.75319704774878\n",
      "Iteration 308, the loss is 86.4053568754185, parameters k is 13.61415226499361 and b is -68.75204328502473\n",
      "Iteration 309, the loss is 85.93838891988243, parameters k is 13.620903408271014 and b is -68.75089830899874\n",
      "Iteration 310, the loss is 85.4790425200941, parameters k is 13.627599117665289 and b is -68.7497620476614\n",
      "Iteration 311, the loss is 85.02719326365134, parameters k is 13.634239847482872 and b is -68.74863442959344\n",
      "Iteration 312, the loss is 84.5827187690297, parameters k is 13.640826048306948 and b is -68.74751538396087\n",
      "Iteration 313, the loss is 84.14549865243093, parameters k is 13.647358167027967 and b is -68.74640484051028\n",
      "Iteration 314, the loss is 83.71541449517142, parameters k is 13.653836646873904 and b is -68.74530272956396\n",
      "Iteration 315, the loss is 83.29234981160661, parameters k is 13.660261927440276 and b is -68.74420898201527\n",
      "Iteration 316, the loss is 82.8761900175737, parameters k is 13.666634444719916 and b is -68.74312352932392\n",
      "Iteration 317, the loss is 82.46682239935461, parameters k is 13.672954631132493 and b is -68.74204630351137\n",
      "Iteration 318, the loss is 82.06413608314172, parameters k is 13.679222915553797 and b is -68.74097723715614\n",
      "Iteration 319, the loss is 81.66802200500477, parameters k is 13.685439723344786 and b is -68.73991626338936\n",
      "Iteration 320, the loss is 81.27837288134572, parameters k is 13.691605476380385 and b is -68.73886331589013\n",
      "Iteration 321, the loss is 80.89508317983842, parameters k is 13.697720593078065 and b is -68.7378183288811\n",
      "Iteration 322, the loss is 80.5180490908401, parameters k is 13.70378548842617 and b is -68.73678123712402\n",
      "Iteration 323, the loss is 80.14716849927109, parameters k is 13.709800574012025 and b is -68.73575197591526\n",
      "Iteration 324, the loss is 79.78234095695379, parameters k is 13.715766258049806 and b is -68.7347304810815\n",
      "Iteration 325, the loss is 79.4234676554013, parameters k is 13.721682945408187 and b is -68.7337166889753\n",
      "Iteration 326, the loss is 79.07045139905259, parameters k is 13.727551037637756 and b is -68.7327105364709\n",
      "Iteration 327, the loss is 78.72319657894302, parameters k is 13.733370932998211 and b is -68.73171196095984\n",
      "Iteration 328, the loss is 78.38160914680545, parameters k is 13.739143026485328 and b is -68.73072090034678\n",
      "Iteration 329, the loss is 78.04559658959333, parameters k is 13.744867709857708 and b is -68.72973729304529\n",
      "Iteration 330, the loss is 77.71506790442096, parameters k is 13.750545371663314 and b is -68.72876107797366\n",
      "Iteration 331, the loss is 77.38993357391044, parameters k is 13.756176397265778 and b is -68.72779219455076\n",
      "Iteration 332, the loss is 77.07010554194471, parameters k is 13.761761168870496 and b is -68.72683058269197\n",
      "Iteration 333, the loss is 76.75549718981223, parameters k is 13.767300065550522 and b is -68.7258761828051\n",
      "Iteration 334, the loss is 76.44602331274491, parameters k is 13.772793463272226 and b is -68.7249289357863\n",
      "Iteration 335, the loss is 76.14160009683572, parameters k is 13.778241734920764 and b is -68.72398878301615\n",
      "Iteration 336, the loss is 75.84214509633559, parameters k is 13.783645250325325 and b is -68.72305566635563\n",
      "Iteration 337, the loss is 75.5475772113195, parameters k is 13.78900437628418 and b is -68.72212952814219\n",
      "Iteration 338, the loss is 75.25781666571814, parameters k is 13.794319476589513 and b is -68.72121031118584\n",
      "Iteration 339, the loss is 74.97278498570657, parameters k is 13.799590912052071 and b is -68.72029795876531\n",
      "Iteration 340, the loss is 74.69240497844791, parameters k is 13.804819040525588 and b is -68.7193924146242\n",
      "Iteration 341, the loss is 74.41660071118183, parameters k is 13.81000421693102 and b is -68.7184936229671\n",
      "Iteration 342, the loss is 74.14529749065616, parameters k is 13.815146793280585 and b is -68.71760152845593\n",
      "Iteration 343, the loss is 73.87842184289244, parameters k is 13.820247118701598 and b is -68.71671607620608\n",
      "Iteration 344, the loss is 73.61590149328391, parameters k is 13.825305539460116 and b is -68.7158372117828\n",
      "Iteration 345, the loss is 73.35766534701675, parameters k is 13.830322398984384 and b is -68.7149648811974\n",
      "Iteration 346, the loss is 73.10364346981129, parameters k is 13.835298037888098 and b is -68.71409903090371\n",
      "Iteration 347, the loss is 72.85376706897793, parameters k is 13.840232793993463 and b is -68.71323960779434\n",
      "Iteration 348, the loss is 72.607968474782, parameters k is 13.845127002354081 and b is -68.71238655919717\n",
      "Iteration 349, the loss is 72.36618112211323, parameters k is 13.849980995277633 and b is -68.71153983287176\n",
      "Iteration 350, the loss is 72.12833953245377, parameters k is 13.854795102348383 and b is -68.71069937700578\n",
      "Iteration 351, the loss is 71.89437929614088, parameters k is 13.859569650449506 and b is -68.70986514021155\n",
      "Iteration 352, the loss is 71.66423705491954, parameters k is 13.864304963785214 and b is -68.7090370715225\n",
      "Iteration 353, the loss is 71.43785048477955, parameters k is 13.869001363902719 and b is -68.70821512038981\n",
      "Iteration 354, the loss is 71.21515827907187, parameters k is 13.873659169714003 and b is -68.70739923667887\n",
      "Iteration 355, the loss is 70.99610013190288, parameters k is 13.878278697517421 and b is -68.70658937066598\n",
      "Iteration 356, the loss is 70.7806167217975, parameters k is 13.882860261019117 and b is -68.70578547303496\n",
      "Iteration 357, the loss is 70.56864969562942, parameters k is 13.887404171354264 and b is -68.70498749487378\n",
      "Iteration 358, the loss is 70.36014165281472, parameters k is 13.891910737108146 and b is -68.70419538767125\n",
      "Iteration 359, the loss is 70.15503612976279, parameters k is 13.896380264337044 and b is -68.70340910331379\n",
      "Iteration 360, the loss is 69.95327758458022, parameters k is 13.900813056588968 and b is -68.7026285940821\n",
      "Iteration 361, the loss is 69.75481138202669, parameters k is 13.905209414924212 and b is -68.70185381264798\n",
      "Iteration 362, the loss is 69.55958377871332, parameters k is 13.909569637935743 and b is -68.70108471207111\n",
      "Iteration 363, the loss is 69.36754190854562, parameters k is 13.913894021769421 and b is -68.70032124579583\n",
      "Iteration 364, the loss is 69.17863376840212, parameters k is 13.918182860144054 and b is -68.69956336764808\n",
      "Iteration 365, the loss is 68.99280820404763, parameters k is 13.922436444371291 and b is -68.6988110318322\n",
      "Iteration 366, the loss is 68.81001489627589, parameters k is 13.926655063375346 and b is -68.6980641929278\n",
      "Iteration 367, the loss is 68.63020434727957, parameters k is 13.930839003712567 and b is -68.69732280588681\n",
      "Iteration 368, the loss is 68.45332786724086, parameters k is 13.93498854959084 and b is -68.6965868260303\n",
      "Iteration 369, the loss is 68.27933756114282, parameters k is 13.939103982888836 and b is -68.69585620904549\n",
      "Iteration 370, the loss is 68.1081863157949, parameters k is 13.943185583175104 and b is -68.6951309109828\n",
      "Iteration 371, the loss is 67.93982778707115, parameters k is 13.947233627726996 and b is -68.69441088825283\n",
      "Iteration 372, the loss is 67.77421638735524, parameters k is 13.951248391549452 and b is -68.6936960976234\n",
      "Iteration 373, the loss is 67.61130727319224, parameters k is 13.955230147393618 and b is -68.69298649621666\n",
      "Iteration 374, the loss is 67.45105633314057, parameters k is 13.959179165775316 and b is -68.69228204150615\n",
      "Iteration 375, the loss is 67.29342017582314, parameters k is 13.963095714993374 and b is -68.69158269131391\n",
      "Iteration 376, the loss is 67.138356118173, parameters k is 13.96698006114778 and b is -68.69088840380769\n",
      "Iteration 377, the loss is 66.98582217387128, parameters k is 13.970832468157713 and b is -68.69019913749806\n",
      "Iteration 378, the loss is 66.83577704197315, parameters k is 13.974653197779416 and b is -68.6895148512356\n",
      "Iteration 379, the loss is 66.68818009572063, parameters k is 13.978442509623914 and b is -68.68883550420814\n",
      "Iteration 380, the loss is 66.54299137153677, parameters k is 13.982200661174604 and b is -68.688161055938\n",
      "Iteration 381, the loss is 66.40017155820036, parameters k is 13.985927907804683 and b is -68.6874914662792\n",
      "Iteration 382, the loss is 66.25968198619704, parameters k is 13.989624502794454 and b is -68.68682669541481\n",
      "Iteration 383, the loss is 66.12148461724362, parameters k is 13.993290697348467 and b is -68.68616670385418\n",
      "Iteration 384, the loss is 65.98554203398506, parameters k is 13.996926740612537 and b is -68.68551145243035\n",
      "Iteration 385, the loss is 65.85181742985776, parameters k is 14.000532879690612 and b is -68.6848609022973\n",
      "Iteration 386, the loss is 65.72027459911963, parameters k is 14.004109359661511 and b is -68.68421501492742\n",
      "Iteration 387, the loss is 65.59087792704207, parameters k is 14.007656423595519 and b is -68.6835737521088\n",
      "Iteration 388, the loss is 65.46359238026271, parameters k is 14.01117431257085 and b is -68.68293707594275\n",
      "Iteration 389, the loss is 65.33838349729504, parameters k is 14.014663265689967 and b is -68.68230494884112\n",
      "Iteration 390, the loss is 65.21521737919355, parameters k is 14.018123520095783 and b is -68.68167733352388\n",
      "Iteration 391, the loss is 65.09406068037075, parameters k is 14.021555310987711 and b is -68.68105419301646\n",
      "Iteration 392, the loss is 64.97488059956441, parameters k is 14.024958871637601 and b is -68.68043549064735\n",
      "Iteration 393, the loss is 64.85764487095193, parameters k is 14.02833443340553 and b is -68.67982119004559\n",
      "Iteration 394, the loss is 64.74232175541012, parameters k is 14.031682225755473 and b is -68.67921125513824\n",
      "Iteration 395, the loss is 64.6288800319176, parameters k is 14.035002476270844 and b is -68.67860565014807\n",
      "Iteration 396, the loss is 64.51728898909714, parameters k is 14.038295410669903 and b is -68.67800433959101\n",
      "Iteration 397, the loss is 64.40751841689652, parameters k is 14.04156125282105 and b is -68.67740728827381\n",
      "Iteration 398, the loss is 64.29953859840514, parameters k is 14.044800224757973 and b is -68.67681446129166\n",
      "Iteration 399, the loss is 64.19332030180367, parameters k is 14.048012546694698 and b is -68.67622582402578\n",
      "Iteration 400, the loss is 64.08883477244612, parameters k is 14.051198437040496 and b is -68.67564134214113\n",
      "Iteration 401, the loss is 63.986053725070185, parameters k is 14.054358112414667 and b is -68.67506098158407\n",
      "Iteration 402, the loss is 63.88494933613523, parameters k is 14.057491787661222 and b is -68.67448470858001\n",
      "Iteration 403, the loss is 63.78549423628535, parameters k is 14.060599675863426 and b is -68.6739124896312\n",
      "Iteration 404, the loss is 63.6876615029351, parameters k is 14.063681988358226 and b is -68.6733442915144\n",
      "Iteration 405, the loss is 63.59142465297703, parameters k is 14.066738934750568 and b is -68.67278008127863\n",
      "Iteration 406, the loss is 63.49675763560725, parameters k is 14.069770722927586 and b is -68.672219826243\n",
      "Iteration 407, the loss is 63.40363482526878, parameters k is 14.072777559072687 and b is -68.67166349399442\n",
      "Iteration 408, the loss is 63.31203101470992, parameters k is 14.075759647679508 and b is -68.67111105238546\n",
      "Iteration 409, the loss is 63.221921408156305, parameters k is 14.078717191565765 and b is -68.67056246953214\n",
      "Iteration 410, the loss is 63.13328161459312, parameters k is 14.081650391886994 and b is -68.6700177138118\n",
      "Iteration 411, the loss is 63.04608764115908, parameters k is 14.084559448150165 and b is -68.66947675386092\n",
      "Iteration 412, the loss is 62.96031588664602, parameters k is 14.087444558227196 and b is -68.66893955857303\n",
      "Iteration 413, the loss is 62.87594313510652, parameters k is 14.090305918368356 and b is -68.66840609709661\n",
      "Iteration 414, the loss is 62.79294654956417, parameters k is 14.093143723215555 and b is -68.66787633883294\n",
      "Iteration 415, the loss is 62.71130366582831, parameters k is 14.095958165815516 and b is -68.66735025343411\n",
      "Iteration 416, the loss is 62.63099238640767, parameters k is 14.09874943763286 and b is -68.66682781080091\n",
      "Iteration 417, the loss is 62.55199097452528, parameters k is 14.101517728563067 and b is -68.6663089810808\n",
      "Iteration 418, the loss is 62.47427804822994, parameters k is 14.104263226945335 and b is -68.66579373466593\n",
      "Iteration 419, the loss is 62.39783257460428, parameters k is 14.106986119575337 and b is -68.66528204219104\n",
      "Iteration 420, the loss is 62.32263386406689, parameters k is 14.10968659171787 and b is -68.66477387453158\n",
      "Iteration 421, the loss is 62.24866156476829, parameters k is 14.112364827119396 and b is -68.66426920280166\n",
      "Iteration 422, the loss is 62.17589565707733, parameters k is 14.115021008020497 and b is -68.66376799835216\n",
      "Iteration 423, the loss is 62.104316448158635, parameters k is 14.117655315168204 and b is -68.66327023276871\n",
      "Iteration 424, the loss is 62.033904566637666, parameters k is 14.120267927828246 and b is -68.66277587786983\n",
      "Iteration 425, the loss is 61.964640957353595, parameters k is 14.122859023797186 and b is -68.66228490570501\n",
      "Iteration 426, the loss is 61.89650687619725, parameters k is 14.125428779414463 and b is -68.66179728855278\n",
      "Iteration 427, the loss is 61.829483885033866, parameters k is 14.127977369574332 and b is -68.66131299891889\n",
      "Iteration 428, the loss is 61.76355384670808, parameters k is 14.130504967737709 and b is -68.66083200953439\n",
      "Iteration 429, the loss is 61.69869892013114, parameters k is 14.133011745943918 and b is -68.66035429335383\n",
      "Iteration 430, the loss is 61.634901555447776, parameters k is 14.135497874822343 and b is -68.65987982355342\n",
      "Iteration 431, the loss is 61.57214448928231, parameters k is 14.13796352360398 and b is -68.65940857352918\n",
      "Iteration 432, the loss is 61.51041074006209, parameters k is 14.1404088601329 and b is -68.65894051689516\n",
      "Iteration 433, the loss is 61.449683603417654, parameters k is 14.142834050877617 and b is -68.65847562748168\n",
      "Iteration 434, the loss is 61.38994664765731, parameters k is 14.145239260942354 and b is -68.65801387933351\n",
      "Iteration 435, the loss is 61.33118370931657, parameters k is 14.14762465407823 and b is -68.65755524670814\n",
      "Iteration 436, the loss is 61.273378888779206, parameters k is 14.149990392694352 and b is -68.65709970407406\n",
      "Iteration 437, the loss is 61.21651654597046, parameters k is 14.152336637868807 and b is -68.65664722610894\n",
      "Iteration 438, the loss is 61.16058129612026, parameters k is 14.15466354935957 and b is -68.65619778769805\n",
      "Iteration 439, the loss is 61.1055580055959, parameters k is 14.156971285615333 and b is -68.65575136393242\n",
      "Iteration 440, the loss is 61.05143178780222, parameters k is 14.15926000378622 and b is -68.65530793010728\n",
      "Iteration 441, the loss is 60.99818799914931, parameters k is 14.161529859734445 and b is -68.65486746172029\n",
      "Iteration 442, the loss is 60.94581223508542, parameters k is 14.163781008044856 and b is -68.65442993446992\n",
      "Iteration 443, the loss is 60.8942903261956, parameters k is 14.166013602035404 and b is -68.65399532425381\n",
      "Iteration 444, the loss is 60.84360833436243, parameters k is 14.168227793767533 and b is -68.65356360716714\n",
      "Iteration 445, the loss is 60.79375254899139, parameters k is 14.170423734056472 and b is -68.653134759501\n",
      "Iteration 446, the loss is 60.74470948329605, parameters k is 14.172601572481451 and b is -68.65270875774075\n",
      "Iteration 447, the loss is 60.69646587064491, parameters k is 14.174761457395828 and b is -68.65228557856452\n",
      "Iteration 448, the loss is 60.64900866096796, parameters k is 14.176903535937136 and b is -68.6518651988415\n",
      "Iteration 449, the loss is 60.6023250172212, parameters k is 14.17902795403705 and b is -68.65144759563054\n",
      "Iteration 450, the loss is 60.55640231190928, parameters k is 14.18113485643127 and b is -68.65103274617843\n",
      "Iteration 451, the loss is 60.51122812366538, parameters k is 14.183224386669313 and b is -68.65062062791846\n",
      "Iteration 452, the loss is 60.46679023388542, parameters k is 14.18529668712425 and b is -68.65021121846885\n",
      "Iteration 453, the loss is 60.42307662341938, parameters k is 14.187351899002334 and b is -68.64980449563127\n",
      "Iteration 454, the loss is 60.38007546931457, parameters k is 14.189390162352568 and b is -68.6494004373893\n",
      "Iteration 455, the loss is 60.337775141613484, parameters k is 14.191411616076193 and b is -68.64899902190697\n",
      "Iteration 456, the loss is 60.29616420020298, parameters k is 14.193416397936087 and b is -68.64860022752727\n",
      "Iteration 457, the loss is 60.25523139171567, parameters k is 14.195404644566096 and b is -68.64820403277064\n",
      "Iteration 458, the loss is 60.214965646481346, parameters k is 14.197376491480293 and b is -68.64781041633358\n",
      "Iteration 459, the loss is 60.17535607552841, parameters k is 14.199332073082148 and b is -68.6474193570872\n",
      "Iteration 460, the loss is 60.136391967634, parameters k is 14.201271522673636 and b is -68.64703083407575\n",
      "Iteration 461, the loss is 60.09806278642282, parameters k is 14.203194972464257 and b is -68.64664482651521\n",
      "Iteration 462, the loss is 60.06035816751272, parameters k is 14.205102553579994 and b is -68.64626131379192\n",
      "Iteration 463, the loss is 60.02326791570727, parameters k is 14.206994396072194 and b is -68.64588027546117\n",
      "Iteration 464, the loss is 59.986782002233745, parameters k is 14.208870628926372 and b is -68.64550169124574\n",
      "Iteration 465, the loss is 59.95089056202675, parameters k is 14.210731380070948 and b is -68.64512554103467\n",
      "Iteration 466, the loss is 59.91558389105575, parameters k is 14.21257677638591 and b is -68.64475180488176\n",
      "Iteration 467, the loss is 59.880852443696476, parameters k is 14.214406943711408 and b is -68.64438046300431\n",
      "Iteration 468, the loss is 59.84668683014511, parameters k is 14.216222006856269 and b is -68.64401149578174\n",
      "Iteration 469, the loss is 59.8130778138747, parameters k is 14.218022089606457 and b is -68.64364488375426\n",
      "Iteration 470, the loss is 59.78001630913294, parameters k is 14.219807314733455 and b is -68.64328060762158\n",
      "Iteration 471, the loss is 59.747493378481316, parameters k is 14.221577804002573 and b is -68.64291864824156\n",
      "Iteration 472, the loss is 59.715500230373664, parameters k is 14.223333678181202 and b is -68.64255898662898\n",
      "Iteration 473, the loss is 59.68402821677521, parameters k is 14.225075057046986 and b is -68.64220160395418\n",
      "Iteration 474, the loss is 59.65306883081918, parameters k is 14.226802059395938 and b is -68.6418464815418\n",
      "Iteration 475, the loss is 59.622613704503, parameters k is 14.228514803050482 and b is -68.64149360086958\n",
      "Iteration 476, the loss is 59.59265460642133, parameters k is 14.230213404867433 and b is -68.64114294356702\n",
      "Iteration 477, the loss is 59.563183439536175, parameters k is 14.231897980745911 and b is -68.6407944914142\n",
      "Iteration 478, the loss is 59.53419223898374, parameters k is 14.23356864563519 and b is -68.64044822634051\n",
      "Iteration 479, the loss is 59.50567316991658, parameters k is 14.23522551354248 and b is -68.64010413042344\n",
      "Iteration 480, the loss is 59.477618525381494, parameters k is 14.23686869754065 and b is -68.63976218588735\n",
      "Iteration 481, the loss is 59.45002072423157, parameters k is 14.238498309775888 and b is -68.6394223751023\n",
      "Iteration 482, the loss is 59.422872309072886, parameters k is 14.240114461475288 and b is -68.63908468058283\n",
      "Iteration 483, the loss is 59.39616594424391, parameters k is 14.241717262954388 and b is -68.63874908498677\n",
      "Iteration 484, the loss is 59.36989441382883, parameters k is 14.243306823624641 and b is -68.6384155711141\n",
      "Iteration 485, the loss is 59.34405061970272, parameters k is 14.24488325200082 and b is -68.63808412190572\n",
      "Iteration 486, the loss is 59.318627579608574, parameters k is 14.246446655708372 and b is -68.63775472044239\n",
      "Iteration 487, the loss is 59.29361842526602, parameters k is 14.247997141490703 and b is -68.63742734994348\n",
      "Iteration 488, the loss is 59.26901640051092, parameters k is 14.249534815216409 and b is -68.63710199376592\n",
      "Iteration 489, the loss is 59.244814859465244, parameters k is 14.251059781886442 and b is -68.63677863540305\n",
      "Iteration 490, the loss is 59.221007264736194, parameters k is 14.252572145641222 and b is -68.63645725848343\n",
      "Iteration 491, the loss is 59.197587185646135, parameters k is 14.254072009767695 and b is -68.63613784676986\n",
      "Iteration 492, the loss is 59.174548296490215, parameters k is 14.255559476706319 and b is -68.63582038415815\n",
      "Iteration 493, the loss is 59.15188437482268, parameters k is 14.257034648058005 and b is -68.63550485467614\n",
      "Iteration 494, the loss is 59.12958929977154, parameters k is 14.258497624591 and b is -68.63519124248255\n",
      "Iteration 495, the loss is 59.10765705038043, parameters k is 14.259948506247708 and b is -68.63487953186592\n",
      "Iteration 496, the loss is 59.086081703977584, parameters k is 14.26138739215146 and b is -68.63456970724357\n",
      "Iteration 497, the loss is 59.06485743457158, parameters k is 14.262814380613223 and b is -68.63426175316052\n",
      "Iteration 498, the loss is 59.043978511272805, parameters k is 14.264229569138264 and b is -68.63395565428843\n",
      "Iteration 499, the loss is 59.023439296741486, parameters k is 14.265633054432746 and b is -68.63365139542461\n",
      "Iteration 500, the loss is 59.00323424566037, parameters k is 14.267024932410282 and b is -68.63334896149095\n",
      "Iteration 501, the loss is 58.98335790323255, parameters k is 14.268405298198429 and b is -68.63304833753291\n",
      "Iteration 502, the loss is 58.963804903703945, parameters k is 14.26977424614513 and b is -68.63274950871853\n",
      "Iteration 503, the loss is 58.94456996890966, parameters k is 14.271131869825101 and b is -68.63245246033738\n",
      "Iteration 504, the loss is 58.9256479068444, parameters k is 14.272478262046175 and b is -68.6321571777996\n",
      "Iteration 505, the loss is 58.90703361025567, parameters k is 14.273813514855577 and b is -68.6318636466349\n",
      "Iteration 506, the loss is 58.888722055260686, parameters k is 14.275137719546166 and b is -68.63157185249158\n",
      "Iteration 507, the loss is 58.87070829998527, parameters k is 14.276450966662612 and b is -68.63128178113554\n",
      "Iteration 508, the loss is 58.85298748322522, parameters k is 14.27775334600753 and b is -68.63099341844938\n",
      "Iteration 509, the loss is 58.835554823129335, parameters k is 14.279044946647563 and b is -68.63070675043136\n",
      "Iteration 510, the loss is 58.81840561590414, parameters k is 14.28032585691941 and b is -68.6304217631945\n",
      "Iteration 511, the loss is 58.80153523454003, parameters k is 14.28159616443581 and b is -68.63013844296565\n",
      "Iteration 512, the loss is 58.784939127557244, parameters k is 14.282855956091476 and b is -68.62985677608448\n",
      "Iteration 513, the loss is 58.768612817773324, parameters k is 14.28410531806898 and b is -68.6295767490027\n",
      "Iteration 514, the loss is 58.752551901090364, parameters k is 14.285344335844586 and b is -68.62929834828297\n",
      "Iteration 515, the loss is 58.73675204530187, parameters k is 14.286573094194043 and b is -68.62902156059813\n",
      "Iteration 516, the loss is 58.72120898891912, parameters k is 14.287791677198323 and b is -68.62874637273023\n",
      "Iteration 517, the loss is 58.705918540016846, parameters k is 14.289000168249313 and b is -68.62847277156963\n",
      "Iteration 518, the loss is 58.690876575097896, parameters k is 14.290198650055467 and b is -68.62820074411415\n",
      "Iteration 519, the loss is 58.67607903797605, parameters k is 14.291387204647407 and b is -68.62793027746815\n",
      "Iteration 520, the loss is 58.66152193867714, parameters k is 14.292565913383473 and b is -68.62766135884169\n",
      "Iteration 521, the loss is 58.64720135235849, parameters k is 14.29373485695524 and b is -68.62739397554965\n",
      "Iteration 522, the loss is 58.63311341824557, parameters k is 14.294894115392974 and b is -68.62712811501086\n",
      "Iteration 523, the loss is 58.61925433858611, parameters k is 14.29604376807106 and b is -68.62686376474727\n",
      "Iteration 524, the loss is 58.605620377621584, parameters k is 14.29718389371337 and b is -68.62660091238308\n",
      "Iteration 525, the loss is 58.59220786057482, parameters k is 14.2983145703986 and b is -68.62633954564393\n",
      "Iteration 526, the loss is 58.57901317265506, parameters k is 14.299435875565555 and b is -68.62607965235604\n",
      "Iteration 527, the loss is 58.56603275807839, parameters k is 14.300547886018391 and b is -68.6258212204454\n",
      "Iteration 528, the loss is 58.553263119104585, parameters k is 14.301650677931821 and b is -68.62556423793698\n",
      "Iteration 529, the loss is 58.54070081508979, parameters k is 14.302744326856272 and b is -68.62530869295387\n",
      "Iteration 530, the loss is 58.52834246155433, parameters k is 14.303828907722998 and b is -68.62505457371647\n",
      "Iteration 531, the loss is 58.51618472926584, parameters k is 14.304904494849158 and b is -68.62480186854175\n",
      "Iteration 532, the loss is 58.504224343337775, parameters k is 14.305971161942846 and b is -68.62455056584244\n",
      "Iteration 533, the loss is 58.49245808234182, parameters k is 14.307028982108088 and b is -68.62430065412622\n",
      "Iteration 534, the loss is 58.48088277743542, parameters k is 14.308078027849787 and b is -68.62405212199492\n",
      "Iteration 535, the loss is 58.46949531150374, parameters k is 14.309118371078632 and b is -68.62380495814385\n",
      "Iteration 536, the loss is 58.458292618314616, parameters k is 14.310150083115976 and b is -68.62355915136091\n",
      "Iteration 537, the loss is 58.44727168168857, parameters k is 14.311173234698657 and b is -68.62331469052592\n",
      "Iteration 538, the loss is 58.4364295346813, parameters k is 14.312187895983792 and b is -68.62307156460982\n",
      "Iteration 539, the loss is 58.425763258780286, parameters k is 14.31319413655353 and b is -68.62282976267394\n",
      "Iteration 540, the loss is 58.41526998311401, parameters k is 14.314192025419764 and b is -68.62258927386927\n",
      "Iteration 541, the loss is 58.404946883674505, parameters k is 14.315181631028798 and b is -68.62235008743569\n",
      "Iteration 542, the loss is 58.39479118255214, parameters k is 14.31616302126599 and b is -68.6221121927013\n",
      "Iteration 543, the loss is 58.38480014718307, parameters k is 14.317136263460345 and b is -68.6218755790816\n",
      "Iteration 544, the loss is 58.37497108960928, parameters k is 14.318101424389077 and b is -68.62164023607892\n",
      "Iteration 545, the loss is 58.365301365750334, parameters k is 14.319058570282131 and b is -68.62140615328154\n",
      "Iteration 546, the loss is 58.35578837468716, parameters k is 14.320007766826663 and b is -68.62117332036313\n",
      "Iteration 547, the loss is 58.34642955795737, parameters k is 14.320949079171497 and b is -68.62094172708194\n",
      "Iteration 548, the loss is 58.33722239886207, parameters k is 14.32188257193153 and b is -68.6207113632802\n",
      "Iteration 549, the loss is 58.32816442178493, parameters k is 14.32280830919211 and b is -68.62048221888335\n",
      "Iteration 550, the loss is 58.31925319152036, parameters k is 14.32372635451338 and b is -68.62025428389943\n",
      "Iteration 551, the loss is 58.31048631261481, parameters k is 14.32463677093457 and b is -68.62002754841835\n",
      "Iteration 552, the loss is 58.301861428717515, parameters k is 14.325539620978283 and b is -68.61980200261124\n",
      "Iteration 553, the loss is 58.293376221941955, parameters k is 14.326434966654716 and b is -68.61957763672977\n",
      "Iteration 554, the loss is 58.28502841223852, parameters k is 14.327322869465867 and b is -68.61935444110553\n",
      "Iteration 555, the loss is 58.27681575677645, parameters k is 14.328203390409692 and b is -68.61913240614932\n",
      "Iteration 556, the loss is 58.26873604933625, parameters k is 14.329076589984247 and b is -68.61891152235053\n"
     ]
    },
    {
     "name": "stdout",
     "output_type": "stream",
     "text": [
      "Iteration 557, the loss is 58.26078711971254, parameters k is 14.329942528191772 and b is -68.61869178027652\n",
      "Iteration 558, the loss is 58.252966833125555, parameters k is 14.330801264542766 and b is -68.61847317057193\n",
      "Iteration 559, the loss is 58.24527308964336, parameters k is 14.331652858060009 and b is -68.61825568395808\n",
      "Iteration 560, the loss is 58.23770382361257, parameters k is 14.332497367282564 and b is -68.61803931123234\n",
      "Iteration 561, the loss is 58.23025700309925, parameters k is 14.33333485026974 and b is -68.61782404326748\n",
      "Iteration 562, the loss is 58.22293062933806, parameters k is 14.33416536460502 and b is -68.61760987101108\n",
      "Iteration 563, the loss is 58.21572273619117, parameters k is 14.334988967399967 and b is -68.61739678548494\n",
      "Iteration 564, the loss is 58.20863138961543, parameters k is 14.335805715298088 and b is -68.61718477778439\n",
      "Iteration 565, the loss is 58.20165468713849, parameters k is 14.33661566447867 and b is -68.61697383907776\n",
      "Iteration 566, the loss is 58.194790757343604, parameters k is 14.337418870660583 and b is -68.61676396060577\n",
      "Iteration 567, the loss is 58.1880377593624, parameters k is 14.338215389106058 and b is -68.6165551336809\n",
      "Iteration 568, the loss is 58.18139388237665, parameters k is 14.339005274624425 and b is -68.61634734968688\n",
      "Iteration 569, the loss is 58.174857345127286, parameters k is 14.339788581575828 and b is -68.61614060007798\n",
      "Iteration 570, the loss is 58.16842639543208, parameters k is 14.340565363874902 and b is -68.61593487637857\n",
      "Iteration 571, the loss is 58.16209930971105, parameters k is 14.34133567499443 and b is -68.61573017018245\n",
      "Iteration 572, the loss is 58.15587439251945, parameters k is 14.342099567968956 and b is -68.61552647315231\n",
      "Iteration 573, the loss is 58.14974997608878, parameters k is 14.342857095398388 and b is -68.6153237770192\n",
      "Iteration 574, the loss is 58.143724419874445, parameters k is 14.343608309451549 and b is -68.6151220735819\n",
      "Iteration 575, the loss is 58.13779611011193, parameters k is 14.344353261869715 and b is -68.61492135470642\n",
      "Iteration 576, the loss is 58.13196345937942, parameters k is 14.34509200397012 and b is -68.61472161232544\n",
      "Iteration 577, the loss is 58.12622490616754, parameters k is 14.345824586649426 and b is -68.61452283843772\n",
      "Iteration 578, the loss is 58.120578914457006, parameters k is 14.34655106038718 and b is -68.61432502510765\n",
      "Iteration 579, the loss is 58.11502397330168, parameters k is 14.34727147524922 and b is -68.6141281644646\n",
      "Iteration 580, the loss is 58.10955859642011, parameters k is 14.347985880891075 and b is -68.6139322487025\n",
      "Iteration 581, the loss is 58.10418132179248, parameters k is 14.34869432656132 and b is -68.6137372700792\n",
      "Iteration 582, the loss is 58.09889071126444, parameters k is 14.34939686110492 and b is -68.61354322091603\n",
      "Iteration 583, the loss is 58.09368535015785, parameters k is 14.350093532966529 and b is -68.61335009359723\n",
      "Iteration 584, the loss is 58.088563846887325, parameters k is 14.350784390193779 and b is -68.61315788056949\n",
      "Iteration 585, the loss is 58.083524832583635, parameters k is 14.351469480440525 and b is -68.61296657434137\n",
      "Iteration 586, the loss is 58.078566960722355, parameters k is 14.35214885097008 and b is -68.61277616748283\n",
      "Iteration 587, the loss is 58.073688906759514, parameters k is 14.352822548658411 and b is -68.61258665262476\n",
      "Iteration 588, the loss is 58.06888936777267, parameters k is 14.353490619997315 and b is -68.61239802245838\n",
      "Iteration 589, the loss is 58.064167062108034, parameters k is 14.354153111097567 and b is -68.61221026973486\n",
      "Iteration 590, the loss is 58.05952072903303, parameters k is 14.354810067692044 and b is -68.61202338726476\n",
      "Iteration 591, the loss is 58.05494912839508, parameters k is 14.355461535138822 and b is -68.61183736791754\n",
      "Iteration 592, the loss is 58.05045104028565, parameters k is 14.356107558424243 and b is -68.61165220462115\n",
      "Iteration 593, the loss is 58.04602526470958, parameters k is 14.356748182165969 and b is -68.61146789036144\n",
      "Iteration 594, the loss is 58.04167062126005, parameters k is 14.357383450615997 and b is -68.61128441818178\n",
      "Iteration 595, the loss is 58.03738594879916, parameters k is 14.358013407663659 and b is -68.61110178118255\n",
      "Iteration 596, the loss is 58.03317010514291, parameters k is 14.358638096838597 and b is -68.61091997252066\n",
      "Iteration 597, the loss is 58.02902196675217, parameters k is 14.359257561313703 and b is -68.61073898540913\n",
      "Iteration 598, the loss is 58.02494042842813, parameters k is 14.35987184390805 and b is -68.61055881311655\n",
      "Iteration 599, the loss is 58.02092440301299, parameters k is 14.360480987089787 and b is -68.61037944896675\n",
      "Iteration 600, the loss is 58.01697282109546, parameters k is 14.361085032979018 and b is -68.61020088633822\n",
      "Iteration 601, the loss is 58.01308463072097, parameters k is 14.361684023350655 and b is -68.61002311866372\n",
      "Iteration 602, the loss is 58.009258797106874, parameters k is 14.362277999637243 and b is -68.60984613942985\n",
      "Iteration 603, the loss is 58.00549430236205, parameters k is 14.36286700293177 and b is -68.60966994217658\n",
      "Iteration 604, the loss is 58.00179014521129, parameters k is 14.363451073990447 and b is -68.60949452049684\n",
      "Iteration 605, the loss is 57.998145340723816, parameters k is 14.36403025323547 and b is -68.60931986803604\n",
      "Iteration 606, the loss is 57.99455892004661, parameters k is 14.364604580757753 and b is -68.6091459784917\n",
      "Iteration 607, the loss is 57.991029930142005, parameters k is 14.365174096319652 and b is -68.60897284561297\n",
      "Iteration 608, the loss is 57.98755743352953, parameters k is 14.365738839357649 and b is -68.60880046320023\n",
      "Iteration 609, the loss is 57.98414050803195, parameters k is 14.366298848985025 and b is -68.60862882510467\n",
      "Iteration 610, the loss is 57.980778246525254, parameters k is 14.366854163994512 and b is -68.6084579252279\n",
      "Iteration 611, the loss is 57.977469756693324, parameters k is 14.367404822860918 and b is -68.60828775752145\n",
      "Iteration 612, the loss is 57.97421416078583, parameters k is 14.367950863743728 and b is -68.60811831598647\n",
      "Iteration 613, the loss is 57.971010595380676, parameters k is 14.368492324489697 and b is -68.60794959467327\n",
      "Iteration 614, the loss is 57.96785821114995, parameters k is 14.369029242635408 and b is -68.60778158768089\n",
      "Iteration 615, the loss is 57.96475617263023, parameters k is 14.369561655409813 and b is -68.60761428915676\n",
      "Iteration 616, the loss is 57.96170365799567, parameters k is 14.370089599736755 and b is -68.60744769329625\n",
      "Iteration 617, the loss is 57.958699858835956, parameters k is 14.37061311223747 and b is -68.60728179434234\n",
      "Iteration 618, the loss is 57.95574397993697, parameters k is 14.371132229233066 and b is -68.60711658658515\n",
      "Iteration 619, the loss is 57.95283523906546, parameters k is 14.371646986746983 and b is -68.60695206436161\n",
      "Iteration 620, the loss is 57.94997286675719, parameters k is 14.372157420507433 and b is -68.60678822205507\n",
      "Iteration 621, the loss is 57.94715610610838, parameters k is 14.372663565949818 and b is -68.6066250540949\n",
      "Iteration 622, the loss is 57.944384212571066, parameters k is 14.37316545821913 and b is -68.60646255495615\n",
      "Iteration 623, the loss is 57.941656453750525, parameters k is 14.373663132172332 and b is -68.60630071915911\n",
      "Iteration 624, the loss is 57.938972109208116, parameters k is 14.37415662238072 and b is -68.60613954126899\n",
      "Iteration 625, the loss is 57.93633047026499, parameters k is 14.37464596313226 and b is -68.60597901589556\n",
      "Iteration 626, the loss is 57.933730839810835, parameters k is 14.375131188433912 and b is -68.60581913769273\n",
      "Iteration 627, the loss is 57.93117253211474, parameters k is 14.375612332013937 and b is -68.60565990135828\n",
      "Iteration 628, the loss is 57.92865487263937, parameters k is 14.376089427324173 and b is -68.60550130163338\n",
      "Iteration 629, the loss is 57.926177197858664, parameters k is 14.376562507542307 and b is -68.60534333330236\n",
      "Iteration 630, the loss is 57.923738855077474, parameters k is 14.377031605574118 and b is -68.60518599119224\n",
      "Iteration 631, the loss is 57.921339202255375, parameters k is 14.37749675405571 and b is -68.60502927017247\n",
      "Iteration 632, the loss is 57.91897760783217, parameters k is 14.377957985355716 and b is -68.60487316515453\n",
      "Iteration 633, the loss is 57.9166534505573, parameters k is 14.378415331577495 and b is -68.6047176710916\n",
      "Iteration 634, the loss is 57.91436611932127, parameters k is 14.378868824561303 and b is -68.60456278297826\n",
      "Iteration 635, the loss is 57.912115012990306, parameters k is 14.379318495886453 and b is -68.60440849585005\n",
      "Iteration 636, the loss is 57.90989954024316, parameters k is 14.379764376873448 and b is -68.60425480478325\n",
      "Iteration 637, the loss is 57.90771911941139, parameters k is 14.380206498586105 and b is -68.60410170489446\n",
      "Iteration 638, the loss is 57.90557317832143, parameters k is 14.380644891833661 and b is -68.6039491913403\n",
      "Iteration 639, the loss is 57.903461154139706, parameters k is 14.381079587172858 and b is -68.60379725931712\n",
      "Iteration 640, the loss is 57.90138249322039, parameters k is 14.381510614910006 and b is -68.60364590406058\n",
      "Iteration 641, the loss is 57.89933665095515, parameters k is 14.381938005103045 and b is -68.60349512084545\n",
      "Iteration 642, the loss is 57.89732309162551, parameters k is 14.382361787563577 and b is -68.60334490498519\n",
      "Iteration 643, the loss is 57.89534128825828, parameters k is 14.38278199185888 and b is -68.60319525183166\n",
      "Iteration 644, the loss is 57.893390722482124, parameters k is 14.383198647313922 and b is -68.60304615677484\n",
      "Iteration 645, the loss is 57.891470884387715, parameters k is 14.38361178301333 and b is -68.60289761524247\n",
      "Iteration 646, the loss is 57.88958127238916, parameters k is 14.384021427803379 and b is -68.60274962269976\n",
      "Iteration 647, the loss is 57.88772139308861, parameters k is 14.384427610293926 and b is -68.60260217464912\n",
      "Iteration 648, the loss is 57.88589076114188, parameters k is 14.384830358860363 and b is -68.60245526662978\n",
      "Iteration 649, the loss is 57.884088899127974, parameters k is 14.385229701645532 and b is -68.60230889421753\n",
      "Iteration 650, the loss is 57.88231533741874, parameters k is 14.385625666561628 and b is -68.60216305302444\n",
      "Iteration 651, the loss is 57.880569614052256, parameters k is 14.386018281292097 and b is -68.60201773869855\n",
      "Iteration 652, the loss is 57.878851274607804, parameters k is 14.386407573293505 and b is -68.60187294692352\n",
      "Iteration 653, the loss is 57.877159872082096, parameters k is 14.386793569797398 and b is -68.60172867341844\n",
      "Iteration 654, the loss is 57.87549496676894, parameters k is 14.387176297812147 and b is -68.60158491393743\n",
      "Iteration 655, the loss is 57.87385612613961, parameters k is 14.387555784124777 and b is -68.60144166426944\n",
      "Iteration 656, the loss is 57.87224292472598, parameters k is 14.387932055302782 and b is -68.60129892023794\n",
      "Iteration 657, the loss is 57.87065494400524, parameters k is 14.388305137695923 and b is -68.6011566777006\n",
      "Iteration 658, the loss is 57.86909177228617, parameters k is 14.388675057438011 and b is -68.60101493254905\n",
      "Iteration 659, the loss is 57.86755300459812, parameters k is 14.38904184044868 and b is -68.6008736807086\n",
      "Iteration 660, the loss is 57.86603824258105, parameters k is 14.38940551243514 and b is -68.60073291813795\n",
      "Iteration 661, the loss is 57.864547094377585, parameters k is 14.389766098893919 and b is -68.6005926408289\n",
      "Iteration 662, the loss is 57.86307917452701, parameters k is 14.390123625112588 and b is -68.60045284480613\n",
      "Iteration 663, the loss is 57.86163410386073, parameters k is 14.390478116171478 and b is -68.60031352612687\n",
      "Iteration 664, the loss is 57.860211509399605, parameters k is 14.39082959694537 and b is -68.60017468088068\n",
      "Iteration 665, the loss is 57.85881102425294, parameters k is 14.391178092105188 and b is -68.60003630518918\n",
      "Iteration 666, the loss is 57.857432287519025, parameters k is 14.391523626119668 and b is -68.59989839520574\n",
      "Iteration 667, the loss is 57.856074944187434, parameters k is 14.39186622325701 and b is -68.5997609471153\n",
      "Iteration 668, the loss is 57.85473864504295, parameters k is 14.392205907586526 and b is -68.59962395713403\n",
      "Iteration 669, the loss is 57.85342304657071, parameters k is 14.39254270298027 and b is -68.59948742150911\n",
      "Iteration 670, the loss is 57.85212781086341, parameters k is 14.392876633114653 and b is -68.5993513365185\n",
      "Iteration 671, the loss is 57.85085260552963, parameters k is 14.393207721472045 and b is -68.59921569847064\n",
      "Iteration 672, the loss is 57.8495971036037, parameters k is 14.39353599134237 and b is -68.59908050370426\n",
      "Iteration 673, the loss is 57.84836098345752, parameters k is 14.39386146582468 and b is -68.59894574858805\n",
      "Iteration 674, the loss is 57.847143928712924, parameters k is 14.394184167828717 and b is -68.5988114295205\n",
      "Iteration 675, the loss is 57.84594562815632, parameters k is 14.394504120076471 and b is -68.59867754292956\n",
      "Iteration 676, the loss is 57.84476577565438, parameters k is 14.394821345103713 and b is -68.59854408527254\n",
      "Iteration 677, the loss is 57.843604070070846, parameters k is 14.395135865261521 and b is -68.5984110530357\n",
      "Iteration 678, the loss is 57.84246021518527, parameters k is 14.395447702717798 and b is -68.59827844273416\n",
      "Iteration 679, the loss is 57.84133391961254, parameters k is 14.395756879458771 and b is -68.59814625091155\n",
      "Iteration 680, the loss is 57.840224896724145, parameters k is 14.39606341729048 and b is -68.59801447413987\n",
      "Iteration 681, the loss is 57.83913286457036, parameters k is 14.39636733784025 and b is -68.59788310901918\n",
      "Iteration 682, the loss is 57.83805754580393, parameters k is 14.396668662558167 and b is -68.59775215217742\n",
      "Iteration 683, the loss is 57.836998667604966, parameters k is 14.396967412718517 and b is -68.59762160027017\n",
      "Iteration 684, the loss is 57.83595596160712, parameters k is 14.39726360942124 and b is -68.59749144998041\n",
      "Iteration 685, the loss is 57.83492916382454, parameters k is 14.397557273593346 and b is -68.5973616980183\n",
      "Iteration 686, the loss is 57.83391801458083, parameters k is 14.397848425990345 and b is -68.59723234112097\n",
      "Iteration 687, the loss is 57.8329222584385, parameters k is 14.39813708719764 and b is -68.5971033760523\n",
      "Iteration 688, the loss is 57.83194164412961, parameters k is 14.398423277631931 and b is -68.59697479960268\n",
      "Iteration 689, the loss is 57.830975924488015, parameters k is 14.398707017542591 and b is -68.59684660858879\n",
      "Iteration 690, the loss is 57.830024856381996, parameters k is 14.398988327013043 and b is -68.59671879985342\n",
      "Iteration 691, the loss is 57.829088200649004, parameters k is 14.399267225962115 and b is -68.59659137026523\n",
      "Iteration 692, the loss is 57.82816572203035, parameters k is 14.399543734145391 and b is -68.59646431671854\n",
      "Iteration 693, the loss is 57.82725718910756, parameters k is 14.399817871156552 and b is -68.59633763613313\n",
      "Iteration 694, the loss is 57.82636237423984, parameters k is 14.400089656428694 and b is -68.59621132545402\n",
      "Iteration 695, the loss is 57.82548105350243, parameters k is 14.400359109235655 and b is -68.59608538165125\n",
      "Iteration 696, the loss is 57.82461300662582, parameters k is 14.400626248693314 and b is -68.59595980171972\n",
      "Iteration 697, the loss is 57.82375801693611, parameters k is 14.400891093760883 and b is -68.59583458267893\n",
      "Iteration 698, the loss is 57.822915871296246, parameters k is 14.4011536632422 and b is -68.59570972157285\n",
      "Iteration 699, the loss is 57.82208636004858, parameters k is 14.401413975786992 and b is -68.59558521546961\n",
      "Iteration 700, the loss is 57.82126927695766, parameters k is 14.401672049892147 and b is -68.59546106146144\n",
      "Iteration 701, the loss is 57.82046441915475, parameters k is 14.40192790390296 and b is -68.59533725666435\n",
      "Iteration 702, the loss is 57.819671587082524, parameters k is 14.402181556014378 and b is -68.595213798218\n",
      "Iteration 703, the loss is 57.81889058444121, parameters k is 14.402433024272234 and b is -68.59509068328549\n",
      "Iteration 704, the loss is 57.81812121813549, parameters k is 14.402682326574464 and b is -68.59496790905318\n",
      "Iteration 705, the loss is 57.817363298222034, parameters k is 14.402929480672324 and b is -68.59484547273048\n",
      "Iteration 706, the loss is 57.81661663785806, parameters k is 14.40317450417159 and b is -68.59472337154968\n",
      "Iteration 707, the loss is 57.81588105325082, parameters k is 14.40341741453375 and b is -68.59460160276574\n",
      "Iteration 708, the loss is 57.81515636360773, parameters k is 14.40365822907719 and b is -68.59448016365612\n",
      "Iteration 709, the loss is 57.8144423910873, parameters k is 14.403896964978358 and b is -68.59435905152058\n",
      "Iteration 710, the loss is 57.81373896075137, parameters k is 14.40413363927294 and b is -68.59423826368105\n",
      "Iteration 711, the loss is 57.813045900517174, parameters k is 14.404368268857002 and b is -68.59411779748137\n",
      "Iteration 712, the loss is 57.8123630411111, parameters k is 14.40460087048814 and b is -68.59399765028716\n",
      "Iteration 713, the loss is 57.81169021602263, parameters k is 14.404831460786616 and b is -68.59387781948564\n",
      "Iteration 714, the loss is 57.81102726145941, parameters k is 14.405060056236476 and b is -68.59375830248541\n",
      "Iteration 715, the loss is 57.81037401630276, parameters k is 14.405286673186676 and b is -68.59363909671634\n",
      "Iteration 716, the loss is 57.809730322064006, parameters k is 14.405511327852187 and b is -68.59352019962937\n",
      "Iteration 717, the loss is 57.80909602284176, parameters k is 14.405734036315085 and b is -68.5934016086963\n",
      "Iteration 718, the loss is 57.80847096527929, parameters k is 14.405954814525648 and b is -68.59328332140967\n",
      "Iteration 719, the loss is 57.80785499852345, parameters k is 14.406173678303436 and b is -68.59316533528256\n",
      "Iteration 720, the loss is 57.80724797418347, parameters k is 14.406390643338359 and b is -68.59304764784845\n",
      "Iteration 721, the loss is 57.80664974629093, parameters k is 14.40660572519174 and b is -68.592930256661\n",
      "Iteration 722, the loss is 57.80606017126003, parameters k is 14.406818939297374 and b is -68.59281315929397\n",
      "Iteration 723, the loss is 57.80547910784909, parameters k is 14.407030300962564 and b is -68.59269635334094\n",
      "Iteration 724, the loss is 57.804906417121614, parameters k is 14.407239825369166 and b is -68.59257983641525\n",
      "Iteration 725, the loss is 57.804341962409595, parameters k is 14.40744752757461 and b is -68.59246360614982\n",
      "Iteration 726, the loss is 57.803785609275515, parameters k is 14.407653422512926 and b is -68.59234766019692\n",
      "Iteration 727, the loss is 57.80323722547665, parameters k is 14.407857524995753 and b is -68.5922319962281\n",
      "Iteration 728, the loss is 57.8026966809288, parameters k is 14.408059849713343 and b is -68.59211661193396\n",
      "Iteration 729, the loss is 57.80216384767129, parameters k is 14.40826041123555 and b is -68.59200150502406\n",
      "Iteration 730, the loss is 57.801638599832394, parameters k is 14.408459224012827 and b is -68.59188667322671\n",
      "Iteration 731, the loss is 57.80112081359477, parameters k is 14.408656302377192 and b is -68.59177211428884\n",
      "Iteration 732, the loss is 57.80061036716254, parameters k is 14.408851660543213 and b is -68.59165782597586\n",
      "Iteration 733, the loss is 57.80010714072779, parameters k is 14.40904531260896 and b is -68.59154380607146\n",
      "Iteration 734, the loss is 57.79961101643848, parameters k is 14.409237272556961 and b is -68.59143005237753\n",
      "Iteration 735, the loss is 57.79912187836625, parameters k is 14.409427554255153 and b is -68.59131656271396\n",
      "Iteration 736, the loss is 57.7986396124751, parameters k is 14.409616171457817 and b is -68.59120333491849\n",
      "Iteration 737, the loss is 57.79816410659069, parameters k is 14.409803137806513 and b is -68.59109036684661\n",
      "Iteration 738, the loss is 57.79769525036953, parameters k is 14.409988466831003 and b is -68.5909776563714\n",
      "Iteration 739, the loss is 57.79723293526972, parameters k is 14.410172171950162 and b is -68.5908652013833\n",
      "Iteration 740, the loss is 57.79677705452071, parameters k is 14.410354266472897 and b is -68.5907529997901\n",
      "Iteration 741, the loss is 57.79632750309519, parameters k is 14.410534763599038 and b is -68.59064104951672\n",
      "Iteration 742, the loss is 57.79588417768015, parameters k is 14.410713676420238 and b is -68.59052934850509\n",
      "Iteration 743, the loss is 57.79544697664923, parameters k is 14.410891017920859 and b is -68.59041789471398\n",
      "Iteration 744, the loss is 57.79501580003456, parameters k is 14.411066800978846 and b is -68.59030668611894\n",
      "Iteration 745, the loss is 57.794590549500576, parameters k is 14.411241038366608 and b is -68.59019572071206\n",
      "Iteration 746, the loss is 57.79417112831678, parameters k is 14.411413742751877 and b is -68.59008499650193\n",
      "Iteration 747, the loss is 57.79375744133149, parameters k is 14.411584926698566 and b is -68.58997451151342\n",
      "Iteration 748, the loss is 57.793349394946524, parameters k is 14.41175460266762 and b is -68.5898642637876\n",
      "Iteration 749, the loss is 57.7929468970914, parameters k is 14.411922783017866 and b is -68.58975425138162\n",
      "Iteration 750, the loss is 57.792549857198644, parameters k is 14.412089480006838 and b is -68.58964447236852\n",
      "Iteration 751, the loss is 57.792158186179115, parameters k is 14.412254705791616 and b is -68.58953492483715\n",
      "Iteration 752, the loss is 57.79177179639813, parameters k is 14.41241847242965 and b is -68.58942560689202\n",
      "Iteration 753, the loss is 57.791390601651266, parameters k is 14.412580791879572 and b is -68.58931651665317\n",
      "Iteration 754, the loss is 57.79101451714142, parameters k is 14.412741676002005 and b is -68.58920765225605\n",
      "Iteration 755, the loss is 57.79064345945569, parameters k is 14.412901136560373 and b is -68.58909901185137\n",
      "Iteration 756, the loss is 57.790277346542894, parameters k is 14.413059185221691 and b is -68.58899059360505\n",
      "Iteration 757, the loss is 57.789916097690956, parameters k is 14.413215833557357 and b is -68.58888239569798\n",
      "Iteration 758, the loss is 57.789559633505604, parameters k is 14.413371093043937 and b is -68.588774416326\n",
      "Iteration 759, the loss is 57.789207875888366, parameters k is 14.413524975063941 and b is -68.58866665369972\n",
      "Iteration 760, the loss is 57.788860748015836, parameters k is 14.413677490906593 and b is -68.5885591060444\n",
      "Iteration 761, the loss is 57.78851817431841, parameters k is 14.4138286517686 and b is -68.58845177159988\n",
      "Iteration 762, the loss is 57.788180080460386, parameters k is 14.413978468754904 and b is -68.58834464862039\n",
      "Iteration 763, the loss is 57.78784639331914, parameters k is 14.414126952879435 and b is -68.5882377353745\n",
      "Iteration 764, the loss is 57.78751704096599, parameters k is 14.414274115065863 and b is -68.58813103014495\n",
      "Iteration 765, the loss is 57.787191952646154, parameters k is 14.414419966148333 and b is -68.58802453122856\n",
      "Iteration 766, the loss is 57.786871058759964, parameters k is 14.414564516872197 and b is -68.58791823693609\n",
      "Iteration 767, the loss is 57.78655429084391, parameters k is 14.414707777894744 and b is -68.58781214559217\n",
      "Iteration 768, the loss is 57.78624158155204, parameters k is 14.414849759785922 and b is -68.58770625553514\n",
      "Iteration 769, the loss is 57.78593286463766, parameters k is 14.414990473029054 and b is -68.58760056511699\n",
      "Iteration 770, the loss is 57.78562807493556, parameters k is 14.415129928021548 and b is -68.58749507270316\n",
      "Iteration 771, the loss is 57.78532714834413, parameters k is 14.4152681350756 and b is -68.58738977667255\n",
      "Iteration 772, the loss is 57.78503002180842, parameters k is 14.415405104418891 and b is -68.58728467541731\n",
      "Iteration 773, the loss is 57.78473663330254, parameters k is 14.415540846195285 and b is -68.58717976734277\n",
      "Iteration 774, the loss is 57.784446921813114, parameters k is 14.415675370465507 and b is -68.58707505086734\n",
      "Iteration 775, the loss is 57.784160827322836, parameters k is 14.415808687207836 and b is -68.58697052442237\n",
      "Iteration 776, the loss is 57.78387829079396, parameters k is 14.415940806318769 and b is -68.58686618645208\n",
      "Iteration 777, the loss is 57.7835992541526, parameters k is 14.416071737613702 and b is -68.58676203541346\n",
      "Iteration 778, the loss is 57.78332366027287, parameters k is 14.416201490827584 and b is -68.5866580697761\n",
      "Iteration 779, the loss is 57.78305145296119, parameters k is 14.416330075615585 and b is -68.58655428802219\n",
      "Iteration 780, the loss is 57.78278257694146, parameters k is 14.416457501553744 and b is -68.58645068864628\n",
      "Iteration 781, the loss is 57.78251697783985, parameters k is 14.416583778139623 and b is -68.58634727015534\n",
      "Iteration 782, the loss is 57.782254602170056, parameters k is 14.416708914792945 and b is -68.58624403106853\n",
      "Iteration 783, the loss is 57.78199539731901, parameters k is 14.416832920856233 and b is -68.58614096991717\n",
      "Iteration 784, the loss is 57.78173931153229, parameters k is 14.416955805595448 and b is -68.58603808524458\n",
      "Iteration 785, the loss is 57.78148629390049, parameters k is 14.417077578200606 and b is -68.58593537560607\n",
      "Iteration 786, the loss is 57.78123629434504, parameters k is 14.417198247786413 and b is -68.58583283956874\n",
      "Iteration 787, the loss is 57.78098926360503, parameters k is 14.417317823392871 and b is -68.58573047571146\n",
      "Iteration 788, the loss is 57.780745153223634, parameters k is 14.417436313985897 and b is -68.58562828262475\n",
      "Iteration 789, the loss is 57.78050391553487, parameters k is 14.417553728457928 and b is -68.58552625891068\n",
      "Iteration 790, the loss is 57.78026550365103, parameters k is 14.417670075628525 and b is -68.58542440318274\n",
      "Iteration 791, the loss is 57.780029871449685, parameters k is 14.417785364244965 and b is -68.58532271406584\n",
      "Iteration 792, the loss is 57.77979697356137, parameters k is 14.41789960298284 and b is -68.58522119019612\n",
      "Iteration 793, the loss is 57.77956676535714, parameters k is 14.418012800446641 and b is -68.58511983022092\n",
      "Iteration 794, the loss is 57.77933920293663, parameters k is 14.41812496517034 and b is -68.58501863279865\n",
      "Iteration 795, the loss is 57.77911424311597, parameters k is 14.41823610561797 and b is -68.58491759659871\n",
      "Iteration 796, the loss is 57.778891843416446, parameters k is 14.418346230184197 and b is -68.58481672030143\n",
      "Iteration 797, the loss is 57.77867196205256, parameters k is 14.41845534719489 and b is -68.58471600259794\n",
      "Iteration 798, the loss is 57.77845455792095, parameters k is 14.418563464907681 and b is -68.5846154421901\n",
      "Iteration 799, the loss is 57.77823959058915, parameters k is 14.418670591512532 and b is -68.5845150377904\n",
      "Iteration 800, the loss is 57.778027020284995, parameters k is 14.418776735132278 and b is -68.58441478812188\n",
      "Iteration 801, the loss is 57.777816807885166, parameters k is 14.41888190382319 and b is -68.58431469191807\n",
      "Iteration 802, the loss is 57.77760891490523, parameters k is 14.418986105575508 and b is -68.58421474792284\n",
      "Iteration 803, the loss is 57.77740330348891, parameters k is 14.419089348313992 and b is -68.58411495489041\n",
      "Iteration 804, the loss is 57.77719993639776, parameters k is 14.419191639898457 and b is -68.58401531158515\n",
      "Iteration 805, the loss is 57.77699877700145, parameters k is 14.419292988124297 and b is -68.5839158167816\n",
      "Iteration 806, the loss is 57.77679978926735, parameters k is 14.419393400723026 and b is -68.5838164692643\n",
      "Iteration 807, the loss is 57.776602937751264, parameters k is 14.419492885362788 and b is -68.58371726782782\n",
      "Iteration 808, the loss is 57.77640818758731, parameters k is 14.419591449648888 and b is -68.58361821127654\n",
      "Iteration 809, the loss is 57.77621550447887, parameters k is 14.4196891011243 and b is -68.58351929842468\n",
      "Iteration 810, the loss is 57.77602485468931, parameters k is 14.41978584727018 and b is -68.58342052809614\n",
      "Iteration 811, the loss is 57.77583620503252, parameters k is 14.419881695506374 and b is -68.5833218991245\n",
      "Iteration 812, the loss is 57.77564952286414, parameters k is 14.419976653191917 and b is -68.58322341035287\n",
      "Iteration 813, the loss is 57.7754647760727, parameters k is 14.420070727625532 and b is -68.58312506063388\n",
      "Iteration 814, the loss is 57.77528193307099, parameters k is 14.420163926046131 and b is -68.5830268488295\n",
      "Iteration 815, the loss is 57.77510096278739, parameters k is 14.420256255633294 and b is -68.58292877381109\n",
      "Iteration 816, the loss is 57.77492183465735, parameters k is 14.420347723507765 and b is -68.58283083445922\n",
      "Iteration 817, the loss is 57.77474451861539, parameters k is 14.420438336731927 and b is -68.58273302966364\n",
      "Iteration 818, the loss is 57.77456898508681, parameters k is 14.420528102310286 and b is -68.58263535832323\n",
      "Iteration 819, the loss is 57.774395204979704, parameters k is 14.420617027189941 and b is -68.58253781934586\n",
      "Iteration 820, the loss is 57.77422314967689, parameters k is 14.42070511826106 and b is -68.58244041164835\n",
      "Iteration 821, the loss is 57.774052791028495, parameters k is 14.420792382357337 and b is -68.58234313415642\n",
      "Iteration 822, the loss is 57.77388410134402, parameters k is 14.420878826256466 and b is -68.58224598580456\n",
      "Iteration 823, the loss is 57.77371705338512, parameters k is 14.420964456680592 and b is -68.58214896553605\n",
      "Iteration 824, the loss is 57.77355162035797, parameters k is 14.421049280296769 and b is -68.58205207230277\n",
      "Iteration 825, the loss is 57.773387775906265, parameters k is 14.421133303717413 and b is -68.58195530506522\n",
      "Iteration 826, the loss is 57.77322549410375, parameters k is 14.421216533500747 and b is -68.58185866279241\n",
      "Iteration 827, the loss is 57.77306474944748, parameters k is 14.421298976151247 and b is -68.5817621444618\n",
      "Iteration 828, the loss is 57.77290551685085, parameters k is 14.42138063812008 and b is -68.58166574905925\n",
      "Iteration 829, the loss is 57.77274777163659, parameters k is 14.421461525805546 and b is -68.5815694755789\n",
      "Iteration 830, the loss is 57.77259148953056, parameters k is 14.421541645553503 and b is -68.58147332302316\n",
      "Iteration 831, the loss is 57.772436646654604, parameters k is 14.421621003657808 and b is -68.58137729040259\n",
      "Iteration 832, the loss is 57.77228321952044, parameters k is 14.421699606360733 and b is -68.58128137673587\n",
      "Iteration 833, the loss is 57.7721311850232, parameters k is 14.421777459853391 and b is -68.58118558104974\n",
      "Iteration 834, the loss is 57.77198052043508, parameters k is 14.42185457027616 and b is -68.58108990237889\n",
      "Iteration 835, the loss is 57.77183120339952, parameters k is 14.42193094371909 and b is -68.58099433976594\n",
      "Iteration 836, the loss is 57.77168321192456, parameters k is 14.422006586222324 and b is -68.58089889226135\n",
      "Iteration 837, the loss is 57.77153652437765, parameters k is 14.4220815037765 and b is -68.58080355892335\n",
      "Iteration 838, the loss is 57.7713911194789, parameters k is 14.422155702323163 and b is -68.58070833881791\n",
      "Iteration 839, the loss is 57.771246976296254, parameters k is 14.422229187755164 and b is -68.58061323101865\n",
      "Iteration 840, the loss is 57.7711040742389, parameters k is 14.422301965917056 and b is -68.58051823460674\n",
      "Iteration 841, the loss is 57.77096239305254, parameters k is 14.422374042605497 and b is -68.58042334867095\n",
      "Iteration 842, the loss is 57.7708219128132, parameters k is 14.422445423569638 and b is -68.58032857230748\n",
      "Iteration 843, the loss is 57.77068261392232, parameters k is 14.42251611451151 and b is -68.58023390461993\n",
      "Iteration 844, the loss is 57.77054447710116, parameters k is 14.422586121086416 and b is -68.58013934471926\n",
      "Iteration 845, the loss is 57.77040748338579, parameters k is 14.422655448903313 and b is -68.58004489172372\n",
      "Iteration 846, the loss is 57.77027161412172, parameters k is 14.422724103525187 and b is -68.57995054475877\n",
      "Iteration 847, the loss is 57.77013685095907, parameters k is 14.422792090469432 and b is -68.57985630295705\n",
      "Iteration 848, the loss is 57.770003175847506, parameters k is 14.422859415208228 and b is -68.57976216545832\n",
      "Iteration 849, the loss is 57.769870571031106, parameters k is 14.422926083168905 and b is -68.57966813140936\n",
      "Iteration 850, the loss is 57.769739019044174, parameters k is 14.422992099734314 and b is -68.57957419996396\n",
      "Iteration 851, the loss is 57.76960850270585, parameters k is 14.423057470243192 and b is -68.57948037028284\n",
      "Iteration 852, the loss is 57.76947900511585, parameters k is 14.423122199990523 and b is -68.5793866415336\n",
      "Iteration 853, the loss is 57.76935050964968, parameters k is 14.423186294227893 and b is -68.57929301289069\n"
     ]
    },
    {
     "name": "stdout",
     "output_type": "stream",
     "text": [
      "Iteration 854, the loss is 57.76922299995422, parameters k is 14.423249758163854 and b is -68.57919948353526\n",
      "Iteration 855, the loss is 57.76909645994347, parameters k is 14.423312596964266 and b is -68.57910605265523\n",
      "Iteration 856, the loss is 57.76897087379371, parameters k is 14.423374815752657 and b is -68.57901271944516\n",
      "Iteration 857, the loss is 57.768846225939804, parameters k is 14.423436419610562 and b is -68.57891948310619\n",
      "Iteration 858, the loss is 57.76872250107066, parameters k is 14.423497413577874 and b is -68.57882634284604\n",
      "Iteration 859, the loss is 57.768599684124936, parameters k is 14.423557802653177 and b is -68.5787332978789\n",
      "Iteration 860, the loss is 57.768477760287226, parameters k is 14.423617591794093 and b is -68.5786403474254\n",
      "Iteration 861, the loss is 57.76835671498408, parameters k is 14.423676785917614 and b is -68.57854749071258\n",
      "Iteration 862, the loss is 57.76823653387991, parameters k is 14.423735389900433 and b is -68.57845472697377\n",
      "Iteration 863, the loss is 57.76811720287293, parameters k is 14.423793408579275 and b is -68.57836205544865\n",
      "Iteration 864, the loss is 57.76799870809176, parameters k is 14.42385084675123 and b is -68.57826947538307\n",
      "Iteration 865, the loss is 57.767881035891534, parameters k is 14.423907709174074 and b is -68.57817698602908\n",
      "Iteration 866, the loss is 57.76776417284982, parameters k is 14.423964000566585 and b is -68.57808458664486\n",
      "Iteration 867, the loss is 57.767648105763605, parameters k is 14.424019725608874 and b is -68.57799227649468\n",
      "Iteration 868, the loss is 57.76753282164512, parameters k is 14.424074888942693 and b is -68.57790005484884\n",
      "Iteration 869, the loss is 57.76741830771884, parameters k is 14.424129495171753 and b is -68.5778079209836\n",
      "Iteration 870, the loss is 57.76730455141768, parameters k is 14.42418354886204 and b is -68.57771587418118\n",
      "Iteration 871, the loss is 57.76719154037959, parameters k is 14.424237054542111 and b is -68.57762391372965\n",
      "Iteration 872, the loss is 57.76707926244448, parameters k is 14.424290016703418 and b is -68.57753203892294\n",
      "Iteration 873, the loss is 57.76696770565072, parameters k is 14.4243424398006 and b is -68.57744024906076\n",
      "Iteration 874, the loss is 57.76685685823202, parameters k is 14.424394328251788 and b is -68.57734854344855\n",
      "Iteration 875, the loss is 57.766746708613894, parameters k is 14.424445686438903 and b is -68.57725692139745\n",
      "Iteration 876, the loss is 57.76663724541107, parameters k is 14.424496518707956 and b is -68.57716538222424\n",
      "Iteration 877, the loss is 57.76652845742396, parameters k is 14.42454682936934 and b is -68.57707392525131\n",
      "Iteration 878, the loss is 57.766420333635836, parameters k is 14.424596622698123 and b is -68.5769825498066\n",
      "Iteration 879, the loss is 57.766312863209876, parameters k is 14.424645902934337 and b is -68.57689125522356\n",
      "Iteration 880, the loss is 57.76620603548617, parameters k is 14.424694674283263 and b is -68.57680004084108\n",
      "Iteration 881, the loss is 57.76609983997861, parameters k is 14.424742940915719 and b is -68.5767089060035\n",
      "Iteration 882, the loss is 57.76599426637249, parameters k is 14.424790706968341 and b is -68.57661785006052\n",
      "Iteration 883, the loss is 57.765889304521345, parameters k is 14.424837976543865 and b is -68.57652687236715\n",
      "Iteration 884, the loss is 57.76578494444439, parameters k is 14.424884753711401 and b is -68.57643597228373\n",
      "Iteration 885, the loss is 57.765681176323795, parameters k is 14.424931042506712 and b is -68.57634514917581\n",
      "Iteration 886, the loss is 57.765577990501875, parameters k is 14.424976846932484 and b is -68.57625440241414\n",
      "Iteration 887, the loss is 57.765475377478786, parameters k is 14.425022170958604 and b is -68.57616373137463\n",
      "Iteration 888, the loss is 57.7653733279096, parameters k is 14.425067018522418 and b is -68.57607313543832\n",
      "Iteration 889, the loss is 57.76527183260192, parameters k is 14.425111393529008 and b is -68.5759826139913\n",
      "Iteration 890, the loss is 57.76517088251345, parameters k is 14.425155299851449 and b is -68.57589216642471\n",
      "Iteration 891, the loss is 57.765070468749684, parameters k is 14.425198741331076 and b is -68.57580179213467\n",
      "Iteration 892, the loss is 57.76497058256092, parameters k is 14.425241721777743 and b is -68.57571149052225\n",
      "Iteration 893, the loss is 57.764871215340676, parameters k is 14.42528424497008 and b is -68.57562126099343\n",
      "Iteration 894, the loss is 57.76477235862269, parameters k is 14.425326314655749 and b is -68.57553110295906\n",
      "Iteration 895, the loss is 57.76467400407901, parameters k is 14.425367934551698 and b is -68.57544101583481\n",
      "Iteration 896, the loss is 57.76457614351761, parameters k is 14.425409108344413 and b is -68.57535099904116\n",
      "Iteration 897, the loss is 57.764478768880196, parameters k is 14.425449839690168 and b is -68.57526105200331\n",
      "Iteration 898, the loss is 57.76438187224003, parameters k is 14.425490132215273 and b is -68.5751711741512\n",
      "Iteration 899, the loss is 57.76428544579973, parameters k is 14.425529989516317 and b is -68.57508136491941\n",
      "Iteration 900, the loss is 57.76418948188918, parameters k is 14.425569415160414 and b is -68.57499162374718\n",
      "Iteration 901, the loss is 57.764093972963515, parameters k is 14.425608412685444 and b is -68.57490195007834\n",
      "Iteration 902, the loss is 57.763998911601085, parameters k is 14.425646985600292 and b is -68.57481234336127\n",
      "Iteration 903, the loss is 57.763904290501316, parameters k is 14.425685137385086 and b is -68.57472280304889\n",
      "Iteration 904, the loss is 57.76381010248266, parameters k is 14.425722871491434 and b is -68.57463332859855\n",
      "Iteration 905, the loss is 57.76371634048113, parameters k is 14.425760191342654 and b is -68.57454391947212\n",
      "Iteration 906, the loss is 57.76362299754781, parameters k is 14.425797100334012 and b is -68.57445457513585\n",
      "Iteration 907, the loss is 57.76353006684728, parameters k is 14.425833601832945 and b is -68.57436529506035\n",
      "Iteration 908, the loss is 57.76343754165572, parameters k is 14.425869699179295 and b is -68.57427607872057\n",
      "Iteration 909, the loss is 57.763345415359, parameters k is 14.425905395685527 and b is -68.5741869255958\n",
      "Iteration 910, the loss is 57.76325368145104, parameters k is 14.425940694636967 and b is -68.57409783516954\n",
      "Iteration 911, the loss is 57.763162333531845, parameters k is 14.42597559929201 and b is -68.57400880692957\n",
      "Iteration 912, the loss is 57.76307136530614, parameters k is 14.426010112882349 and b is -68.57391984036785\n",
      "Iteration 913, the loss is 57.762980770581095, parameters k is 14.42604423861319 and b is -68.57383093498049\n",
      "Iteration 914, the loss is 57.76289054326518, parameters k is 14.426077979663477 and b is -68.57374209026776\n",
      "Iteration 915, the loss is 57.762800677366286, parameters k is 14.426111339186093 and b is -68.573653305734\n",
      "Iteration 916, the loss is 57.76271116698996, parameters k is 14.426144320308087 and b is -68.57356458088763\n",
      "Iteration 917, the loss is 57.7626220063382, parameters k is 14.426176926130879 and b is -68.57347591524109\n",
      "Iteration 918, the loss is 57.76253318970747, parameters k is 14.426209159730469 and b is -68.57338730831081\n",
      "Iteration 919, the loss is 57.762444711487454, parameters k is 14.426241024157653 and b is -68.5732987596172\n",
      "Iteration 920, the loss is 57.76235656615929, parameters k is 14.426272522438218 and b is -68.57321026868459\n",
      "Iteration 921, the loss is 57.76226874829434, parameters k is 14.42630365757316 and b is -68.57312183504119\n",
      "Iteration 922, the loss is 57.762181252552544, parameters k is 14.426334432538873 and b is -68.57303345821911\n",
      "Iteration 923, the loss is 57.76209407368084, parameters k is 14.426364850287365 and b is -68.57294513775429\n",
      "Iteration 924, the loss is 57.76200720651226, parameters k is 14.426394913746448 and b is -68.57285687318644\n",
      "Iteration 925, the loss is 57.76192064596383, parameters k is 14.426424625819939 and b is -68.57276866405907\n",
      "Iteration 926, the loss is 57.76183438703576, parameters k is 14.426453989387856 and b is -68.57268050991942\n",
      "Iteration 927, the loss is 57.76174842480985, parameters k is 14.426483007306615 and b is -68.57259241031846\n",
      "Iteration 928, the loss is 57.76166275444813, parameters k is 14.426511682409224 and b is -68.57250436481083\n",
      "Iteration 929, the loss is 57.76157737119162, parameters k is 14.42654001750547 and b is -68.5724163729548\n",
      "Iteration 930, the loss is 57.761492270358985, parameters k is 14.426568015382117 and b is -68.5723284343123\n",
      "Iteration 931, the loss is 57.761407447345455, parameters k is 14.426595678803084 and b is -68.5722405484488\n",
      "Iteration 932, the loss is 57.76132289762125, parameters k is 14.426623010509642 and b is -68.57215271493338\n",
      "Iteration 933, the loss is 57.761238616730544, parameters k is 14.426650013220598 and b is -68.57206493333861\n",
      "Iteration 934, the loss is 57.76115460029044, parameters k is 14.426676689632474 and b is -68.57197720324059\n",
      "Iteration 935, the loss is 57.761070843989444, parameters k is 14.426703042419692 and b is -68.5718895242189\n",
      "Iteration 936, the loss is 57.76098734358633, parameters k is 14.426729074234759 and b is -68.57180189585654\n",
      "Iteration 937, the loss is 57.76090409490934, parameters k is 14.426754787708441 and b is -68.57171431773993\n",
      "Iteration 938, the loss is 57.760821093854645, parameters k is 14.426780185449946 and b is -68.5716267894589\n",
      "Iteration 939, the loss is 57.76073833638553, parameters k is 14.426805270047096 and b is -68.57153931060664\n",
      "Iteration 940, the loss is 57.7606558185311, parameters k is 14.426830044066506 and b is -68.57145188077965\n",
      "Iteration 941, the loss is 57.76057353638521, parameters k is 14.426854510053756 and b is -68.57136449957775\n",
      "Iteration 942, the loss is 57.76049148610561, parameters k is 14.426878670533563 and b is -68.57127716660406\n",
      "Iteration 943, the loss is 57.760409663912775, parameters k is 14.426902528009954 and b is -68.57118988146492\n",
      "Iteration 944, the loss is 57.76032806608863, parameters k is 14.426926084966434 and b is -68.5711026437699\n",
      "Iteration 945, the loss is 57.760246688976224, parameters k is 14.426949343866156 and b is -68.5710154531318\n",
      "Iteration 946, the loss is 57.760165528977886, parameters k is 14.426972307152083 and b is -68.57092830916656\n",
      "Iteration 947, the loss is 57.76008458255493, parameters k is 14.426994977247158 and b is -68.57084121149329\n",
      "Iteration 948, the loss is 57.76000384622629, parameters k is 14.427017356554469 and b is -68.5707541597342\n",
      "Iteration 949, the loss is 57.75992331656783, parameters k is 14.427039447457407 and b is -68.5706671535146\n",
      "Iteration 950, the loss is 57.7598429902112, parameters k is 14.427061252319831 and b is -68.57058019246291\n",
      "Iteration 951, the loss is 57.75976286384314, parameters k is 14.427082773486228 and b is -68.57049327621056\n",
      "Iteration 952, the loss is 57.7596829342044, parameters k is 14.42710401328187 and b is -68.57040640439197\n",
      "Iteration 953, the loss is 57.75960319808906, parameters k is 14.42712497401297 and b is -68.57031957664462\n",
      "Iteration 954, the loss is 57.759523652343304, parameters k is 14.427145657966847 and b is -68.57023279260893\n",
      "Iteration 955, the loss is 57.759444293865, parameters k is 14.427166067412067 and b is -68.57014605192826\n",
      "Iteration 956, the loss is 57.759365119602535, parameters k is 14.427186204598607 and b is -68.57005935424891\n",
      "Iteration 957, the loss is 57.759286126554215, parameters k is 14.427206071758008 and b is -68.56997269922007\n",
      "Iteration 958, the loss is 57.759207311767305, parameters k is 14.427225671103516 and b is -68.56988608649381\n",
      "Iteration 959, the loss is 57.75912867233722, parameters k is 14.427245004830242 and b is -68.56979951572502\n",
      "Iteration 960, the loss is 57.75905020540685, parameters k is 14.427264075115307 and b is -68.56971298657147\n",
      "Iteration 961, the loss is 57.7589719081655, parameters k is 14.42728288411799 and b is -68.56962649869371\n",
      "Iteration 962, the loss is 57.75889377784891, parameters k is 14.42730143397987 and b is -68.56954005175507\n",
      "Iteration 963, the loss is 57.75881581173728, parameters k is 14.427319726824983 and b is -68.56945364542163\n",
      "Iteration 964, the loss is 57.75873800715568, parameters k is 14.427337764759947 and b is -68.56936727936223\n",
      "Iteration 965, the loss is 57.75866036147262, parameters k is 14.427355549874123 and b is -68.5692809532484\n",
      "Iteration 966, the loss is 57.75858287209964, parameters k is 14.427373084239745 and b is -68.56919466675438\n",
      "Iteration 967, the loss is 57.75850553649051, parameters k is 14.427390369912066 and b is -68.56910841955708\n",
      "Iteration 968, the loss is 57.758428352140506, parameters k is 14.427407408929495 and b is -68.56902221133605\n",
      "Iteration 969, the loss is 57.75835131658601, parameters k is 14.427424203313734 and b is -68.56893604177345\n",
      "Iteration 970, the loss is 57.75827442740328, parameters k is 14.427440755069917 and b is -68.56884991055409\n",
      "Iteration 971, the loss is 57.75819768220841, parameters k is 14.427457066186745 and b is -68.56876381736532\n",
      "Iteration 972, the loss is 57.75812107865638, parameters k is 14.427473138636621 and b is -68.56867776189706\n",
      "Iteration 973, the loss is 57.75804461444033, parameters k is 14.427488974375784 and b is -68.5685917438418\n",
      "Iteration 974, the loss is 57.757968287291135, parameters k is 14.427504575344438 and b is -68.5685057628945\n",
      "Iteration 975, the loss is 57.757892094976604, parameters k is 14.427519943466889 and b is -68.56841981875267\n",
      "Iteration 976, the loss is 57.757816035301204, parameters k is 14.42753508065167 and b is -68.56833391111628\n",
      "Iteration 977, the loss is 57.75774010610508, parameters k is 14.427549988791673 and b is -68.56824803968776\n",
      "Iteration 978, the loss is 57.75766430526353, parameters k is 14.427564669764282 and b is -68.56816220417195\n",
      "Iteration 979, the loss is 57.75758863068693, parameters k is 14.427579125431487 and b is -68.56807640427617\n",
      "Iteration 980, the loss is 57.75751308031925, parameters k is 14.427593357640024 and b is -68.56799063971008\n",
      "Iteration 981, the loss is 57.757437652138414, parameters k is 14.42760736822149 and b is -68.56790491018575\n",
      "Iteration 982, the loss is 57.75736234415525, parameters k is 14.427621158992476 and b is -68.5678192154176\n",
      "Iteration 983, the loss is 57.757287154412786, parameters k is 14.427634731754681 and b is -68.56773355512239\n",
      "Iteration 984, the loss is 57.75721208098652, parameters k is 14.42764808829504 and b is -68.5676479290192\n",
      "Iteration 985, the loss is 57.757137121983014, parameters k is 14.427661230385842 and b is -68.56756233682944\n",
      "Iteration 986, the loss is 57.75706227553977, parameters k is 14.427674159784855 and b is -68.56747677827676\n",
      "Iteration 987, the loss is 57.75698753982453, parameters k is 14.427686878235436 and b is -68.5673912530871\n",
      "Iteration 988, the loss is 57.75691291303546, parameters k is 14.427699387466658 and b is -68.56730576098863\n",
      "Iteration 989, the loss is 57.75683839339963, parameters k is 14.427711689193423 and b is -68.56722030171179\n",
      "Iteration 990, the loss is 57.756763979173314, parameters k is 14.427723785116575 and b is -68.56713487498916\n",
      "Iteration 991, the loss is 57.7566896686412, parameters k is 14.427735676923024 and b is -68.56704948055558\n",
      "Iteration 992, the loss is 57.756615460115825, parameters k is 14.427747366285853 and b is -68.56696411814801\n",
      "Iteration 993, the loss is 57.756541351937486, parameters k is 14.427758854864432 and b is -68.56687878750559\n",
      "Iteration 994, the loss is 57.756467342473464, parameters k is 14.427770144304535 and b is -68.5667934883696\n",
      "Iteration 995, the loss is 57.75639343011781, parameters k is 14.427781236238443 and b is -68.56670822048345\n",
      "Iteration 996, the loss is 57.75631961329058, parameters k is 14.427792132285065 and b is -68.56662298359262\n",
      "Iteration 997, the loss is 57.75624589043782, parameters k is 14.427802834050038 and b is -68.56653777744471\n",
      "Iteration 998, the loss is 57.75617226003063, parameters k is 14.427813343125843 and b is -68.56645260178935\n",
      "Iteration 999, the loss is 57.756098720565625, parameters k is 14.427823661091908 and b is -68.56636745637827\n"
     ]
    }
   ],
   "source": [
    "k = random.random() * 200 - 100\n",
    "b = random.random() * 200 - 100\n",
    "lr = 1e-4\n",
    "iteration = 1000\n",
    "loss_list = []\n",
    "for i in range(iteration):\n",
    "    y_hat = [price(x_i, k, b) for x_i in x]\n",
    "    \n",
    "    loss_list.append(loss(y, y_hat))\n",
    "    print(\"Iteration {}, the loss is {}, parameters k is {} and b is {}\".format(i,loss(y, y_hat),k,b))\n",
    "    \n",
    "    k_gradient = partial_derivative_k(y, y_hat, x)\n",
    "    b_gradient = partial_derivative_b(y, y_hat)\n",
    "    k += -lr * k_gradient\n",
    "    b += -lr * b_gradient"
   ]
  },
  {
   "cell_type": "code",
   "execution_count": 185,
   "metadata": {},
   "outputs": [
    {
     "data": {
      "text/plain": [
       "[<matplotlib.lines.Line2D at 0x26ce72a0a58>]"
      ]
     },
     "execution_count": 185,
     "metadata": {},
     "output_type": "execute_result"
    },
    {
     "data": {
      "image/png": "[encoded data removed]",
      "text/plain": [
       "<Figure size 432x288 with 1 Axes>"
      ]
     },
     "metadata": {
      "needs_background": "light"
     },
     "output_type": "display_data"
    }
   ],
   "source": [
    "plt.plot([i for i in range(iteration)], np.log2(loss_list))"
   ]
  },
  {
   "cell_type": "code",
   "execution_count": 188,
   "metadata": {},
   "outputs": [
    {
     "data": {
      "text/plain": [
       "<matplotlib.collections.PathCollection at 0x26ce73053c8>"
      ]
     },
     "execution_count": 188,
     "metadata": {},
     "output_type": "execute_result"
    },
    {
     "data": {
      "image/png": "[encoded data removed]",
      "text/plain": [
       "<Figure size 432x288 with 1 Axes>"
      ]
     },
     "metadata": {
      "needs_background": "light"
     },
     "output_type": "display_data"
    }
   ],
   "source": [
    "plt.scatter(x, price(x, k, b))\n",
    "plt.scatter(x, y)"
   ]
  },
  {
   "cell_type": "code",
   "execution_count": null,
   "metadata": {},
   "outputs": [],
   "source": []
  },
  {
   "cell_type": "code",
   "execution_count": null,
   "metadata": {},
   "outputs": [],
   "source": []
  },
  {
   "cell_type": "code",
   "execution_count": null,
   "metadata": {},
   "outputs": [],
   "source": []
  },
  {
   "cell_type": "code",
   "execution_count": 241,
   "metadata": {},
   "outputs": [
    {
     "data": {
      "text/plain": [
       "10.758409345497006"
      ]
     },
     "execution_count": 241,
     "metadata": {},
     "output_type": "execute_result"
    }
   ],
   "source": [
    "k"
   ]
  },
  {
   "cell_type": "code",
   "execution_count": 242,
   "metadata": {},
   "outputs": [
    {
     "data": {
      "text/plain": [
       "-45.19068386345864"
      ]
     },
     "execution_count": 242,
     "metadata": {},
     "output_type": "execute_result"
    }
   ],
   "source": [
    "b"
   ]
  },
  {
   "cell_type": "code",
   "execution_count": 243,
   "metadata": {},
   "outputs": [
    {
     "data": {
      "text/plain": [
       "44.964459043678744"
      ]
     },
     "execution_count": 243,
     "metadata": {},
     "output_type": "execute_result"
    }
   ],
   "source": [
    "loss(y, [price(x_i, k, b) for x_i in x])"
   ]
  },
  {
   "cell_type": "code",
   "execution_count": 287,
   "metadata": {},
   "outputs": [
    {
     "name": "stderr",
     "output_type": "stream",
     "text": [
      "UsageError: Line magic function `%` not found.\n"
     ]
    }
   ],
   "source": [
    "% matplot inline\n",
    "from mpl_toolkits import mplot3d\n",
    "import numpy as np\n",
    "import matplotlib.pyplot as plt"
   ]
  },
  {
   "cell_type": "code",
   "execution_count": 289,
   "metadata": {},
   "outputs": [
    {
     "data": {
      "text/plain": [
       "[<mpl_toolkits.mplot3d.art3d.Line3D at 0x26c824b3e10>]"
      ]
     },
     "execution_count": 289,
     "metadata": {},
     "output_type": "execute_result"
    },
    {
     "data": {
      "image/png": "[encoded data removed]",
      "text/plain": [
       "<Figure size 432x288 with 1 Axes>"
      ]
     },
     "metadata": {
      "needs_background": "light"
     },
     "output_type": "display_data"
    }
   ],
   "source": [
    "ax = plt.axes(projection='3d')\n",
    "k = np.linspace(10 - 100, 10+ 100, 100)\n",
    "b = np.linspace(-45 - 100, -45 + 100, 100)\n",
    "k_b = [(k_i, b_i) for k_i in k for b_i in b]\n",
    "xline = [k[0] for k in k_b]\n",
    "yline = [b[1] for b in k_b]\n",
    "zline = []\n",
    "for k, b in k_b:\n",
    "    zline.append(loss(y, [price(x_i, k, b) for x_i in x]))\n",
    "line = [(a, b, c) for a, b, c in zip(xline, yline, zline)]\n",
    "line = [el for el in line if el[2] < 100]\n",
    "xline = [el[0] for el in line]\n",
    "yline = [el[1] for el in line]\n",
    "zline = [el[2] for el in line]\n",
    "ax.plot3D(xline, yline, zline, 'gray')"
   ]
  },
  {
   "cell_type": "code",
   "execution_count": null,
   "metadata": {},
   "outputs": [],
   "source": []
  },
  {
   "cell_type": "code",
   "execution_count": null,
   "metadata": {},
   "outputs": [],
   "source": []
  }
 ],
 "metadata": {
  "kernelspec": {
   "display_name": "Python 3",
   "language": "python",
   "name": "python3"
  },
  "language_info": {
   "codemirror_mode": {
    "name": "ipython",
    "version": 3
   },
   "file_extension": ".py",
   "mimetype": "text/x-python",
   "name": "python",
   "nbconvert_exporter": "python",
   "pygments_lexer": "ipython3",
   "version": "3.7.3"
  }
 },
 "nbformat": 4,
 "nbformat_minor": 2
}
