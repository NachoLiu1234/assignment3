{
 "cells": [
  {
   "cell_type": "markdown",
   "metadata": {},
   "source": [
    "# Assignment 2\n"
   ]
  },
  {
   "cell_type": "markdown",
   "metadata": {},
   "source": [
    "#### 1. 复习上课内容以及复现课程代码"
   ]
  },
  {
   "cell_type": "markdown",
   "metadata": {},
   "source": [
    "在本部分，你需要在复习上课内容和课程代码后，复现课程代码。 "
   ]
  },
  {
   "cell_type": "markdown",
   "metadata": {},
   "source": [
    "#### 2. 回答以下理论题目"
   ]
  },
  {
   "cell_type": "markdown",
   "metadata": {},
   "source": [
    "###### 2.1 What conditions are required to make the BFS return the optimal solution ?"
   ]
  },
  {
   "cell_type": "markdown",
   "metadata": {},
   "source": [
    "每条边的花费是正值, 如果每条边的cost都是正值但不等, 在预测的过程中, 需要对改点到终点的cost的预测值, 并重新排序"
   ]
  },
  {
   "cell_type": "markdown",
   "metadata": {},
   "source": [
    "##### 2.2 Is there a way to make DFS find the optimal solution ? (You may need to read some material about iterative DFS)"
   ]
  },
  {
   "cell_type": "markdown",
   "metadata": {},
   "source": [
    "限制深度优先搜索的深度, 在达到深度后如果没找到最优搜索, 提高深度, 类似于广度优先搜索, 但是空间复杂度还是和深度优先一样"
   ]
  },
  {
   "cell_type": "markdown",
   "metadata": {},
   "source": [
    "##### 2.3 In what conditions BFS is a better choice than DFS and vice versa ?"
   ]
  },
  {
   "cell_type": "markdown",
   "metadata": {},
   "source": [
    "需要最优策略时BFS更好, 需要更好的空间复杂度是DFS更好"
   ]
  },
  {
   "cell_type": "markdown",
   "metadata": {},
   "source": [
    "##### 2.4 When can we use machine learning ?"
   ]
  },
  {
   "cell_type": "markdown",
   "metadata": {},
   "source": [
    "用来拟合数据集时, 我们定义了是多少次方的函数以后可以用机器学习"
   ]
  },
  {
   "cell_type": "markdown",
   "metadata": {},
   "source": [
    "##### 2.5 What is the gradient of a function ?"
   ]
  },
  {
   "cell_type": "markdown",
   "metadata": {},
   "source": [
    "每个参数的偏导数组成的一个向量"
   ]
  },
  {
   "cell_type": "markdown",
   "metadata": {},
   "source": [
    "##### 2.6 How can we find the maximum value of a function using the information of gradient ?"
   ]
  },
  {
   "cell_type": "markdown",
   "metadata": {},
   "source": [
    "把学习率设为正值, 乘上学习率并沿着梯度方向迭代"
   ]
  },
  {
   "cell_type": "markdown",
   "metadata": {},
   "source": [
    "#### 3. 实践部分  寻找地铁路线"
   ]
  },
  {
   "cell_type": "markdown",
   "metadata": {},
   "source": [
    "In this part, although we recommend you to use Beijing subway, you still can use the subway map of any cities that you are interested in. "
   ]
  },
  {
   "cell_type": "markdown",
   "metadata": {},
   "source": [
    "![title](img/ditu.png)"
   ]
  },
  {
   "cell_type": "markdown",
   "metadata": {},
   "source": [
    "Please using the search policy to implement an agent. This agent receives two input, one is @param start station and the other is @param destination. Your agent should give the optimal route based on Beijing Subway system."
   ]
  },
  {
   "cell_type": "markdown",
   "metadata": {},
   "source": [
    "Deadline: 2019-October-27"
   ]
  },
  {
   "cell_type": "markdown",
   "metadata": {},
   "source": [
    "#### Procedures"
   ]
  },
  {
   "cell_type": "markdown",
   "metadata": {},
   "source": [
    "#### 1. Get data from web.  "
   ]
  },
  {
   "cell_type": "markdown",
   "metadata": {},
   "source": [
    "Some tips: "
   ]
  },
  {
   "cell_type": "markdown",
   "metadata": {},
   "source": [
    "a. You might need this package: requests[https://2.python-requests.org/en/master/] to get webpages"
   ]
  },
  {
   "cell_type": "markdown",
   "metadata": {},
   "source": [
    "b.You might need to use Regular Expression and Beautiful Soap package to parse the webpages"
   ]
  },
  {
   "cell_type": "code",
   "execution_count": 3,
   "metadata": {},
   "outputs": [],
   "source": [
    "import requests\n",
    "from lxml import etree"
   ]
  },
  {
   "cell_type": "code",
   "execution_count": 4,
   "metadata": {},
   "outputs": [],
   "source": [
    "content = requests.get('https://dt.8684.cn/bj').content"
   ]
  },
  {
   "cell_type": "code",
   "execution_count": 5,
   "metadata": {},
   "outputs": [],
   "source": [
    "content = content.decode('utf8')"
   ]
  },
  {
   "cell_type": "code",
   "execution_count": 6,
   "metadata": {},
   "outputs": [
    {
     "data": {
      "text/plain": [
       "'<!DOCTYPE html PUBLIC \"-//W3C//DTD XHTML 1.0 Transitional//EN\" \"http://www.w3.org/TR/xhtml1/DTD/xhtml1-transitional.dtd\"> <html xmlns=\"http://www.w3.org/1999/xhtml\"> <head> <meta http-equiv=\"Content-Type\" content=\"text/html; charset=utf-8\"> <meta http-equiv=\"Cache-Control\" content=\"no-transform \" /> <meta http-equiv=\"Cache-Control\" content=\"no-siteapp\" /> <meta name=\"applicable-device\" content=\"pc\" /> <title>北京地铁_北京地铁线路图_北京地铁票价查询_北京地铁运营时间</title> <meta name=\"Description\" content=\"北京地铁线路图最新,北京地铁票价查询,北京地铁官网,北京地铁票价,北京地铁涨价,北京地铁票价调整,北京地铁票价图,北京地铁换乘,北京地铁换乘查询,北京地铁换乘图\" /> <link rel=\"stylesheet\" type=\"text/css\" href=\"https://css.8684.cn/dt/base.min.css\"> <link rel=\"stylesheet\" type=\"text/css\" href=\"https://css.8684.cn/dt/page.min.css\"> <script type=\"text/javascript\">var m_url=\\'\\'; var ecity=\\'beijing\\';var str_l=\\'1号线 2号线外环 2号线内环 4号线大兴线 5号线 6号线 7号线 8号线南 8号线北 9号线 10号线内环 10号线外环 13号线 14号线东段 14号线（西段） 15号线 16号线 S1号线 S2号线 八通线 昌平线 大兴机场线 房山线 首都机场线 西郊线 燕房线 亦庄线\\';var home_url=\\'https://dt.8684.cn/bj\\';</script> <script type=\"text/javascript\" src=\"https://js.2011.8684.com/com/sys_ad_for_b.js\"></script> <script>Sys_ad.ldadarr([\\'313\\',\\'1132\\',\\'1636\\',\\'1720\\',\\'497\\',\\'272\\']);</script> <script type=\"text/javascript\"> var dtcity=\\'bj\\';</script> <base target=\"_self\"> </head> <body> <div id=\"auto973adid1720\"><script>Sys_ad.ldad(1720);</script> </div> <div id=\"auto973adid742\"><script>Sys_ad.ldad(1134);</script></div>   <link rel=\"stylesheet\" href=\"https://css.8684.cn/cn_head/cn_head_common.css\"> <div class=\"new-header\">  <div class=\"header-context\">  <a href=\"https://dt.8684.cn/\" title=\"地铁线路图\" ><img src=\"https://css.8684.cn/cn_head/images/nav_logo.png\" class=\"nav-logo\" alt=\"8684公交\"></a>  <div class=\"nav-links\">  <a href=\"https://www.8684.cn/\" target=\"_blank\">公交</a>  <a href=\"https://huoche.8684.cn/\" target=\"_blank\">火车</a>  <a href=\"https://map.8684.cn/\" target=\"_blank\">地图</a>  <a class=\"cur\" href=\"https://dt.8684.cn/\" target=\"_blank\">地铁</a>  <a href=\"https://jipiao.8684.cn/\" target=\"_blank\">机票</a>  <a href=\"https://post.8684.cn/\" target=\"_blank\">邮编</a>  <a href=\"https://www.12123.com/\" target=\"_blank\">违章查询</a>  <a href=\"https://tianqi.8684.cn/\" target=\"_blank\">天气</a>     <a href=\"https://www.8684.cn/tools\">实用工具</a>  </div>  </div> </div>   <script>var cnH_web_url=\\'https://www.8684.cn/api\\';</script>    <div class=\"iContainer clear\"> <div class=\"iCrumb\"> <a href=\"https://dt.8684.cn/\">8684地铁</a> &gt; <a href=\"/bj\">北京地铁查询</a> </div> <div class=\"iMain\"> <div class=\"iTopBox\" id=\"iTB\"> <div class=\"iTopBox__hd\"> <ul class=\"iTBTabs\" id=\"iTBTabs\" alt=\"0\"> <li class=\"iTBTabs__li\">换乘查询</li> <li class=\"iTBTabs__li\">线路查询</li> <li class=\"iTBTabs__li\">站点查询</li> </ul> <span class=\"iTBCityBtn\" r=\"25\" t=\"25\">切换城市 <b></b></span> <div class=\"busCityBox2\"> <div class=\"cityBoxClose\">×</div> <p>已开通:</p> <div class=\"ktCity1 kC\" style=\"display: block;\"></div> </div> </div> <div class=\"iTopBox__bd\"> <div class=\"iTBwraps clear\" id=\"iTBwraps\" >   <div class=\"iTBwraps__div\"> <form action=\"/so.php\" class=\"topboxbus\" id=\"ib1_bus_act\" onsubmit=\"return check_bus_p2p(this)\"> <input type=\"hidden\" name=\"dtcity\" value=\"bj\"> <input type=\"hidden\" name=\"k\" value=\"p2p\"> <span class=\"iTBInput\"> <input type=\"text\" autocomplete=\"off\" placeholder=\"请输入起点\" value=\"\" name=\"q\" class=\"qdmc_c\"> </span> <i class=\"iTBSwitch\"></i> <span class=\"iTBInput\"> <input type=\"text\" autocomplete=\"off\" placeholder=\"请输入终点\" value=\"\" name=\"q1\" class=\"zdmc_c\"> </span> <span class=\"iTBSelect\"> <span class=\"qdfl\">起点分类</span> <span class=\"qdmc\">起点名称</span> </span> <span class=\"iTBSelect\"> <span class=\"zdfl\">终点分类</span> <span class=\"zdmc\">终点名称</span> </span> <span class=\"iTBSubmit-wrap\" style=\"top: -20px\"> <button class=\"iTBSubmit\" type=\"submit\">查询</button> <div class=\"updateDataTime\">数据更新时间：<span>2019-09-26</span></div> </span> </form> </div>   <div class=\"iTBwraps__div\"> <form action=\"/so.php\" class=\"topboxbus\" id=\"ib2_bus_act\" onsubmit=\"return check_bus_pp(this)\"> <input type=\"hidden\" name=\"k\" value=\"pp\"> <input type=\"hidden\" name=\"dtcity\" value=\"bj\"> <span class=\"iTBInput iTBInput--le\"> <input type=\"text\" autocomplete=\"off\" placeholder=\\'线路名称，如\"B25\"\\' name=\"q\" value=\"\" class=\"xlmc\"> </span> <span class=\"iTBSelect iTBSelect--le\"> <span class=\"xlmc_2\">线路名称</span> </span> <button class=\"iTBSubmit\" type=\"submit\">查询</button> </form> </div>   <div class=\"iTBwraps__div\"> <form action=\"/so.php\" class=\"topboxbus\" id=\"ib3_bus_act\" onsubmit=\"return check_bus_p(this)\"> <input type=\"hidden\" name=\"k\" value=\"p\"> <input type=\"hidden\" name=\"dtcity\" value=\"bj\"> <span class=\"iTBInput iTBInput--l\"> <input type=\"text\" autocomplete=\"off\" placeholder=\\'站点名称，如\"岗顶\"\\' value=\"\" name=\"q\" class=\"zdcx\"> </span> <span class=\"iTBSelect iTBSelect--l\"> <span class=\"zdfl_2\">站点分类</span> <span class=\"zdmc_2\">站点名称</span> </span> <button class=\"iTBSubmit\" type=\"submit\">查询</button> </form> </div> </div> <div class=\"iTBDaBnr\"></div> </div> <ul class=\"citybusTipul\" style=\"display: none;\"></ul> <div id=\"auto973adid272\" class=\"da_730\"><script>Sys_ad.ldad(272);</script></div> </div> <div class=\"ib-box\"> <div class=\"ib-hd\">北京地铁线路</div> <ul class=\"ib-mn rl-mn ib-box\"> <li> <a style=\"background-color:#C73936;\" href=\"/bj_x_6c955cb5\" class=\"line-a line1\">1号线</a> <a href=\"/bj_x_6c955cb5\">北京地铁1号线</a> </li> <li> <a style=\"background-color:#005F95;\" href=\"/bj_x_a595cb4d\" class=\"line-a line2\">2号线外环</a> <a href=\"/bj_x_a595cb4d\">北京地铁2号线外环</a> </li> <li> <a style=\"background-color:#005F95;\" href=\"/bj_x_31c405f5\" class=\"line-a line2\">2号线内环</a> <a href=\"/bj_x_31c405f5\">北京地铁2号线内环</a> </li> <li> <a style=\"background-color:#008E9B;\" href=\"/bj_x_5f382e71\" class=\"line-a line4\">4号线大兴线</a> <a href=\"/bj_x_5f382e71\">北京地铁4号线大兴线</a> </li> <li> <a style=\"background-color:#AA1D7E;\" href=\"/bj_x_0ec59cb5\" class=\"line-a line5\">5号线</a> <a href=\"/bj_x_0ec59cb5\">北京地铁5号线</a> </li> <li> <a style=\"background-color:#D59826;\" href=\"/bj_x_365259be\" class=\"line-a line6\">6号线</a> <a href=\"/bj_x_365259be\">北京地铁6号线</a> </li> <li> <a style=\"background-color:#F9C588;\" href=\"/bj_x_0ca4b87b\" class=\"line-a line7\">7号线</a> <a href=\"/bj_x_0ca4b87b\">北京地铁7号线</a> </li> <li> <a style=\"background-color:#e9cc30;\" href=\"/bj_x_8ba30c83\" class=\"line-a line8\">8号线南</a> <a href=\"/bj_x_8ba30c83\">北京地铁8号线南</a> </li> <li> <a style=\"background-color:#009C6D;\" href=\"/bj_x_c21328b1\" class=\"line-a line8\">8号线北</a> <a href=\"/bj_x_c21328b1\">北京地铁8号线北</a> </li> <li> <a style=\"background-color:#8BC436;\" href=\"/bj_x_ed4ece60\" class=\"line-a line9\">9号线</a> <a href=\"/bj_x_ed4ece60\">北京地铁9号线</a> </li> <li> <a style=\"background-color:#009BBE;\" href=\"/bj_x_704f8ef7\" class=\"line-a line10\">10号线内环</a> <a href=\"/bj_x_704f8ef7\">北京地铁10号线内环</a> </li> <li> <a style=\"background-color:#009BBE;\" href=\"/bj_x_a913c30b\" class=\"line-a line10\">10号线外环</a> <a href=\"/bj_x_a913c30b\">北京地铁10号线外环</a> </li> <li> <a style=\"background-color:#FAE83A;\" href=\"/bj_x_5db74db0\" class=\"line-a line13\">13号线</a> <a href=\"/bj_x_5db74db0\">北京地铁13号线</a> </li> <li> <a style=\"background-color:#D7A7A2;\" href=\"/bj_x_86754760\" class=\"line-a line14\">14号线东段</a> <a href=\"/bj_x_86754760\">北京地铁14号线东段</a> </li> <li> <a style=\"background-color:#D7A7A2;\" href=\"/bj_x_abb7a660\" class=\"line-a line14\">14号线（西段）</a> <a href=\"/bj_x_abb7a660\">北京地铁14号线（西段）</a> </li> <li> <a style=\"background-color:#5D2B66;\" href=\"/bj_x_d673ca2a\" class=\"line-a line15\">15号线</a> <a href=\"/bj_x_d673ca2a\">北京地铁15号线</a> </li> <li> <a style=\"background-color:#609D46;\" href=\"/bj_x_e993b26a\" class=\"line-a line16\">16号线</a> <a href=\"/bj_x_e993b26a\">北京地铁16号线</a> </li> <li> <a style=\"background-color:#B35A21;\" href=\"/bj_x_ec274e85\" class=\"line-a line0\">S1号线</a> <a href=\"/bj_x_ec274e85\">北京地铁S1号线</a> </li> <li> <a style=\"background-color:#3D3D3D;\" href=\"/bj_x_56e9188b\" class=\"line-a line0\">S2号线</a> <a href=\"/bj_x_56e9188b\">北京地铁S2号线</a> </li> <li> <a style=\"background-color:#C73936;\" href=\"/bj_x_6d64a7d9\" class=\"line-a line0\">八通线</a> <a href=\"/bj_x_6d64a7d9\">北京地铁八通线</a> </li> <li> <a style=\"background-color:#E281B1;\" href=\"/bj_x_d98ba641\" class=\"line-a line0\">昌平线</a> <a href=\"/bj_x_d98ba641\">北京地铁昌平线</a> </li> <li> <a style=\"background-color:#0D0EAC;\" href=\"/bj_x_c37d9e20\" class=\"line-a line0\">大兴机场线</a> <a href=\"/bj_x_c37d9e20\">北京地铁大兴机场线</a> </li> <li> <a style=\"background-color:#E96030;\" href=\"/bj_x_6e837a33\" class=\"line-a line0\">房山线</a> <a href=\"/bj_x_6e837a33\">北京地铁房山线</a> </li> <li> <a style=\"background-color:#A29ABA;\" href=\"/bj_x_6b30d2e5\" class=\"line-a line0\">首都机场线</a> <a href=\"/bj_x_6b30d2e5\">北京地铁首都机场线</a> </li> <li> <a style=\"background-color:#E60519;\" href=\"/bj_x_c16eb708\" class=\"line-a line0\">西郊线</a> <a href=\"/bj_x_c16eb708\">北京地铁西郊线</a> </li> <li> <a style=\"background-color:#E46022;\" href=\"/bj_x_20841df2\" class=\"line-a line0\">燕房线</a> <a href=\"/bj_x_20841df2\">北京地铁燕房线</a> </li> <li> <a style=\"background-color:#EA0077;\" href=\"/bj_x_50ec3e4c\" class=\"line-a line0\">亦庄线</a> <a href=\"/bj_x_50ec3e4c\">北京地铁亦庄线</a> </li> <li> <a style=\"background-color:#e9cc30;\" href=\"/bj_x_b4a482e2\" class=\"line-a line3\">3号线</a> <font color=\"red\">未开通</font> <a href=\"/bj_x_b4a482e2\">北京地铁3号线</a> </li> <li> <a style=\"background-color:#e9cc30;\" href=\"/bj_x_d778ca87\" class=\"line-a line11\">11号线</a> <font color=\"red\">未开通</font> <a href=\"/bj_x_d778ca87\">北京地铁11号线</a> </li> <li> <a style=\"background-color:#e9cc30;\" href=\"/bj_x_02dc58e3\" class=\"line-a line12\">12号线</a> <font color=\"red\">未开通</font> <a href=\"/bj_x_02dc58e3\">北京地铁12号线</a> </li> </ul> </div> <div class=\"ib-box\"> <div class=\"ib-hd\">北京地铁线路图（点击图片查看大图）</div> <div class=\"ib-mn\"> <a href=\"http://img.8684.cn/intro/line/beijing.png\" title=\"点击查看大图\" target=\"_blank\" class=\"cm-map\"> <img src=\"http://img.8684.cn/intro/line/beijing.png\" alt=\"北京地铁线路图\"> </a> </div> </div> <div class=\"ib-box\"> <div class=\"ib-hd\">北京地铁线路列表</div> <ul class=\"ib-mn cm-mn\"> <li class=\"sLink\"> <a href=\"/bj_x_6c955cb5\" class=\"cm-tt\" >北京地铁1号线</a> <a href=\"/bj_z_cd509730\">古城</a> <a href=\"/bj_z_9bb70dd9\">八角游乐园</a> <a href=\"/bj_z_fa25e800\">八宝山</a> <a href=\"/bj_z_5ae32c5d\">玉泉路</a> <a href=\"/bj_z_d9b44e98\">五棵松</a> <a href=\"/bj_z_21a6d77c\">万寿路</a> <a href=\"/bj_z_05ac2d01\">公主坟</a> <a href=\"/bj_z_67c51f59\">军事博物馆</a> <a href=\"/bj_z_b6aa0770\">木樨地</a> <a href=\"/bj_z_e0124a33\">南礼士路</a> <a href=\"/bj_z_f55d3753\">复兴门</a> <a href=\"/bj_z_eea7eaff\">西单</a> <a href=\"/bj_z_06349d64\">天安门西</a> <a href=\"/bj_z_3773ee4f\">天安门东</a> <a href=\"/bj_z_196232d4\">王府井</a> <a href=\"/bj_z_b543b319\">东单</a> <a href=\"/bj_z_bfe94fef\">建国门</a> <a href=\"/bj_z_2a27f433\">永安里</a> <a href=\"/bj_z_31853c10\">国贸</a> <a href=\"/bj_z_55a1b239\">大望路</a> <a href=\"/bj_z_114a4e64\">四惠</a> <a href=\"/bj_z_e2ab626f\">四惠东</a> </li> <li class=\"sLink\"> <a href=\"/bj_x_a595cb4d\" class=\"cm-tt\" >北京地铁2号线外环</a> <a href=\"/bj_z_8cf0e1bc\">西直门</a> <a href=\"/bj_z_a48e2f9c\">车公庄</a> <a href=\"/bj_z_0afc7421\">阜成门</a> <a href=\"/bj_z_f55d3753\">复兴门</a> <a href=\"/bj_z_0c5c251f\">长椿街</a> <a href=\"/bj_z_14d227a6\">宣武门</a> <a href=\"/bj_z_980f6a4a\">和平门</a> <a href=\"/bj_z_8e2f809b\">前门</a> <a href=\"/bj_z_a034ca8f\">崇文门</a> <a href=\"/bj_z_21c34ff2\">北京站</a> <a href=\"/bj_z_bfe94fef\">建国门</a> <a href=\"/bj_z_af17007b\">朝阳门</a> <a href=\"/bj_z_16722ad2\">东四十条</a> <a href=\"/bj_z_5a7522a4\">东直门</a> <a href=\"/bj_z_8a7834bc\">雍和宫</a> <a href=\"/bj_z_9ae9bc07\">安定门</a> <a href=\"/bj_z_8a0cdcf0\">鼓楼大街</a> <a href=\"/bj_z_9e4376e8\">积水潭</a> </li> <li class=\"sLink\"> <a href=\"/bj_x_5f382e71\" class=\"cm-tt\" >北京地铁4号线大兴线</a> <a href=\"/bj_z_935820b2\">安河桥北</a> <a href=\"/bj_z_c107d7a7\">北宫门</a> <a href=\"/bj_z_6838c1b5\">西苑</a> <a href=\"/bj_z_39667a3f\">圆明园</a> <a href=\"/bj_z_d30e0c34\">北京大学东门</a> <a href=\"/bj_z_6741fb5b\">中关村</a> <a href=\"/bj_z_1a5be8b2\">海淀黄庄</a> <a href=\"/bj_z_4778de67\">人民大学</a> <a href=\"/bj_z_3cf9e6fd\">魏公村</a> <a href=\"/bj_z_7dda1200\">国家图书馆</a> <a href=\"/bj_z_0ad52610\">动物园</a> <a href=\"/bj_z_8cf0e1bc\">西直门</a> <a href=\"/bj_z_2fc76d0a\">新街口</a> <a href=\"/bj_z_b47b2a7b\">平安里</a> <a href=\"/bj_z_dc6ae4a2\">西四</a> <a href=\"/bj_z_b0f7de63\">灵境胡同</a> <a href=\"/bj_z_eea7eaff\">西单</a> <a href=\"/bj_z_14d227a6\">宣武门</a> <a href=\"/bj_z_6c7bc92a\">菜市口</a> <a href=\"/bj_z_d777ae23\">陶然亭</a> <a href=\"/bj_z_cfa59bb0\">北京南站</a> <a href=\"/bj_z_445ffded\">马家堡</a> <a href=\"/bj_z_fcc94869\">角门西</a> <a href=\"/bj_z_d4f15fe3\">公益西桥</a> <a href=\"/bj_z_1ad1a887\">新宫</a> <a href=\"/bj_z_18035041\">西红门</a> <a href=\"/bj_z_567bbc45\">高米店北</a> <a href=\"/bj_z_55fde460\">高米店南</a> <a href=\"/bj_z_f60dcf60\">枣园</a> <a href=\"/bj_z_ae77351d\">清源路</a> <a href=\"/bj_z_a82c6be1\">黄村西大街</a> <a href=\"/bj_z_e049218f\">黄村火车站</a> <a href=\"/bj_z_36cd18c6\">义和庄</a> <a href=\"/bj_z_2469f23f\">生物医药基地</a> <a href=\"/bj_z_f92ba04c\">天宫院</a> </li> <li class=\"sLink\"> <a href=\"/bj_x_0ec59cb5\" class=\"cm-tt\" >北京地铁5号线</a> <a href=\"/bj_z_b4eca4b1\">宋家庄</a> <a href=\"/bj_z_b8ce38d4\">刘家窑</a> <a href=\"/bj_z_9103267b\">蒲黄榆</a> <a href=\"/bj_z_7c28c6a8\">天坛东门</a> <a href=\"/bj_z_65ab2573\">磁器口</a> <a href=\"/bj_z_a034ca8f\">崇文门</a> <a href=\"/bj_z_b543b319\">东单</a> <a href=\"/bj_z_ffaf5398\">灯市口</a> <a href=\"/bj_z_4fbc262a\">东四</a> <a href=\"/bj_z_12be4125\">张自忠路</a> <a href=\"/bj_z_2b65f95d\">北新桥</a> <a href=\"/bj_z_8a7834bc\">雍和宫</a> <a href=\"/bj_z_e67ce808\">和平里北街</a> <a href=\"/bj_z_c3990a72\">和平西桥</a> <a href=\"/bj_z_c4f44971\">惠新西街南口</a> <a href=\"/bj_z_74c70843\">惠新西街北口</a> <a href=\"/bj_z_369312cd\">大屯路东</a> <a href=\"/bj_z_c0091513\">北苑路北</a> <a href=\"/bj_z_8d29ac52\">立水桥南</a> <a href=\"/bj_z_82748c85\">立水桥</a> <a href=\"/bj_z_85048ad6\">天通苑南</a> <a href=\"/bj_z_b90a8e94\">天通苑</a> <a href=\"/bj_z_fc660e39\">天通苑北</a> </li> <li class=\"sLink\"> <a href=\"/bj_x_365259be\" class=\"cm-tt\" >北京地铁6号线</a> <a href=\"/bj_z_0be19213\">金安桥</a> <a href=\"/bj_z_bd090d87\">杨庄</a> <a href=\"/bj_z_c45ceddb\">西黄村</a> <a href=\"/bj_z_2a442d6a\">廖公庄</a> <a href=\"/bj_z_7977a5e6\">田村</a> <a href=\"/bj_z_70f7b395\">海淀五路居</a> <a href=\"/bj_z_cee5ad9a\">慈寿寺</a> <a href=\"/bj_z_a3cf65e8\">花园桥</a> <a href=\"/bj_z_e7bfd610\">白石桥南</a> <a href=\"/bj_z_d65b65cb\">车公庄西</a> <a href=\"/bj_z_a48e2f9c\">车公庄</a> <a href=\"/bj_z_b47b2a7b\">平安里</a> <a href=\"/bj_z_b9122732\">北海北</a> <a href=\"/bj_z_6c10c4a4\">南锣鼓巷</a> <a href=\"/bj_z_4fbc262a\">东四</a> <a href=\"/bj_z_af17007b\">朝阳门</a> <a href=\"/bj_z_dddd369e\">东大桥</a> <a href=\"/bj_z_5bab823a\">呼家楼</a> <a href=\"/bj_z_ce36fd1d\">金台路</a> <a href=\"/bj_z_58c7b802\">十里堡</a> <a href=\"/bj_z_8c792b8a\">青年路</a> <a href=\"/bj_z_7b3fb56a\">褡裢坡</a> <a href=\"/bj_z_73a42a89\">黄渠</a> <a href=\"/bj_z_623dc05b\">常营</a> <a href=\"/bj_z_0dc6ec9e\">草房</a> <a href=\"/bj_z_0c2d5b8f\">物资学院路</a> <a href=\"/bj_z_25bcf25b\">通州北关</a> <a href=\"/bj_z_c1fedd5c\">北运河西</a> <a href=\"/bj_z_23066df9\">北运河东</a> <a href=\"/bj_z_80b3511c\">郝家府</a> <a href=\"/bj_z_552b872d\">东夏园</a> <a href=\"/bj_z_c0d4df6f\">潞城</a> </li> <li class=\"sLink\"> <a href=\"/bj_x_0ca4b87b\" class=\"cm-tt\" >北京地铁7号线</a> <a href=\"/bj_z_e951801c\">北京西站</a> <a href=\"/bj_z_7c21e0f3\">湾子</a> <a href=\"/bj_z_ad97f93e\">达官营</a> <a href=\"/bj_z_9e02fe90\">广安门内</a> <a href=\"/bj_z_6c7bc92a\">菜市口</a> <a href=\"/bj_z_40c57268\">虎坊桥</a> <a href=\"/bj_z_0cd8b44e\">珠市口</a> <a href=\"/bj_z_80a01136\">桥湾</a> <a href=\"/bj_z_65ab2573\">磁器口</a> <a href=\"/bj_z_06e36f30\">广渠门内</a> <a href=\"/bj_z_041c0818\">广渠门外</a> <a href=\"/bj_z_051dddb6\">九龙山</a> <a href=\"/bj_z_10f8e6a2\">大郊亭</a> <a href=\"/bj_z_0aca1d44\">百子湾</a> <a href=\"/bj_z_8b74c88b\">化工</a> <a href=\"/bj_z_3cc9b512\">南楼梓庄</a> <a href=\"/bj_z_6b4368ef\">欢乐谷景区</a> <a href=\"/bj_z_651e8bc2\">垡头</a> <a href=\"/bj_z_6f077960\">双合</a> <a href=\"/bj_z_3a61c811\">焦化厂</a> </li> <li class=\"sLink\"> <a href=\"/bj_x_8ba30c83\" class=\"cm-tt\" >北京地铁8号线南</a> <a href=\"/bj_z_46e9653e\">瀛海</a> <a href=\"/bj_z_9f9f27f4\">德茂</a> <a href=\"/bj_z_d0b9768f\">五福堂</a> <a href=\"/bj_z_d17655f3\">火箭万源</a> <a href=\"/bj_z_f7f80cc0\">东高地</a> <a href=\"/bj_z_1793dc86\">和义</a> <a href=\"/bj_z_13f12e29\">大红门南</a> <a href=\"/bj_z_9151c917\">大红门</a> <a href=\"/bj_z_a5144d0d\">海户屯</a> <a href=\"/bj_z_22e86e27\">木樨园</a> <a href=\"/bj_z_3ceb840a\">永定门外</a> <a href=\"/bj_z_a6094fc2\">天桥</a> <a href=\"/bj_z_0cd8b44e\">珠市口</a> </li> <li class=\"sLink\"> <a href=\"/bj_x_c21328b1\" class=\"cm-tt\" >北京地铁8号线北</a> <a href=\"/bj_z_1020899a\">朱辛庄</a> <a href=\"/bj_z_575b4f1c\">育知路</a> <a href=\"/bj_z_9d8e4980\">平西府</a> <a href=\"/bj_z_a628f24a\">回龙观东大街</a> <a href=\"/bj_z_2bc21786\">霍营</a> <a href=\"/bj_z_a78a847e\">育新</a> <a href=\"/bj_z_5e8db998\">西小口</a> <a href=\"/bj_z_3fa656f4\">永泰庄</a> <a href=\"/bj_z_e68fb525\">林萃桥</a> <a href=\"/bj_z_f36b4f57\">森林公园南门</a> <a href=\"/bj_z_625a625c\">奥林匹克公园</a> <a href=\"/bj_z_ef09dcb4\">奥体中心</a> <a href=\"/bj_z_78371a70\">北土城</a> <a href=\"/bj_z_ad799c71\">安华桥</a> <a href=\"/bj_z_d0ffc111\">安德里北街</a> <a href=\"/bj_z_8a0cdcf0\">鼓楼大街</a> <a href=\"/bj_z_07a32fcb\">什刹海</a> <a href=\"/bj_z_6c10c4a4\">南锣鼓巷</a> <a href=\"/bj_z_bacb29ec\">中国美术馆</a> </li> <li class=\"sLink\"> <a href=\"/bj_x_ed4ece60\" class=\"cm-tt\" >北京地铁9号线</a> <a href=\"/bj_z_64196a5e\">郭公庄</a> <a href=\"/bj_z_e162bfce\">丰台科技园</a> <a href=\"/bj_z_fb53f5d5\">科怡路</a> <a href=\"/bj_z_136ee1be\">丰台南路</a> <a href=\"/bj_z_d55f0716\">丰台东大街</a> <a href=\"/bj_z_ea59ffa3\">七里庄</a> <a href=\"/bj_z_ba0c85ef\">六里桥</a> <a href=\"/bj_z_90808802\">六里桥东</a> <a href=\"/bj_z_e951801c\">北京西站</a> <a href=\"/bj_z_67c51f59\">军事博物馆</a> <a href=\"/bj_z_7306cde9\">白堆子</a> <a href=\"/bj_z_e7bfd610\">白石桥南</a> <a href=\"/bj_z_7dda1200\">国家图书馆</a> </li> <li class=\"sLink\"> <a href=\"/bj_x_a913c30b\" class=\"cm-tt\" >北京地铁10号线外环</a> <a href=\"/bj_z_aa73f018\">巴沟</a> <a href=\"/bj_z_061f29b0\">火器营</a> <a href=\"/bj_z_520c36d4\">长春桥</a> <a href=\"/bj_z_f54b2cc6\">车道沟</a> <a href=\"/bj_z_cee5ad9a\">慈寿寺</a> <a href=\"/bj_z_b5595220\">西钓鱼台</a> <a href=\"/bj_z_05ac2d01\">公主坟</a> <a href=\"/bj_z_195b1e5f\">莲花桥</a> <a href=\"/bj_z_ba0c85ef\">六里桥</a> <a href=\"/bj_z_312ba7bc\">西局</a> <a href=\"/bj_z_be60d427\">泥洼</a> <a href=\"/bj_z_2ece8f89\">丰台</a> <a href=\"/bj_z_4d659282\">首经贸</a> <a href=\"/bj_z_771a1694\">纪家庙</a> <a href=\"/bj_z_e7079a81\">草桥</a> <a href=\"/bj_z_fcc94869\">角门西</a> <a href=\"/bj_z_afeecca2\">角门东</a> <a href=\"/bj_z_9151c917\">大红门</a> <a href=\"/bj_z_9ab387f4\">石榴庄</a> <a href=\"/bj_z_b4eca4b1\">宋家庄</a> <a href=\"/bj_z_01831679\">成寿寺</a> <a href=\"/bj_z_d0987ed1\">分钟寺</a> <a href=\"/bj_z_433d8d07\">十里河</a> <a href=\"/bj_z_fab409e5\">潘家园</a> <a href=\"/bj_z_7cae21eb\">劲松</a> <a href=\"/bj_z_659f69ed\">双井</a> <a href=\"/bj_z_31853c10\">国贸</a> <a href=\"/bj_z_4fb11004\">金台夕照</a> <a href=\"/bj_z_5bab823a\">呼家楼</a> <a href=\"/bj_z_d6a2774d\">团结湖</a> <a href=\"/bj_z_f160b3d2\">农业展览馆</a> <a href=\"/bj_z_dcdfa345\">亮马桥</a> <a href=\"/bj_z_f4f4d15b\">三元桥</a> <a href=\"/bj_z_dc90412c\">太阳宫</a> <a href=\"/bj_z_f14ee75f\">芍药居</a> <a href=\"/bj_z_c4f44971\">惠新西街南口</a> <a href=\"/bj_z_c3852ad6\">安贞门</a> <a href=\"/bj_z_78371a70\">北土城</a> <a href=\"/bj_z_10967c12\">健德门</a> <a href=\"/bj_z_cac81bdb\">牡丹园</a> <a href=\"/bj_z_33dbe42c\">西土城</a> <a href=\"/bj_z_a8e77913\">知春路</a> <a href=\"/bj_z_be018e00\">知春里</a> <a href=\"/bj_z_1a5be8b2\">海淀黄庄</a> <a href=\"/bj_z_f0872d41\">苏州街</a> </li> <li class=\"sLink\"> <a href=\"/bj_x_5db74db0\" class=\"cm-tt\" >北京地铁13号线</a> <a href=\"/bj_z_8cf0e1bc\">西直门</a> <a href=\"/bj_z_eb328b35\">大钟寺</a> <a href=\"/bj_z_a8e77913\">知春路</a> <a href=\"/bj_z_9a6a54b4\">五道口</a> <a href=\"/bj_z_b87ac99b\">上地</a> <a href=\"/bj_z_ab8a0aef\">西二旗</a> <a href=\"/bj_z_2876f444\">龙泽</a> <a href=\"/bj_z_3ce6866e\">回龙观</a> <a href=\"/bj_z_2bc21786\">霍营</a> <a href=\"/bj_z_82748c85\">立水桥</a> <a href=\"/bj_z_260f60bb\">北苑</a> <a href=\"/bj_z_b696c2fd\">望京西</a> <a href=\"/bj_z_f14ee75f\">芍药居</a> <a href=\"/bj_z_bf6776ac\">光熙门</a> <a href=\"/bj_z_5d73e7e1\">柳芳</a> <a href=\"/bj_z_5a7522a4\">东直门</a> </li> <li class=\"sLink\"> <a href=\"/bj_x_86754760\" class=\"cm-tt\" >北京地铁14号线东段</a> <a href=\"/bj_z_cfa59bb0\">北京南站</a> <a href=\"/bj_z_3ceb840a\">永定门外</a> <a href=\"/bj_z_659777b6\">景泰</a> <a href=\"/bj_z_9103267b\">蒲黄榆</a> <a href=\"/bj_z_d4359982\">方庄</a> <a href=\"/bj_z_433d8d07\">十里河</a> <a href=\"/bj_z_c56ad135\">北工大西门</a> <a href=\"/bj_z_051dddb6\">九龙山</a> <a href=\"/bj_z_55a1b239\">大望路</a> <a href=\"/bj_z_ce36fd1d\">金台路</a> <a href=\"/bj_z_67f17405\">朝阳公园</a> <a href=\"/bj_z_ca6635e7\">枣营</a> <a href=\"/bj_z_2423d034\">东风北桥</a> <a href=\"/bj_z_fbf6ef6a\">将台</a> <a href=\"/bj_z_c38735ed\">望京南</a> <a href=\"/bj_z_d541ebd4\">阜通</a> <a href=\"/bj_z_3766ab2e\">望京</a> <a href=\"/bj_z_cc5ffdaf\">东湖渠</a> <a href=\"/bj_z_6ad1f067\">来广营</a> <a href=\"/bj_z_3eeab033\">善各庄</a> </li> <li class=\"sLink\"> <a href=\"/bj_x_abb7a660\" class=\"cm-tt\" >北京地铁14号线（西段）</a> <a href=\"/bj_z_415096fb\">张郭庄</a> <a href=\"/bj_z_9c265ed8\">园博园</a> <a href=\"/bj_z_f0c5eb09\">大瓦窑</a> <a href=\"/bj_z_6d8cd19b\">郭庄子</a> <a href=\"/bj_z_4b47b199\">大井</a> <a href=\"/bj_z_ea59ffa3\">七里庄</a> <a href=\"/bj_z_312ba7bc\">西局</a> </li> <li class=\"sLink\"> <a href=\"/bj_x_d673ca2a\" class=\"cm-tt\" >北京地铁15号线</a> <a href=\"/bj_z_03e434b5\">俸伯</a> <a href=\"/bj_z_cb663a8e\">顺义</a> <a href=\"/bj_z_7a46f91b\">石门</a> <a href=\"/bj_z_bc8f1f2a\">南法信</a> <a href=\"/bj_z_dbce0346\">后沙峪</a> <a href=\"/bj_z_0a9d27bc\">花梨坎</a> <a href=\"/bj_z_dc5d4941\">国展</a> <a href=\"/bj_z_e57cffa8\">孙河</a> <a href=\"/bj_z_2124203d\">马泉营</a> <a href=\"/bj_z_28e80f08\">崔各庄</a> <a href=\"/bj_z_455ebb1a\">望京东</a> <a href=\"/bj_z_3766ab2e\">望京</a> <a href=\"/bj_z_b696c2fd\">望京西</a> <a href=\"/bj_z_3b336745\">关庄</a> <a href=\"/bj_z_369312cd\">大屯路东</a> <a href=\"/bj_z_46f3d6db\">安立路</a> <a href=\"/bj_z_625a625c\">奥林匹克公园</a> <a href=\"/bj_z_40db2123\">北沙滩</a> <a href=\"/bj_z_894f481c\">六道口</a> <a href=\"/bj_z_f4dfb46a\">清华东路西口</a> </li> <li class=\"sLink\"> <a href=\"/bj_x_e993b26a\" class=\"cm-tt\" >北京地铁16号线</a> <a href=\"/bj_z_6838c1b5\">西苑</a> <a href=\"/bj_z_19bf24b8\">农大南路</a> <a href=\"/bj_z_320a12e2\">马连洼</a> <a href=\"/bj_z_72a4eae7\">西北旺</a> <a href=\"/bj_z_207937c3\">永丰南</a> <a href=\"/bj_z_1fd76e56\">永丰</a> <a href=\"/bj_z_93b4ae78\">屯佃</a> <a href=\"/bj_z_1d3abe04\">稻香湖路</a> <a href=\"/bj_z_5d385382\">温阳路</a> <a href=\"/bj_z_2371baa9\">北安河</a> </li> <li class=\"sLink\"> <a href=\"/bj_x_ec274e85\" class=\"cm-tt\" >北京地铁S1号线</a> <a href=\"/bj_z_0be19213\">金安桥</a> <a href=\"/bj_z_7220b27d\">四道桥</a> <a href=\"/bj_z_f40f7019\">桥户营</a> <a href=\"/bj_z_cc27ef15\">上岸</a> <a href=\"/bj_z_c045ec99\">栗园庄</a> <a href=\"/bj_z_ba444cfc\">小园</a> <a href=\"/bj_z_d8a72ee4\">石厂</a> </li> <li class=\"sLink\"> <a href=\"/bj_x_56e9188b\" class=\"cm-tt\" >北京地铁S2号线</a> <a href=\"/bj_z_3e8a2d94\">延庆</a> <a href=\"/bj_z_64ebc118\">八达岭</a> <a href=\"/bj_z_556a26fc\">南口</a> <a href=\"/bj_z_2bc21786\">霍营</a> </li> <li class=\"sLink\"> <a href=\"/bj_x_6d64a7d9\" class=\"cm-tt\" >北京地铁八通线</a> <a href=\"/bj_z_114a4e64\">四惠</a> <a href=\"/bj_z_e2ab626f\">四惠东</a> <a href=\"/bj_z_8262615d\">高碑店</a> <a href=\"/bj_z_d5c354b9\">传媒大学</a> <a href=\"/bj_z_db80c8f0\">双桥</a> <a href=\"/bj_z_200e6504\">管庄</a> <a href=\"/bj_z_4262e203\">八里桥</a> <a href=\"/bj_z_57cb278e\">通州北苑</a> <a href=\"/bj_z_ebc343f3\">果园</a> <a href=\"/bj_z_c64f7ce3\">九棵树</a> <a href=\"/bj_z_7f2ece75\">梨园</a> <a href=\"/bj_z_a5ed17ed\">临河里</a> <a href=\"/bj_z_9e628010\">土桥</a> </li> <li class=\"sLink\"> <a href=\"/bj_x_d98ba641\" class=\"cm-tt\" >北京地铁昌平线</a> <a href=\"/bj_z_b1f724f8\">昌平西山口</a> <a href=\"/bj_z_da0e6485\">十三陵景区</a> <a href=\"/bj_z_00e00c05\">昌平</a> <a href=\"/bj_z_85ce5a3f\">昌平东关</a> <a href=\"/bj_z_1e9f1d47\">北邵洼</a> <a href=\"/bj_z_17fd8440\">南邵</a> <a href=\"/bj_z_2ea59ece\">沙河高教园</a> <a href=\"/bj_z_c04895cd\">沙河</a> <a href=\"/bj_z_c55ebafc\">巩华城</a> <a href=\"/bj_z_1020899a\">朱辛庄</a> <a href=\"/bj_z_e6f5f785\">生命科学园</a> <a href=\"/bj_z_ab8a0aef\">西二旗</a> </li> <li class=\"sLink\"> <a href=\"/bj_x_c37d9e20\" class=\"cm-tt\" >北京地铁大兴机场线</a> <a href=\"/bj_z_e7079a81\">草桥</a> <a href=\"/bj_z_092be78c\">大兴新城</a> <a href=\"/bj_z_17ad648f\">大兴机场</a> </li> <li class=\"sLink\"> <a href=\"/bj_x_6e837a33\" class=\"cm-tt\" >北京地铁房山线</a> <a href=\"/bj_z_501b732c\">阎村东</a> <a href=\"/bj_z_56a47b99\">苏庄</a> <a href=\"/bj_z_d0393081\">良乡南关</a> <a href=\"/bj_z_8a5805e0\">良乡大学城西</a> <a href=\"/bj_z_1a370803\">良乡大学城</a> <a href=\"/bj_z_589a6745\">良乡大学城北</a> <a href=\"/bj_z_de9efae8\">广阳城</a> <a href=\"/bj_z_8f46f4f7\">篱笆房</a> <a href=\"/bj_z_a0f18d7d\">长阳</a> <a href=\"/bj_z_c84b9aa3\">稻田</a> <a href=\"/bj_z_11788d43\">大葆台</a> <a href=\"/bj_z_64196a5e\">郭公庄</a> </li> <li class=\"sLink\"> <a href=\"/bj_x_6b30d2e5\" class=\"cm-tt\" >北京地铁首都机场线</a> <a href=\"/bj_z_5a7522a4\">东直门</a> <a href=\"/bj_z_f4f4d15b\">三元桥</a> <a href=\"/bj_z_7e69a0ff\">T3航站楼</a> <a href=\"/bj_z_108eae85\">T2航站楼</a> </li> <li class=\"sLink\"> <a href=\"/bj_x_c16eb708\" class=\"cm-tt\" >北京地铁西郊线</a> <a href=\"/bj_z_ddb6cc8a\">香山</a> <a href=\"/bj_z_3d339733\">植物园</a> <a href=\"/bj_z_13467693\">万安</a> <a href=\"/bj_z_5df99d7e\">茶棚</a> <a href=\"/bj_z_a1932458\">颐和园西门</a> <a href=\"/bj_z_aa73f018\">巴沟</a> </li> <li class=\"sLink\"> <a href=\"/bj_x_20841df2\" class=\"cm-tt\" >北京地铁燕房线</a> <a href=\"/bj_z_501b732c\">阎村东</a> <a href=\"/bj_z_cfa85639\">紫草坞</a> <a href=\"/bj_z_98fec335\">阎村</a> <a href=\"/bj_z_ad48ae70\">星城</a> <a href=\"/bj_z_4ffd6cd2\">大石河东</a> <a href=\"/bj_z_db092791\">马各庄</a> <a href=\"/bj_z_53cf84d3\">饶乐府</a> <a href=\"/bj_z_e5caabb5\">房山城关</a> <a href=\"/bj_z_02a2fcda\">燕山</a> </li> <li class=\"sLink\"> <a href=\"/bj_x_50ec3e4c\" class=\"cm-tt\" >北京地铁亦庄线</a> <a href=\"/bj_z_b4eca4b1\">宋家庄</a> <a href=\"/bj_z_ec9518be\">肖村</a> <a href=\"/bj_z_9d9bc453\">小红门</a> <a href=\"/bj_z_9907dbc7\">旧宫</a> <a href=\"/bj_z_f72ebffd\">亦庄桥</a> <a href=\"/bj_z_0384b132\">亦庄文化园</a> <a href=\"/bj_z_95bd686e\">万源街</a> <a href=\"/bj_z_8820e755\">荣京东街</a> <a href=\"/bj_z_a107333b\">荣昌东街</a> <a href=\"/bj_z_ddee63e0\">同济南路</a> <a href=\"/bj_z_09dd6d14\">经海路</a> <a href=\"/bj_z_c687c8ec\">次渠南</a> <a href=\"/bj_z_cad5dcc5\">次渠</a> <a href=\"/bj_z_8d09cb87\">亦庄火车站</a> </li> <li class=\"sLink\"> <a href=\"/bj_x_b4a482e2\" class=\"cm-tt\" >北京地铁3号线<br><font color=\\'red\\'>(未开通)</font></a> <a href=\"/bj_z_7977a5e6\">田村</a> <a href=\"/bj_z_fedf3cb5\">永定路</a> <a href=\"/bj_z_24f6f9e4\">定慧桥</a> <a href=\"/bj_z_b5595220\">西钓鱼台</a> <a href=\"/bj_z_3f4de8ac\">航天桥</a> <a href=\"/bj_z_7306cde9\">白堆子</a> <a href=\"/bj_z_719e4887\">展览路</a> <a href=\"/bj_z_0afc7421\">阜成门</a> <a href=\"/bj_z_dc6ae4a2\">西四</a> <a href=\"/bj_z_7b5d3170\">北海公园</a> <a href=\"/bj_z_bacb29ec\">中国美术馆</a> <a href=\"/bj_z_4fbc262a\">东四</a> <a href=\"/bj_z_16722ad2\">东四十条</a> <a href=\"/bj_z_33b25c10\">工人体育场</a> <a href=\"/bj_z_d6a2774d\">团结湖</a> <a href=\"/bj_z_67f17405\">朝阳公园</a> <a href=\"/bj_z_6f26ed97\">石佛营</a> <a href=\"/bj_z_052af773\">姚家园</a> <a href=\"/bj_z_ed76b807\">平房</a> <a href=\"/bj_z_785e2d98\">高杨树</a> <a href=\"/bj_z_bceab1bf\">东坝</a> </li> <li class=\"sLink\"> <a href=\"/bj_x_d778ca87\" class=\"cm-tt\" >北京地铁11号线<br><font color=\\'red\\'>(未开通)</font></a> <a href=\"/bj_z_0be19213\">金安桥</a> <a href=\"/bj_z_8d8f443b\">衙门口</a> <a href=\"/bj_z_005c21a6\">西三环</a> <a href=\"/bj_z_ba0c85ef\">六里桥</a> <a href=\"/bj_z_d777ae23\">陶然亭</a> <a href=\"/bj_z_6871a2fa\">天坛西门</a> <a href=\"/bj_z_7c28c6a8\">天坛东门</a> <a href=\"/bj_z_7cae21eb\">劲松</a> <a href=\"/bj_z_a43a8b87\">平乐园</a> <a href=\"/bj_z_5fa0ce9b\">南花园</a> </li> <li class=\"sLink\"> <a href=\"/bj_x_02dc58e3\" class=\"cm-tt\" >北京地铁12号线<br><font color=\\'red\\'>(未开通)</font></a> <a href=\"/bj_z_7977a5e6\">田村</a> <a href=\"/bj_z_2a3b8531\">通汇路</a> <a href=\"/bj_z_fd44f1cd\">四季青</a> <a href=\"/bj_z_a2b51721\">板井</a> <a href=\"/bj_z_520c36d4\">长春桥</a> <a href=\"/bj_z_f959d292\">苏州桥</a> <a href=\"/bj_z_4778de67\">人民大学</a> <a href=\"/bj_z_88e06acb\">双榆树</a> <a href=\"/bj_z_eb328b35\">大钟寺</a> <a href=\"/bj_z_54ed51c1\">蓟门桥</a> <a href=\"/bj_z_370276e0\">北太平庄</a> <a href=\"/bj_z_c015c380\">马甸</a> <a href=\"/bj_z_ad799c71\">安华桥</a> <a href=\"/bj_z_181e3101\">安贞桥</a> <a href=\"/bj_z_c3990a72\">和平西桥</a> <a href=\"/bj_z_bf6776ac\">光熙门</a> <a href=\"/bj_z_798324c3\">静安庄</a> <a href=\"/bj_z_f4f4d15b\">三元桥</a> <a href=\"/bj_z_ca843f0d\">芳园里</a> <a href=\"/bj_z_6bd928a6\">高家园</a> <a href=\"/bj_z_4a273687\">酒仙桥电子城</a> <a href=\"/bj_z_0702d072\">北岗子</a> <a href=\"/bj_z_0790503f\">东坝西门</a> </li> </ul> </div> </div> <div class=\"iSidebar\"> <div class=\"ib-box\" style=\"border: 1px solid #e6e6e6;text-align: center;\"> <img src=\"https://css.8684.cn/head/dttwm.png\" style=\"width: 165px; \"> <p class=\"twm_about\" style=\"text-align: center;color: red;padding-bottom: 5px; \">下载地铁APP，快速查询路线</p> </div> <div class=\"ib-box\" id=\"bdflot\"> <div class=\"ib-hd\">合作商家</div> <div class=\"ib-mn\"> <div id=\"auto973adid497\"><script>Sys_ad.ldad(497);</script></div> </div> </div> </div> </div> <div class=\"sw-toolbar\"> <a href=\"/bj\" title=\"地铁线路图\" class=\"sw-line\">地铁线路图</a> <a href=\"/bj_list_time\" title=\"运营时刻表\" class=\"sw-time\">运营时刻表</a> <a href=\"/bj_intro\" title=\"地铁规划\" class=\"sw-plan\">地铁规划</a> <img src=\"https://css.8684.cn/dt/images/metromerweima.jpg\"> </div>    <div class=\"footer\"> <div id=\"ad1132\"><script>Sys_ad.ldad(\"1132\",\"ad1132\",\"ad_1132\");</script></div> <p class=\"flink\"><a target=\"_blank\" href=\"https://show.daiwoqu.com/show_beijing\">北京演出</a><a target=\"_blank\" href=\"https://tianqi.8684.cn/beijing_beijing\">北京天气预报</a><a target=\"_blank\" href=\"http://beijing.cncn.com/\">北京旅游</a><a target=\"_blank\" href=\"http://bj.tuniu.com/\">北京旅游</a><a target=\"_blank\" href=\"http://beijing.kuyiso.com\">北京分类信息</a><a target=\"_blank\" href=\"http://bj.houxue.com/\">北京培训学校</a><a target=\"_blank\" href=\"http://mil.chinaiiss.com/\">军事新闻</a><a target=\"_blank\" href=\"http://www.guolv.com/\">北京神舟国旅</a><a target=\"_blank\" href=\"http://wireless.iresearch.cn/\">移动互联网</a><a target=\"_blank\" href=\"http://bj.offcn.com/\">北京人事考试网</a><a target=\"_blank\" href=\"https://www.8684.com/zt_6\">麦当劳网上订餐</a><a target=\"_blank\" href=\"https://huoche.8684.cn/5804\">火车票改签要手续费吗</a><a target=\"_blank\" href=\"https://tianjin.8684.cn/\">天津公交线路查询</a><a target=\"_blank\" href=\"https://show.daiwoqu.com/zt_880\">草莓音乐节2019</a><a target=\"_blank\" href=\"http://www.weixinyidu.com/hot\">今日新闻头条</a><a target=\"_blank\" href=\"http://www.weixinyidu.com/xcx\">微信小程序</a><a target=\"_blank\" href=\"https://www.chaonei.com/hospital_10001\">北京大学第三医院</a></p> <p> <a href=\"https://www.8684.cn/app\">手机客户端</a> 商务合作(其他勿扰)：QQ1653544896 <br> <a href=\"https://dt.8684.cn/\">地铁线路查询</a><a href=\"https://dt.8684.cn/bj\">北京地铁线路查询</a><a href=\"https://www.8684.cn/privacy\">免责声明</a><a href=\"http://www.tianqu.com.cn/zhaopin\">招聘信息</a> <br /> <a href=\"http://www.tianqu.com.cn/\">广州天趣网络科技有限公司</a>版权所有<a href=\"http://www.miibeian.gov.cn/\">粤ICP备11063314号</a> </p> </div> <script type=\"text/javascript\" src=\"https://js.8684.cn/dt/jq.min.js\"></script> <script src=\"https://2012.8684.com/tj.js\"></script> <script type=\"text/javascript\" src=\"https://js.8684.cn/dt/base.min.js\"></script> <script type=\"text/javascript\" src=\"https://js.8684.cn/dt/inner.min.js\"></script> <div id=\"ad313\"><script>Sys_ad.ldad(313);</script><span class=\"close_cz\" id=\"close_cz\" onclick=\"$(this).parent(\\'div\\').hide();\"></span></div> <!--<script src=\"https://www.8684.cn/api/cnHeader_new_js.php?isindex=0\" type=\"text/javascript\"></script>--> <script src=\"https://www.8684.cn/api/topbanner.php\" type=\"text/javascript\"></script> <script type=\"text/javascript\" src=\"https://js.8684.cn/tj/dttj.js\"></script> <script src=\"https://cpendant.8684.com/activity/shuang11/popad_2018.js\"></script> </body> </html> <!--2019-10-23 15:49:35-->'"
      ]
     },
     "execution_count": 6,
     "metadata": {},
     "output_type": "execute_result"
    }
   ],
   "source": [
    "content"
   ]
  },
  {
   "cell_type": "code",
   "execution_count": 7,
   "metadata": {},
   "outputs": [],
   "source": [
    "tree = etree.HTML(content)"
   ]
  },
  {
   "cell_type": "code",
   "execution_count": 8,
   "metadata": {},
   "outputs": [],
   "source": [
    "line_list = tree.xpath('//ul[@class=\"ib-mn cm-mn\"]')[0]"
   ]
  },
  {
   "cell_type": "code",
   "execution_count": 9,
   "metadata": {},
   "outputs": [],
   "source": [
    "line_dict = {}\n",
    "for line in line_list:\n",
    "    line = line.xpath('.//text()')\n",
    "    line = [el.strip() for el in line if el.strip()]\n",
    "    if line[1] != '(未开通)':\n",
    "        line_dict[line[0]] = line[1:]"
   ]
  },
  {
   "cell_type": "code",
   "execution_count": 10,
   "metadata": {},
   "outputs": [
    {
     "data": {
      "text/plain": [
       "{'北京地铁1号线': ['古城',\n",
       "  '八角游乐园',\n",
       "  '八宝山',\n",
       "  '玉泉路',\n",
       "  '五棵松',\n",
       "  '万寿路',\n",
       "  '公主坟',\n",
       "  '军事博物馆',\n",
       "  '木樨地',\n",
       "  '南礼士路',\n",
       "  '复兴门',\n",
       "  '西单',\n",
       "  '天安门西',\n",
       "  '天安门东',\n",
       "  '王府井',\n",
       "  '东单',\n",
       "  '建国门',\n",
       "  '永安里',\n",
       "  '国贸',\n",
       "  '大望路',\n",
       "  '四惠',\n",
       "  '四惠东'],\n",
       " '北京地铁2号线外环': ['西直门',\n",
       "  '车公庄',\n",
       "  '阜成门',\n",
       "  '复兴门',\n",
       "  '长椿街',\n",
       "  '宣武门',\n",
       "  '和平门',\n",
       "  '前门',\n",
       "  '崇文门',\n",
       "  '北京站',\n",
       "  '建国门',\n",
       "  '朝阳门',\n",
       "  '东四十条',\n",
       "  '东直门',\n",
       "  '雍和宫',\n",
       "  '安定门',\n",
       "  '鼓楼大街',\n",
       "  '积水潭'],\n",
       " '北京地铁4号线大兴线': ['安河桥北',\n",
       "  '北宫门',\n",
       "  '西苑',\n",
       "  '圆明园',\n",
       "  '北京大学东门',\n",
       "  '中关村',\n",
       "  '海淀黄庄',\n",
       "  '人民大学',\n",
       "  '魏公村',\n",
       "  '国家图书馆',\n",
       "  '动物园',\n",
       "  '西直门',\n",
       "  '新街口',\n",
       "  '平安里',\n",
       "  '西四',\n",
       "  '灵境胡同',\n",
       "  '西单',\n",
       "  '宣武门',\n",
       "  '菜市口',\n",
       "  '陶然亭',\n",
       "  '北京南站',\n",
       "  '马家堡',\n",
       "  '角门西',\n",
       "  '公益西桥',\n",
       "  '新宫',\n",
       "  '西红门',\n",
       "  '高米店北',\n",
       "  '高米店南',\n",
       "  '枣园',\n",
       "  '清源路',\n",
       "  '黄村西大街',\n",
       "  '黄村火车站',\n",
       "  '义和庄',\n",
       "  '生物医药基地',\n",
       "  '天宫院'],\n",
       " '北京地铁5号线': ['宋家庄',\n",
       "  '刘家窑',\n",
       "  '蒲黄榆',\n",
       "  '天坛东门',\n",
       "  '磁器口',\n",
       "  '崇文门',\n",
       "  '东单',\n",
       "  '灯市口',\n",
       "  '东四',\n",
       "  '张自忠路',\n",
       "  '北新桥',\n",
       "  '雍和宫',\n",
       "  '和平里北街',\n",
       "  '和平西桥',\n",
       "  '惠新西街南口',\n",
       "  '惠新西街北口',\n",
       "  '大屯路东',\n",
       "  '北苑路北',\n",
       "  '立水桥南',\n",
       "  '立水桥',\n",
       "  '天通苑南',\n",
       "  '天通苑',\n",
       "  '天通苑北'],\n",
       " '北京地铁6号线': ['金安桥',\n",
       "  '杨庄',\n",
       "  '西黄村',\n",
       "  '廖公庄',\n",
       "  '田村',\n",
       "  '海淀五路居',\n",
       "  '慈寿寺',\n",
       "  '花园桥',\n",
       "  '白石桥南',\n",
       "  '车公庄西',\n",
       "  '车公庄',\n",
       "  '平安里',\n",
       "  '北海北',\n",
       "  '南锣鼓巷',\n",
       "  '东四',\n",
       "  '朝阳门',\n",
       "  '东大桥',\n",
       "  '呼家楼',\n",
       "  '金台路',\n",
       "  '十里堡',\n",
       "  '青年路',\n",
       "  '褡裢坡',\n",
       "  '黄渠',\n",
       "  '常营',\n",
       "  '草房',\n",
       "  '物资学院路',\n",
       "  '通州北关',\n",
       "  '北运河西',\n",
       "  '北运河东',\n",
       "  '郝家府',\n",
       "  '东夏园',\n",
       "  '潞城'],\n",
       " '北京地铁7号线': ['北京西站',\n",
       "  '湾子',\n",
       "  '达官营',\n",
       "  '广安门内',\n",
       "  '菜市口',\n",
       "  '虎坊桥',\n",
       "  '珠市口',\n",
       "  '桥湾',\n",
       "  '磁器口',\n",
       "  '广渠门内',\n",
       "  '广渠门外',\n",
       "  '九龙山',\n",
       "  '大郊亭',\n",
       "  '百子湾',\n",
       "  '化工',\n",
       "  '南楼梓庄',\n",
       "  '欢乐谷景区',\n",
       "  '垡头',\n",
       "  '双合',\n",
       "  '焦化厂'],\n",
       " '北京地铁8号线南': ['瀛海',\n",
       "  '德茂',\n",
       "  '五福堂',\n",
       "  '火箭万源',\n",
       "  '东高地',\n",
       "  '和义',\n",
       "  '大红门南',\n",
       "  '大红门',\n",
       "  '海户屯',\n",
       "  '木樨园',\n",
       "  '永定门外',\n",
       "  '天桥',\n",
       "  '珠市口'],\n",
       " '北京地铁8号线北': ['朱辛庄',\n",
       "  '育知路',\n",
       "  '平西府',\n",
       "  '回龙观东大街',\n",
       "  '霍营',\n",
       "  '育新',\n",
       "  '西小口',\n",
       "  '永泰庄',\n",
       "  '林萃桥',\n",
       "  '森林公园南门',\n",
       "  '奥林匹克公园',\n",
       "  '奥体中心',\n",
       "  '北土城',\n",
       "  '安华桥',\n",
       "  '安德里北街',\n",
       "  '鼓楼大街',\n",
       "  '什刹海',\n",
       "  '南锣鼓巷',\n",
       "  '中国美术馆'],\n",
       " '北京地铁9号线': ['郭公庄',\n",
       "  '丰台科技园',\n",
       "  '科怡路',\n",
       "  '丰台南路',\n",
       "  '丰台东大街',\n",
       "  '七里庄',\n",
       "  '六里桥',\n",
       "  '六里桥东',\n",
       "  '北京西站',\n",
       "  '军事博物馆',\n",
       "  '白堆子',\n",
       "  '白石桥南',\n",
       "  '国家图书馆'],\n",
       " '北京地铁10号线外环': ['巴沟',\n",
       "  '火器营',\n",
       "  '长春桥',\n",
       "  '车道沟',\n",
       "  '慈寿寺',\n",
       "  '西钓鱼台',\n",
       "  '公主坟',\n",
       "  '莲花桥',\n",
       "  '六里桥',\n",
       "  '西局',\n",
       "  '泥洼',\n",
       "  '丰台',\n",
       "  '首经贸',\n",
       "  '纪家庙',\n",
       "  '草桥',\n",
       "  '角门西',\n",
       "  '角门东',\n",
       "  '大红门',\n",
       "  '石榴庄',\n",
       "  '宋家庄',\n",
       "  '成寿寺',\n",
       "  '分钟寺',\n",
       "  '十里河',\n",
       "  '潘家园',\n",
       "  '劲松',\n",
       "  '双井',\n",
       "  '国贸',\n",
       "  '金台夕照',\n",
       "  '呼家楼',\n",
       "  '团结湖',\n",
       "  '农业展览馆',\n",
       "  '亮马桥',\n",
       "  '三元桥',\n",
       "  '太阳宫',\n",
       "  '芍药居',\n",
       "  '惠新西街南口',\n",
       "  '安贞门',\n",
       "  '北土城',\n",
       "  '健德门',\n",
       "  '牡丹园',\n",
       "  '西土城',\n",
       "  '知春路',\n",
       "  '知春里',\n",
       "  '海淀黄庄',\n",
       "  '苏州街'],\n",
       " '北京地铁13号线': ['西直门',\n",
       "  '大钟寺',\n",
       "  '知春路',\n",
       "  '五道口',\n",
       "  '上地',\n",
       "  '西二旗',\n",
       "  '龙泽',\n",
       "  '回龙观',\n",
       "  '霍营',\n",
       "  '立水桥',\n",
       "  '北苑',\n",
       "  '望京西',\n",
       "  '芍药居',\n",
       "  '光熙门',\n",
       "  '柳芳',\n",
       "  '东直门'],\n",
       " '北京地铁14号线东段': ['北京南站',\n",
       "  '永定门外',\n",
       "  '景泰',\n",
       "  '蒲黄榆',\n",
       "  '方庄',\n",
       "  '十里河',\n",
       "  '北工大西门',\n",
       "  '九龙山',\n",
       "  '大望路',\n",
       "  '金台路',\n",
       "  '朝阳公园',\n",
       "  '枣营',\n",
       "  '东风北桥',\n",
       "  '将台',\n",
       "  '望京南',\n",
       "  '阜通',\n",
       "  '望京',\n",
       "  '东湖渠',\n",
       "  '来广营',\n",
       "  '善各庄'],\n",
       " '北京地铁14号线（西段）': ['张郭庄', '园博园', '大瓦窑', '郭庄子', '大井', '七里庄', '西局'],\n",
       " '北京地铁15号线': ['俸伯',\n",
       "  '顺义',\n",
       "  '石门',\n",
       "  '南法信',\n",
       "  '后沙峪',\n",
       "  '花梨坎',\n",
       "  '国展',\n",
       "  '孙河',\n",
       "  '马泉营',\n",
       "  '崔各庄',\n",
       "  '望京东',\n",
       "  '望京',\n",
       "  '望京西',\n",
       "  '关庄',\n",
       "  '大屯路东',\n",
       "  '安立路',\n",
       "  '奥林匹克公园',\n",
       "  '北沙滩',\n",
       "  '六道口',\n",
       "  '清华东路西口'],\n",
       " '北京地铁16号线': ['西苑',\n",
       "  '农大南路',\n",
       "  '马连洼',\n",
       "  '西北旺',\n",
       "  '永丰南',\n",
       "  '永丰',\n",
       "  '屯佃',\n",
       "  '稻香湖路',\n",
       "  '温阳路',\n",
       "  '北安河'],\n",
       " '北京地铁S1号线': ['金安桥', '四道桥', '桥户营', '上岸', '栗园庄', '小园', '石厂'],\n",
       " '北京地铁S2号线': ['延庆', '八达岭', '南口', '霍营'],\n",
       " '北京地铁八通线': ['四惠',\n",
       "  '四惠东',\n",
       "  '高碑店',\n",
       "  '传媒大学',\n",
       "  '双桥',\n",
       "  '管庄',\n",
       "  '八里桥',\n",
       "  '通州北苑',\n",
       "  '果园',\n",
       "  '九棵树',\n",
       "  '梨园',\n",
       "  '临河里',\n",
       "  '土桥'],\n",
       " '北京地铁昌平线': ['昌平西山口',\n",
       "  '十三陵景区',\n",
       "  '昌平',\n",
       "  '昌平东关',\n",
       "  '北邵洼',\n",
       "  '南邵',\n",
       "  '沙河高教园',\n",
       "  '沙河',\n",
       "  '巩华城',\n",
       "  '朱辛庄',\n",
       "  '生命科学园',\n",
       "  '西二旗'],\n",
       " '北京地铁大兴机场线': ['草桥', '大兴新城', '大兴机场'],\n",
       " '北京地铁房山线': ['阎村东',\n",
       "  '苏庄',\n",
       "  '良乡南关',\n",
       "  '良乡大学城西',\n",
       "  '良乡大学城',\n",
       "  '良乡大学城北',\n",
       "  '广阳城',\n",
       "  '篱笆房',\n",
       "  '长阳',\n",
       "  '稻田',\n",
       "  '大葆台',\n",
       "  '郭公庄'],\n",
       " '北京地铁首都机场线': ['东直门', '三元桥', 'T3航站楼', 'T2航站楼'],\n",
       " '北京地铁西郊线': ['香山', '植物园', '万安', '茶棚', '颐和园西门', '巴沟'],\n",
       " '北京地铁燕房线': ['阎村东', '紫草坞', '阎村', '星城', '大石河东', '马各庄', '饶乐府', '房山城关', '燕山'],\n",
       " '北京地铁亦庄线': ['宋家庄',\n",
       "  '肖村',\n",
       "  '小红门',\n",
       "  '旧宫',\n",
       "  '亦庄桥',\n",
       "  '亦庄文化园',\n",
       "  '万源街',\n",
       "  '荣京东街',\n",
       "  '荣昌东街',\n",
       "  '同济南路',\n",
       "  '经海路',\n",
       "  '次渠南',\n",
       "  '次渠',\n",
       "  '亦庄火车站']}"
      ]
     },
     "execution_count": 10,
     "metadata": {},
     "output_type": "execute_result"
    }
   ],
   "source": [
    "line_dict"
   ]
  },
  {
   "cell_type": "markdown",
   "metadata": {},
   "source": [
    "##### 2. Preprocessing data"
   ]
  },
  {
   "cell_type": "markdown",
   "metadata": {},
   "source": [
    "Some tips:"
   ]
  },
  {
   "cell_type": "markdown",
   "metadata": {},
   "source": [
    "a. Find a suitable way to save the data you get from the web. (Note: The way you use to save the data should be able to be used to create the graph that your agent is going to explore)"
   ]
  },
  {
   "cell_type": "code",
   "execution_count": 28,
   "metadata": {},
   "outputs": [],
   "source": [
    "graph_list = [el for el in line_dict.values()]\n",
    "graph = {}"
   ]
  },
  {
   "cell_type": "code",
   "execution_count": 29,
   "metadata": {},
   "outputs": [],
   "source": [
    "for line in graph_list:\n",
    "    for i in range(len(line)):\n",
    "        avaliable_station_index = [index for index in [i-1, i+1] if 0 <= index <len(line)]\n",
    "        avaliable_station = [line[index] for index in avaliable_station_index]\n",
    "        graph.setdefault(line[i], []).extend(avaliable_station)"
   ]
  },
  {
   "cell_type": "code",
   "execution_count": 30,
   "metadata": {},
   "outputs": [
    {
     "data": {
      "text/plain": [
       "{'古城': ['八角游乐园'],\n",
       " '八角游乐园': ['古城', '八宝山'],\n",
       " '八宝山': ['八角游乐园', '玉泉路'],\n",
       " '玉泉路': ['八宝山', '五棵松'],\n",
       " '五棵松': ['玉泉路', '万寿路'],\n",
       " '万寿路': ['五棵松', '公主坟'],\n",
       " '公主坟': ['万寿路', '军事博物馆', '西钓鱼台', '莲花桥'],\n",
       " '军事博物馆': ['公主坟', '木樨地', '北京西站', '白堆子'],\n",
       " '木樨地': ['军事博物馆', '南礼士路'],\n",
       " '南礼士路': ['木樨地', '复兴门'],\n",
       " '复兴门': ['南礼士路', '西单', '阜成门', '长椿街'],\n",
       " '西单': ['复兴门', '天安门西', '灵境胡同', '宣武门'],\n",
       " '天安门西': ['西单', '天安门东'],\n",
       " '天安门东': ['天安门西', '王府井'],\n",
       " '王府井': ['天安门东', '东单'],\n",
       " '东单': ['王府井', '建国门', '崇文门', '灯市口'],\n",
       " '建国门': ['东单', '永安里', '北京站', '朝阳门'],\n",
       " '永安里': ['建国门', '国贸'],\n",
       " '国贸': ['永安里', '大望路', '双井', '金台夕照'],\n",
       " '大望路': ['国贸', '四惠', '九龙山', '金台路'],\n",
       " '四惠': ['大望路', '四惠东', '四惠东'],\n",
       " '四惠东': ['四惠', '四惠', '高碑店'],\n",
       " '西直门': ['车公庄', '动物园', '新街口', '大钟寺'],\n",
       " '车公庄': ['西直门', '阜成门', '车公庄西', '平安里'],\n",
       " '阜成门': ['车公庄', '复兴门'],\n",
       " '长椿街': ['复兴门', '宣武门'],\n",
       " '宣武门': ['长椿街', '和平门', '西单', '菜市口'],\n",
       " '和平门': ['宣武门', '前门'],\n",
       " '前门': ['和平门', '崇文门'],\n",
       " '崇文门': ['前门', '北京站', '磁器口', '东单'],\n",
       " '北京站': ['崇文门', '建国门'],\n",
       " '朝阳门': ['建国门', '东四十条', '东四', '东大桥'],\n",
       " '东四十条': ['朝阳门', '东直门'],\n",
       " '东直门': ['东四十条', '雍和宫', '柳芳', '三元桥'],\n",
       " '雍和宫': ['东直门', '安定门', '北新桥', '和平里北街'],\n",
       " '安定门': ['雍和宫', '鼓楼大街'],\n",
       " '鼓楼大街': ['安定门', '积水潭', '安德里北街', '什刹海'],\n",
       " '积水潭': ['鼓楼大街'],\n",
       " '安河桥北': ['北宫门'],\n",
       " '北宫门': ['安河桥北', '西苑'],\n",
       " '西苑': ['北宫门', '圆明园', '农大南路'],\n",
       " '圆明园': ['西苑', '北京大学东门'],\n",
       " '北京大学东门': ['圆明园', '中关村'],\n",
       " '中关村': ['北京大学东门', '海淀黄庄'],\n",
       " '海淀黄庄': ['中关村', '人民大学', '知春里', '苏州街'],\n",
       " '人民大学': ['海淀黄庄', '魏公村'],\n",
       " '魏公村': ['人民大学', '国家图书馆'],\n",
       " '国家图书馆': ['魏公村', '动物园', '白石桥南'],\n",
       " '动物园': ['国家图书馆', '西直门'],\n",
       " '新街口': ['西直门', '平安里'],\n",
       " '平安里': ['新街口', '西四', '车公庄', '北海北'],\n",
       " '西四': ['平安里', '灵境胡同'],\n",
       " '灵境胡同': ['西四', '西单'],\n",
       " '菜市口': ['宣武门', '陶然亭', '广安门内', '虎坊桥'],\n",
       " '陶然亭': ['菜市口', '北京南站'],\n",
       " '北京南站': ['陶然亭', '马家堡', '永定门外'],\n",
       " '马家堡': ['北京南站', '角门西'],\n",
       " '角门西': ['马家堡', '公益西桥', '草桥', '角门东'],\n",
       " '公益西桥': ['角门西', '新宫'],\n",
       " '新宫': ['公益西桥', '西红门'],\n",
       " '西红门': ['新宫', '高米店北'],\n",
       " '高米店北': ['西红门', '高米店南'],\n",
       " '高米店南': ['高米店北', '枣园'],\n",
       " '枣园': ['高米店南', '清源路'],\n",
       " '清源路': ['枣园', '黄村西大街'],\n",
       " '黄村西大街': ['清源路', '黄村火车站'],\n",
       " '黄村火车站': ['黄村西大街', '义和庄'],\n",
       " '义和庄': ['黄村火车站', '生物医药基地'],\n",
       " '生物医药基地': ['义和庄', '天宫院'],\n",
       " '天宫院': ['生物医药基地'],\n",
       " '宋家庄': ['刘家窑', '石榴庄', '成寿寺', '肖村'],\n",
       " '刘家窑': ['宋家庄', '蒲黄榆'],\n",
       " '蒲黄榆': ['刘家窑', '天坛东门', '景泰', '方庄'],\n",
       " '天坛东门': ['蒲黄榆', '磁器口'],\n",
       " '磁器口': ['天坛东门', '崇文门', '桥湾', '广渠门内'],\n",
       " '灯市口': ['东单', '东四'],\n",
       " '东四': ['灯市口', '张自忠路', '南锣鼓巷', '朝阳门'],\n",
       " '张自忠路': ['东四', '北新桥'],\n",
       " '北新桥': ['张自忠路', '雍和宫'],\n",
       " '和平里北街': ['雍和宫', '和平西桥'],\n",
       " '和平西桥': ['和平里北街', '惠新西街南口'],\n",
       " '惠新西街南口': ['和平西桥', '惠新西街北口', '芍药居', '安贞门'],\n",
       " '惠新西街北口': ['惠新西街南口', '大屯路东'],\n",
       " '大屯路东': ['惠新西街北口', '北苑路北', '关庄', '安立路'],\n",
       " '北苑路北': ['大屯路东', '立水桥南'],\n",
       " '立水桥南': ['北苑路北', '立水桥'],\n",
       " '立水桥': ['立水桥南', '天通苑南', '霍营', '北苑'],\n",
       " '天通苑南': ['立水桥', '天通苑'],\n",
       " '天通苑': ['天通苑南', '天通苑北'],\n",
       " '天通苑北': ['天通苑'],\n",
       " '金安桥': ['杨庄', '四道桥'],\n",
       " '杨庄': ['金安桥', '西黄村'],\n",
       " '西黄村': ['杨庄', '廖公庄'],\n",
       " '廖公庄': ['西黄村', '田村'],\n",
       " '田村': ['廖公庄', '海淀五路居'],\n",
       " '海淀五路居': ['田村', '慈寿寺'],\n",
       " '慈寿寺': ['海淀五路居', '花园桥', '车道沟', '西钓鱼台'],\n",
       " '花园桥': ['慈寿寺', '白石桥南'],\n",
       " '白石桥南': ['花园桥', '车公庄西', '白堆子', '国家图书馆'],\n",
       " '车公庄西': ['白石桥南', '车公庄'],\n",
       " '北海北': ['平安里', '南锣鼓巷'],\n",
       " '南锣鼓巷': ['北海北', '东四', '什刹海', '中国美术馆'],\n",
       " '东大桥': ['朝阳门', '呼家楼'],\n",
       " '呼家楼': ['东大桥', '金台路', '金台夕照', '团结湖'],\n",
       " '金台路': ['呼家楼', '十里堡', '大望路', '朝阳公园'],\n",
       " '十里堡': ['金台路', '青年路'],\n",
       " '青年路': ['十里堡', '褡裢坡'],\n",
       " '褡裢坡': ['青年路', '黄渠'],\n",
       " '黄渠': ['褡裢坡', '常营'],\n",
       " '常营': ['黄渠', '草房'],\n",
       " '草房': ['常营', '物资学院路'],\n",
       " '物资学院路': ['草房', '通州北关'],\n",
       " '通州北关': ['物资学院路', '北运河西'],\n",
       " '北运河西': ['通州北关', '北运河东'],\n",
       " '北运河东': ['北运河西', '郝家府'],\n",
       " '郝家府': ['北运河东', '东夏园'],\n",
       " '东夏园': ['郝家府', '潞城'],\n",
       " '潞城': ['东夏园'],\n",
       " '北京西站': ['湾子', '六里桥东', '军事博物馆'],\n",
       " '湾子': ['北京西站', '达官营'],\n",
       " '达官营': ['湾子', '广安门内'],\n",
       " '广安门内': ['达官营', '菜市口'],\n",
       " '虎坊桥': ['菜市口', '珠市口'],\n",
       " '珠市口': ['虎坊桥', '桥湾', '天桥'],\n",
       " '桥湾': ['珠市口', '磁器口'],\n",
       " '广渠门内': ['磁器口', '广渠门外'],\n",
       " '广渠门外': ['广渠门内', '九龙山'],\n",
       " '九龙山': ['广渠门外', '大郊亭', '北工大西门', '大望路'],\n",
       " '大郊亭': ['九龙山', '百子湾'],\n",
       " '百子湾': ['大郊亭', '化工'],\n",
       " '化工': ['百子湾', '南楼梓庄'],\n",
       " '南楼梓庄': ['化工', '欢乐谷景区'],\n",
       " '欢乐谷景区': ['南楼梓庄', '垡头'],\n",
       " '垡头': ['欢乐谷景区', '双合'],\n",
       " '双合': ['垡头', '焦化厂'],\n",
       " '焦化厂': ['双合'],\n",
       " '瀛海': ['德茂'],\n",
       " '德茂': ['瀛海', '五福堂'],\n",
       " '五福堂': ['德茂', '火箭万源'],\n",
       " '火箭万源': ['五福堂', '东高地'],\n",
       " '东高地': ['火箭万源', '和义'],\n",
       " '和义': ['东高地', '大红门南'],\n",
       " '大红门南': ['和义', '大红门'],\n",
       " '大红门': ['大红门南', '海户屯', '角门东', '石榴庄'],\n",
       " '海户屯': ['大红门', '木樨园'],\n",
       " '木樨园': ['海户屯', '永定门外'],\n",
       " '永定门外': ['木樨园', '天桥', '北京南站', '景泰'],\n",
       " '天桥': ['永定门外', '珠市口'],\n",
       " '朱辛庄': ['育知路', '巩华城', '生命科学园'],\n",
       " '育知路': ['朱辛庄', '平西府'],\n",
       " '平西府': ['育知路', '回龙观东大街'],\n",
       " '回龙观东大街': ['平西府', '霍营'],\n",
       " '霍营': ['回龙观东大街', '育新', '回龙观', '立水桥', '南口'],\n",
       " '育新': ['霍营', '西小口'],\n",
       " '西小口': ['育新', '永泰庄'],\n",
       " '永泰庄': ['西小口', '林萃桥'],\n",
       " '林萃桥': ['永泰庄', '森林公园南门'],\n",
       " '森林公园南门': ['林萃桥', '奥林匹克公园'],\n",
       " '奥林匹克公园': ['森林公园南门', '奥体中心', '安立路', '北沙滩'],\n",
       " '奥体中心': ['奥林匹克公园', '北土城'],\n",
       " '北土城': ['奥体中心', '安华桥', '安贞门', '健德门'],\n",
       " '安华桥': ['北土城', '安德里北街'],\n",
       " '安德里北街': ['安华桥', '鼓楼大街'],\n",
       " '什刹海': ['鼓楼大街', '南锣鼓巷'],\n",
       " '中国美术馆': ['南锣鼓巷'],\n",
       " '郭公庄': ['丰台科技园', '大葆台'],\n",
       " '丰台科技园': ['郭公庄', '科怡路'],\n",
       " '科怡路': ['丰台科技园', '丰台南路'],\n",
       " '丰台南路': ['科怡路', '丰台东大街'],\n",
       " '丰台东大街': ['丰台南路', '七里庄'],\n",
       " '七里庄': ['丰台东大街', '六里桥', '大井', '西局'],\n",
       " '六里桥': ['七里庄', '六里桥东', '莲花桥', '西局'],\n",
       " '六里桥东': ['六里桥', '北京西站'],\n",
       " '白堆子': ['军事博物馆', '白石桥南'],\n",
       " '巴沟': ['火器营', '颐和园西门'],\n",
       " '火器营': ['巴沟', '长春桥'],\n",
       " '长春桥': ['火器营', '车道沟'],\n",
       " '车道沟': ['长春桥', '慈寿寺'],\n",
       " '西钓鱼台': ['慈寿寺', '公主坟'],\n",
       " '莲花桥': ['公主坟', '六里桥'],\n",
       " '西局': ['六里桥', '泥洼', '七里庄'],\n",
       " '泥洼': ['西局', '丰台'],\n",
       " '丰台': ['泥洼', '首经贸'],\n",
       " '首经贸': ['丰台', '纪家庙'],\n",
       " '纪家庙': ['首经贸', '草桥'],\n",
       " '草桥': ['纪家庙', '角门西', '大兴新城'],\n",
       " '角门东': ['角门西', '大红门'],\n",
       " '石榴庄': ['大红门', '宋家庄'],\n",
       " '成寿寺': ['宋家庄', '分钟寺'],\n",
       " '分钟寺': ['成寿寺', '十里河'],\n",
       " '十里河': ['分钟寺', '潘家园', '方庄', '北工大西门'],\n",
       " '潘家园': ['十里河', '劲松'],\n",
       " '劲松': ['潘家园', '双井'],\n",
       " '双井': ['劲松', '国贸'],\n",
       " '金台夕照': ['国贸', '呼家楼'],\n",
       " '团结湖': ['呼家楼', '农业展览馆'],\n",
       " '农业展览馆': ['团结湖', '亮马桥'],\n",
       " '亮马桥': ['农业展览馆', '三元桥'],\n",
       " '三元桥': ['亮马桥', '太阳宫', '东直门', 'T3航站楼'],\n",
       " '太阳宫': ['三元桥', '芍药居'],\n",
       " '芍药居': ['太阳宫', '惠新西街南口', '望京西', '光熙门'],\n",
       " '安贞门': ['惠新西街南口', '北土城'],\n",
       " '健德门': ['北土城', '牡丹园'],\n",
       " '牡丹园': ['健德门', '西土城'],\n",
       " '西土城': ['牡丹园', '知春路'],\n",
       " '知春路': ['西土城', '知春里', '大钟寺', '五道口'],\n",
       " '知春里': ['知春路', '海淀黄庄'],\n",
       " '苏州街': ['海淀黄庄'],\n",
       " '大钟寺': ['西直门', '知春路'],\n",
       " '五道口': ['知春路', '上地'],\n",
       " '上地': ['五道口', '西二旗'],\n",
       " '西二旗': ['上地', '龙泽', '生命科学园'],\n",
       " '龙泽': ['西二旗', '回龙观'],\n",
       " '回龙观': ['龙泽', '霍营'],\n",
       " '北苑': ['立水桥', '望京西'],\n",
       " '望京西': ['北苑', '芍药居', '望京', '关庄'],\n",
       " '光熙门': ['芍药居', '柳芳'],\n",
       " '柳芳': ['光熙门', '东直门'],\n",
       " '景泰': ['永定门外', '蒲黄榆'],\n",
       " '方庄': ['蒲黄榆', '十里河'],\n",
       " '北工大西门': ['十里河', '九龙山'],\n",
       " '朝阳公园': ['金台路', '枣营'],\n",
       " '枣营': ['朝阳公园', '东风北桥'],\n",
       " '东风北桥': ['枣营', '将台'],\n",
       " '将台': ['东风北桥', '望京南'],\n",
       " '望京南': ['将台', '阜通'],\n",
       " '阜通': ['望京南', '望京'],\n",
       " '望京': ['阜通', '东湖渠', '望京东', '望京西'],\n",
       " '东湖渠': ['望京', '来广营'],\n",
       " '来广营': ['东湖渠', '善各庄'],\n",
       " '善各庄': ['来广营'],\n",
       " '张郭庄': ['园博园'],\n",
       " '园博园': ['张郭庄', '大瓦窑'],\n",
       " '大瓦窑': ['园博园', '郭庄子'],\n",
       " '郭庄子': ['大瓦窑', '大井'],\n",
       " '大井': ['郭庄子', '七里庄'],\n",
       " '俸伯': ['顺义'],\n",
       " '顺义': ['俸伯', '石门'],\n",
       " '石门': ['顺义', '南法信'],\n",
       " '南法信': ['石门', '后沙峪'],\n",
       " '后沙峪': ['南法信', '花梨坎'],\n",
       " '花梨坎': ['后沙峪', '国展'],\n",
       " '国展': ['花梨坎', '孙河'],\n",
       " '孙河': ['国展', '马泉营'],\n",
       " '马泉营': ['孙河', '崔各庄'],\n",
       " '崔各庄': ['马泉营', '望京东'],\n",
       " '望京东': ['崔各庄', '望京'],\n",
       " '关庄': ['望京西', '大屯路东'],\n",
       " '安立路': ['大屯路东', '奥林匹克公园'],\n",
       " '北沙滩': ['奥林匹克公园', '六道口'],\n",
       " '六道口': ['北沙滩', '清华东路西口'],\n",
       " '清华东路西口': ['六道口'],\n",
       " '农大南路': ['西苑', '马连洼'],\n",
       " '马连洼': ['农大南路', '西北旺'],\n",
       " '西北旺': ['马连洼', '永丰南'],\n",
       " '永丰南': ['西北旺', '永丰'],\n",
       " '永丰': ['永丰南', '屯佃'],\n",
       " '屯佃': ['永丰', '稻香湖路'],\n",
       " '稻香湖路': ['屯佃', '温阳路'],\n",
       " '温阳路': ['稻香湖路', '北安河'],\n",
       " '北安河': ['温阳路'],\n",
       " '四道桥': ['金安桥', '桥户营'],\n",
       " '桥户营': ['四道桥', '上岸'],\n",
       " '上岸': ['桥户营', '栗园庄'],\n",
       " '栗园庄': ['上岸', '小园'],\n",
       " '小园': ['栗园庄', '石厂'],\n",
       " '石厂': ['小园'],\n",
       " '延庆': ['八达岭'],\n",
       " '八达岭': ['延庆', '南口'],\n",
       " '南口': ['八达岭', '霍营'],\n",
       " '高碑店': ['四惠东', '传媒大学'],\n",
       " '传媒大学': ['高碑店', '双桥'],\n",
       " '双桥': ['传媒大学', '管庄'],\n",
       " '管庄': ['双桥', '八里桥'],\n",
       " '八里桥': ['管庄', '通州北苑'],\n",
       " '通州北苑': ['八里桥', '果园'],\n",
       " '果园': ['通州北苑', '九棵树'],\n",
       " '九棵树': ['果园', '梨园'],\n",
       " '梨园': ['九棵树', '临河里'],\n",
       " '临河里': ['梨园', '土桥'],\n",
       " '土桥': ['临河里'],\n",
       " '昌平西山口': ['十三陵景区'],\n",
       " '十三陵景区': ['昌平西山口', '昌平'],\n",
       " '昌平': ['十三陵景区', '昌平东关'],\n",
       " '昌平东关': ['昌平', '北邵洼'],\n",
       " '北邵洼': ['昌平东关', '南邵'],\n",
       " '南邵': ['北邵洼', '沙河高教园'],\n",
       " '沙河高教园': ['南邵', '沙河'],\n",
       " '沙河': ['沙河高教园', '巩华城'],\n",
       " '巩华城': ['沙河', '朱辛庄'],\n",
       " '生命科学园': ['朱辛庄', '西二旗'],\n",
       " '大兴新城': ['草桥', '大兴机场'],\n",
       " '大兴机场': ['大兴新城'],\n",
       " '阎村东': ['苏庄', '紫草坞'],\n",
       " '苏庄': ['阎村东', '良乡南关'],\n",
       " '良乡南关': ['苏庄', '良乡大学城西'],\n",
       " '良乡大学城西': ['良乡南关', '良乡大学城'],\n",
       " '良乡大学城': ['良乡大学城西', '良乡大学城北'],\n",
       " '良乡大学城北': ['良乡大学城', '广阳城'],\n",
       " '广阳城': ['良乡大学城北', '篱笆房'],\n",
       " '篱笆房': ['广阳城', '长阳'],\n",
       " '长阳': ['篱笆房', '稻田'],\n",
       " '稻田': ['长阳', '大葆台'],\n",
       " '大葆台': ['稻田', '郭公庄'],\n",
       " 'T3航站楼': ['三元桥', 'T2航站楼'],\n",
       " 'T2航站楼': ['T3航站楼'],\n",
       " '香山': ['植物园'],\n",
       " '植物园': ['香山', '万安'],\n",
       " '万安': ['植物园', '茶棚'],\n",
       " '茶棚': ['万安', '颐和园西门'],\n",
       " '颐和园西门': ['茶棚', '巴沟'],\n",
       " '紫草坞': ['阎村东', '阎村'],\n",
       " '阎村': ['紫草坞', '星城'],\n",
       " '星城': ['阎村', '大石河东'],\n",
       " '大石河东': ['星城', '马各庄'],\n",
       " '马各庄': ['大石河东', '饶乐府'],\n",
       " '饶乐府': ['马各庄', '房山城关'],\n",
       " '房山城关': ['饶乐府', '燕山'],\n",
       " '燕山': ['房山城关'],\n",
       " '肖村': ['宋家庄', '小红门'],\n",
       " '小红门': ['肖村', '旧宫'],\n",
       " '旧宫': ['小红门', '亦庄桥'],\n",
       " '亦庄桥': ['旧宫', '亦庄文化园'],\n",
       " '亦庄文化园': ['亦庄桥', '万源街'],\n",
       " '万源街': ['亦庄文化园', '荣京东街'],\n",
       " '荣京东街': ['万源街', '荣昌东街'],\n",
       " '荣昌东街': ['荣京东街', '同济南路'],\n",
       " '同济南路': ['荣昌东街', '经海路'],\n",
       " '经海路': ['同济南路', '次渠南'],\n",
       " '次渠南': ['经海路', '次渠'],\n",
       " '次渠': ['次渠南', '亦庄火车站'],\n",
       " '亦庄火车站': ['次渠']}"
      ]
     },
     "execution_count": 30,
     "metadata": {},
     "output_type": "execute_result"
    }
   ],
   "source": [
    "graph"
   ]
  },
  {
   "cell_type": "markdown",
   "metadata": {},
   "source": [
    "#### 3. Build the search agent"
   ]
  },
  {
   "cell_type": "markdown",
   "metadata": {},
   "source": [
    "Build the search agent based ont he graph you built."
   ]
  },
  {
   "cell_type": "markdown",
   "metadata": {},
   "source": [
    "for example, if you use Beijing subway graoh, and you run:"
   ]
  },
  {
   "cell_type": "markdown",
   "metadata": {},
   "source": [
    "\\>>> search(\"奥体中心“，”天安门“）"
   ]
  },
  {
   "cell_type": "markdown",
   "metadata": {},
   "source": [
    "You should get the result as follows: 奥体中心 -> A ->B ->C ... -> 天安门"
   ]
  },
  {
   "cell_type": "code",
   "execution_count": 32,
   "metadata": {},
   "outputs": [],
   "source": [
    "def search(graph, start, destination, search_method):\n",
    "    assert destination in graph\n",
    "    \n",
    "    def new_path(path, next_station):\n",
    "        path = [path + [station] for station in next_station]\n",
    "        return path\n",
    "    \n",
    "    def dfs(pathes, path, next_station):\n",
    "        pathes = new_path(path, next_station) + pathes\n",
    "        return pathes\n",
    "    \n",
    "    def bfs(pathes, path, next_station):\n",
    "        pathes = pathes + new_path(path, next_station)\n",
    "        return pathes\n",
    "    \n",
    "    search_method_factory = {\n",
    "        'DFS': dfs,\n",
    "        'BFS': bfs\n",
    "    }\n",
    "    assert search_method in search_method_factory, 'search methos: bfs, dfs'\n",
    "    search_method = search_method_factory[search_method]\n",
    "    \n",
    "    pathes = [[start]]\n",
    "    while pathes:\n",
    "        path = pathes.pop(0)\n",
    "        next_station = graph[path[-1]]\n",
    "        next_station = [station for station in next_station if station not in path]\n",
    "        if not next_station: continue\n",
    "        \n",
    "        if destination in next_station:\n",
    "            path.append(destination)\n",
    "            return path\n",
    "        \n",
    "        pathes = search_method(pathes, path, next_station)\n",
    "        \n",
    "    return 'we can not go to the place'"
   ]
  },
  {
   "cell_type": "code",
   "execution_count": 34,
   "metadata": {},
   "outputs": [
    {
     "data": {
      "text/plain": [
       "['公主坟',\n",
       " '军事博物馆',\n",
       " '木樨地',\n",
       " '南礼士路',\n",
       " '复兴门',\n",
       " '西单',\n",
       " '天安门西',\n",
       " '天安门东',\n",
       " '王府井',\n",
       " '东单',\n",
       " '建国门',\n",
       " '永安里',\n",
       " '国贸',\n",
       " '大望路',\n",
       " '金台路',\n",
       " '呼家楼',\n",
       " '团结湖']"
      ]
     },
     "execution_count": 34,
     "metadata": {},
     "output_type": "execute_result"
    }
   ],
   "source": [
    "search(graph, '公主坟', '团结湖', 'DFS')"
   ]
  },
  {
   "cell_type": "code",
   "execution_count": 35,
   "metadata": {},
   "outputs": [
    {
     "data": {
      "text/plain": [
       "['公主坟',\n",
       " '军事博物馆',\n",
       " '白堆子',\n",
       " '白石桥南',\n",
       " '车公庄西',\n",
       " '车公庄',\n",
       " '平安里',\n",
       " '北海北',\n",
       " '南锣鼓巷',\n",
       " '东四',\n",
       " '朝阳门',\n",
       " '东大桥',\n",
       " '呼家楼',\n",
       " '团结湖']"
      ]
     },
     "execution_count": 35,
     "metadata": {},
     "output_type": "execute_result"
    }
   ],
   "source": [
    "search(graph, '公主坟', '团结湖', 'BFS')"
   ]
  },
  {
   "cell_type": "code",
   "execution_count": 40,
   "metadata": {},
   "outputs": [
    {
     "data": {
      "text/plain": [
       "['瀛海',\n",
       " '德茂',\n",
       " '五福堂',\n",
       " '火箭万源',\n",
       " '东高地',\n",
       " '和义',\n",
       " '大红门南',\n",
       " '大红门',\n",
       " '海户屯',\n",
       " '木樨园',\n",
       " '永定门外',\n",
       " '天桥',\n",
       " '珠市口',\n",
       " '虎坊桥',\n",
       " '菜市口',\n",
       " '宣武门',\n",
       " '长椿街',\n",
       " '复兴门',\n",
       " '南礼士路',\n",
       " '木樨地',\n",
       " '军事博物馆',\n",
       " '公主坟',\n",
       " '西钓鱼台',\n",
       " '慈寿寺',\n",
       " '花园桥',\n",
       " '白石桥南',\n",
       " '车公庄西',\n",
       " '车公庄',\n",
       " '西直门',\n",
       " '动物园',\n",
       " '国家图书馆',\n",
       " '魏公村',\n",
       " '人民大学',\n",
       " '海淀黄庄',\n",
       " '知春里',\n",
       " '知春路',\n",
       " '西土城',\n",
       " '牡丹园',\n",
       " '健德门',\n",
       " '北土城',\n",
       " '奥体中心',\n",
       " '奥林匹克公园',\n",
       " '森林公园南门',\n",
       " '林萃桥',\n",
       " '永泰庄',\n",
       " '西小口',\n",
       " '育新',\n",
       " '霍营',\n",
       " '立水桥',\n",
       " '立水桥南',\n",
       " '北苑路北',\n",
       " '大屯路东',\n",
       " '惠新西街北口',\n",
       " '惠新西街南口',\n",
       " '和平西桥',\n",
       " '和平里北街',\n",
       " '雍和宫',\n",
       " '东直门',\n",
       " '东四十条',\n",
       " '朝阳门',\n",
       " '东大桥']"
      ]
     },
     "execution_count": 40,
     "metadata": {},
     "output_type": "execute_result"
    }
   ],
   "source": [
    "search(graph, '瀛海', '东大桥', 'DFS')"
   ]
  },
  {
   "cell_type": "code",
   "execution_count": 41,
   "metadata": {},
   "outputs": [
    {
     "data": {
      "text/plain": [
       "['瀛海',\n",
       " '德茂',\n",
       " '五福堂',\n",
       " '火箭万源',\n",
       " '东高地',\n",
       " '和义',\n",
       " '大红门南',\n",
       " '大红门',\n",
       " '石榴庄',\n",
       " '宋家庄',\n",
       " '刘家窑',\n",
       " '蒲黄榆',\n",
       " '天坛东门',\n",
       " '磁器口',\n",
       " '崇文门',\n",
       " '北京站',\n",
       " '建国门',\n",
       " '朝阳门',\n",
       " '东大桥']"
      ]
     },
     "execution_count": 41,
     "metadata": {},
     "output_type": "execute_result"
    }
   ],
   "source": [
    "search(graph, '瀛海', '东大桥', 'BFS')"
   ]
  },
  {
   "cell_type": "code",
   "execution_count": null,
   "metadata": {},
   "outputs": [],
   "source": []
  },
  {
   "cell_type": "code",
   "execution_count": null,
   "metadata": {},
   "outputs": [],
   "source": []
  },
  {
   "cell_type": "markdown",
   "metadata": {},
   "source": [
    "### (Optional) Improve your agent to make it able to find a path based on different strategies"
   ]
  },
  {
   "cell_type": "markdown",
   "metadata": {},
   "source": [
    "Some ideas you might want to try:"
   ]
  },
  {
   "cell_type": "markdown",
   "metadata": {},
   "source": [
    "a. Find the shortest path between two stations."
   ]
  },
  {
   "cell_type": "markdown",
   "metadata": {},
   "source": [
    "b. Find the path that requires minimum transfers between two stations."
   ]
  },
  {
   "cell_type": "markdown",
   "metadata": {},
   "source": [
    "c. Combine the previous two ideas, find a more suitable path."
   ]
  },
  {
   "cell_type": "markdown",
   "metadata": {},
   "source": [
    "Compare your results with results obtained by using some apps such as Baidu map, A map, Google map or Apple map. If there is difference, try to explanate it."
   ]
  },
  {
   "cell_type": "markdown",
   "metadata": {},
   "source": [
    "## Congratulations ! You have finished the assignment of week 2."
   ]
  },
  {
   "cell_type": "markdown",
   "metadata": {},
   "source": [
    "![title](img/agent.png)"
   ]
  },
  {
   "cell_type": "markdown",
   "metadata": {},
   "source": [
    "### If you have any suggestions regarding the teaching, please feel free to send them to my eamil (eric.lee.xiao@gmail.com) "
   ]
  },
  {
   "cell_type": "code",
   "execution_count": null,
   "metadata": {},
   "outputs": [],
   "source": []
  }
 ],
 "metadata": {
  "kernelspec": {
   "display_name": "Python 3",
   "language": "python",
   "name": "python3"
  },
  "language_info": {
   "codemirror_mode": {
    "name": "ipython",
    "version": 3
   },
   "file_extension": ".py",
   "mimetype": "text/x-python",
   "name": "python",
   "nbconvert_exporter": "python",
   "pygments_lexer": "ipython3",
   "version": "3.7.3"
  }
 },
 "nbformat": 4,
 "nbformat_minor": 2
}
